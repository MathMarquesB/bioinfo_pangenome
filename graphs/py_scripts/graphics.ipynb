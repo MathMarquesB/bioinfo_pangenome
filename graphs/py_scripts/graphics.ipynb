{
 "cells": [
  {
   "cell_type": "markdown",
   "id": "2c766272",
   "metadata": {},
   "source": [
    "# Gráficos para a análise do pangenoma bacteriano"
   ]
  },
  {
   "cell_type": "markdown",
   "id": "87d90bbf",
   "metadata": {},
   "source": [
    "## Importações"
   ]
  },
  {
   "cell_type": "code",
   "execution_count": 1,
   "id": "f2ce745e",
   "metadata": {},
   "outputs": [],
   "source": [
    "import pandas as pd\n",
    "from pathlib import Path\n",
    "import plotly.express as px\n",
    "import matplotlib.pyplot as plt\n",
    "import plotly.graph_objects as go"
   ]
  },
  {
   "cell_type": "markdown",
   "id": "7dfeb63a",
   "metadata": {},
   "source": [
    "## Variáveis"
   ]
  },
  {
   "cell_type": "code",
   "execution_count": 2,
   "id": "dd12a5c8",
   "metadata": {},
   "outputs": [],
   "source": [
    "PATH_GRAPHS = Path(f\"{Path.cwd()}//..//graphs\").resolve()\n",
    "# PATH_GRAPHS = Path.cwd() / '..' / 'graphs'\n",
    "df = pd.read_csv('genomes_info.csv', sep=',').fillna('')"
   ]
  },
  {
   "cell_type": "markdown",
   "id": "eda067ee",
   "metadata": {},
   "source": [
    "## Metadados"
   ]
  },
  {
   "cell_type": "markdown",
   "id": "032f2728",
   "metadata": {},
   "source": [
    "### Distribuição por países"
   ]
  },
  {
   "cell_type": "markdown",
   "id": "de4636b7",
   "metadata": {},
   "source": [
    "#### Mapa-mundi: Quais países tiveram mais amostras coletadas"
   ]
  },
  {
   "cell_type": "markdown",
   "id": "fc1473bf",
   "metadata": {},
   "source": [
    "O mapa interativo gerado identifica quais são os pontos de origem dos indivíduos. A temperatura da cor indica a proporcionalidade de amostras coletadas em cada país, sendo mais quente representando um maior número de coletas.\n",
    "Foram utilizados os países como ponto de origem ao invés das coordenadas, pois somente 29 amostras continham este dado."
   ]
  },
  {
   "cell_type": "code",
   "execution_count": 3,
   "id": "c2bc13ac",
   "metadata": {},
   "outputs": [
    {
     "data": {
      "application/vnd.microsoft.datawrangler.viewer.v0+json": {
       "columns": [
        {
         "name": "index",
         "rawType": "int64",
         "type": "integer"
        },
        {
         "name": "ID",
         "rawType": "object",
         "type": "string"
        },
        {
         "name": "GTDB species",
         "rawType": "object",
         "type": "string"
        },
        {
         "name": "GTDB Taxonomy",
         "rawType": "object",
         "type": "string"
        },
        {
         "name": "NCBI Strain Identifiers",
         "rawType": "object",
         "type": "string"
        },
        {
         "name": "CheckM2 Completeness (%)",
         "rawType": "float64",
         "type": "float"
        },
        {
         "name": "CheckM2 Contamination (%)",
         "rawType": "float64",
         "type": "float"
        },
        {
         "name": "Contig Count",
         "rawType": "int64",
         "type": "integer"
        },
        {
         "name": "N50 Contigs (bp)",
         "rawType": "int64",
         "type": "integer"
        },
        {
         "name": "Genome Size (bp)",
         "rawType": "int64",
         "type": "integer"
        },
        {
         "name": "Protein Count",
         "rawType": "int64",
         "type": "integer"
        },
        {
         "name": "Coding Density (%)",
         "rawType": "float64",
         "type": "float"
        },
        {
         "name": "GC Percentage (%)",
         "rawType": "float64",
         "type": "float"
        },
        {
         "name": "Assembly Level",
         "rawType": "object",
         "type": "string"
        },
        {
         "name": "Country",
         "rawType": "object",
         "type": "string"
        },
        {
         "name": "Date",
         "rawType": "object",
         "type": "string"
        },
        {
         "name": "Genome Category",
         "rawType": "object",
         "type": "string"
        },
        {
         "name": "CDS Count",
         "rawType": "object",
         "type": "unknown"
        },
        {
         "name": "Seq Rel Date",
         "rawType": "object",
         "type": "string"
        },
        {
         "name": "Biosample Host",
         "rawType": "object",
         "type": "string"
        },
        {
         "name": "Biosample Geographic Location",
         "rawType": "object",
         "type": "string"
        },
        {
         "name": "Biosample Latitude and Longitude",
         "rawType": "object",
         "type": "string"
        },
        {
         "name": "Biosample Description",
         "rawType": "object",
         "type": "string"
        },
        {
         "name": "LPSN species validation",
         "rawType": "object",
         "type": "string"
        },
        {
         "name": "Biosample Country",
         "rawType": "object",
         "type": "string"
        }
       ],
       "ref": "1d87139e-caf6-4a46-9d3c-955042a442d5",
       "rows": [
        [
         "0",
         "GCF_027474845.2",
         "Maribacter aestuarii",
         "d__Bacteria; p__Bacteroidota; c__Bacteroidia; o__Flavobacteriales; f__Flavobacteriaceae; g__Maribacter; s__Maribacter aestuarii",
         "JCM18631",
         "97.57",
         "0.07",
         "1",
         "3864851",
         "3864851",
         "3616",
         "90.98",
         "39.33",
         "Complete Genome",
         "South Korea: Gwangyang Bay",
         "2023-06-08",
         "Isolate",
         "3490.0",
         "2023-06-08",
         "tidal flat sediment",
         "South Korea: Gwangyang Bay",
         "",
         "Reference: Lo N, Jin HM, Jeon CO. Maribacter aestuarii sp. nov., isolated from tidal flat sediment, and an emended description of the genus Maribacter. Int J Syst Evol Microbiol 2013; 63:3409-3414.",
         "Yes - Maribacter aestuarii",
         "South Korea"
        ],
        [
         "1",
         "GCF_003933245.1",
         "Maribacter algicola",
         "d__Bacteria; p__Bacteroidota; c__Bacteroidia; o__Flavobacteriales; f__Flavobacteriaceae; g__Maribacter; s__Maribacter algicola",
         "PoM-212",
         "100.0",
         "0.12",
         "7",
         "2184756",
         "4114314",
         "3589",
         "91.53",
         "41.0",
         "Contig",
         "South Korea: Incheon",
         "2018-12-10",
         "Isolate",
         "3524.0",
         "2018-12-10",
         "",
         "South Korea: Incheon",
         "",
         "",
         "Yes - Maribacter algicola",
         "South Korea"
        ],
        [
         "2",
         "GCF_000621125.1",
         "Maribacter antarcticus",
         "d__Bacteria; p__Bacteroidota; c__Bacteroidia; o__Flavobacteriales; f__Flavobacteriaceae; g__Maribacter; s__Maribacter antarcticus",
         "DSM 21422",
         "99.99",
         "0.12",
         "35",
         "339358",
         "4853010",
         "4305",
         "85.75",
         "37.43",
         "Scaffold",
         "Southern Ocean",
         "2014-04-08",
         "Isolate",
         "4165.0",
         "2014-04-08",
         "Pyramimonas gelidicola",
         "Southern Ocean",
         "",
         "",
         "Yes - Maribacter antarcticus",
         "Southern Ocean"
        ],
        [
         "3",
         "GCF_947490135.1",
         "Maribacter aquivivus",
         "d__Bacteria; p__Bacteroidota; c__Bacteroidia; o__Flavobacteriales; f__Flavobacteriaceae; g__Maribacter; s__Maribacter aquivivus",
         "2B2-70-G.fasta",
         "100.0",
         "0.08",
         "32",
         "520442",
         "4510051",
         "3894",
         "90.98",
         "34.53",
         "Contig",
         "",
         "2023-01-30",
         "Isolate",
         "3853.0",
         "2023-01-30",
         "",
         "China",
         "",
         "",
         "Yes - Maribacter aquivivus",
         "China"
        ],
        [
         "5",
         "GCF_947501435.1",
         "Maribacter aquivivus",
         "d__Bacteria; p__Bacteroidota; c__Bacteroidia; o__Flavobacteriales; f__Flavobacteriaceae; g__Maribacter; s__Maribacter aquivivus",
         "3-185-3Z.fasta",
         "100.0",
         "0.07",
         "25",
         "501921",
         "4520649",
         "3870",
         "91.25",
         "34.49",
         "Contig",
         "",
         "2023-01-30",
         "Isolate",
         "3836.0",
         "2023-01-30",
         "",
         "China",
         "",
         "",
         "Yes - Maribacter aquivivus",
         "China"
        ],
        [
         "6",
         "GCF_947494935.1",
         "Maribacter aquivivus",
         "d__Bacteria; p__Bacteroidota; c__Bacteroidia; o__Flavobacteriales; f__Flavobacteriaceae; g__Maribacter; s__Maribacter aquivivus",
         "3-2173-3Z.fasta",
         "100.0",
         "0.07",
         "31",
         "475116",
         "4533860",
         "3907",
         "91.2",
         "34.51",
         "Contig",
         "",
         "2023-01-30",
         "Isolate",
         "3862.0",
         "2023-01-30",
         "",
         "China",
         "",
         "",
         "Yes - Maribacter aquivivus",
         "China"
        ],
        [
         "7",
         "GCF_036964345.1",
         "Maribacter arcticus",
         "d__Bacteria; p__Bacteroidota; c__Bacteroidia; o__Flavobacteriales; f__Flavobacteriaceae; g__Maribacter; s__Maribacter arcticus",
         "2NakV-09",
         "99.99",
         "0.07",
         "23",
         "512267",
         "3912348",
         "3521",
         "89.95",
         "34.91",
         "Scaffold",
         "",
         "2024-03-02",
         "MAG",
         "3471.0",
         "2024-03-02",
         "",
         "Russia: The Pechora Sea",
         "69.03 N 57.36 E",
         "Keywords: GSC:MIxS;MIMAG:6.0",
         "Yes - Maribacter arcticus",
         "Russia"
        ],
        [
         "10",
         "GCF_036964525.1",
         "Maribacter arcticus",
         "d__Bacteria; p__Bacteroidota; c__Bacteroidia; o__Flavobacteriales; f__Flavobacteriaceae; g__Maribacter; s__Maribacter arcticus",
         "1NakV-05",
         "99.96",
         "0.13",
         "156",
         "52790",
         "3718200",
         "3399",
         "89.36",
         "35.0",
         "Scaffold",
         "",
         "2024-03-02",
         "MAG",
         "3357.0",
         "2024-03-02",
         "",
         "Arctic Ocean: The Barents Sea",
         "78.39 N 42.11 E",
         "Keywords: GSC:MIxS;MIMAG:6.0",
         "Yes - Maribacter arcticus",
         "Arctic Ocean"
        ],
        [
         "11",
         "GCF_036964305.1",
         "Maribacter arcticus",
         "d__Bacteria; p__Bacteroidota; c__Bacteroidia; o__Flavobacteriales; f__Flavobacteriaceae; g__Maribacter; s__Maribacter arcticus",
         "3NakV-04",
         "99.98",
         "0.02",
         "21",
         "665423",
         "3904015",
         "3532",
         "89.96",
         "34.89",
         "Scaffold",
         "",
         "2024-03-02",
         "MAG",
         "3470.0",
         "2024-03-02",
         "",
         "Russia: The Pechora Sea",
         "69.03 N 57.36 E",
         "Keywords: GSC:MIxS;MIMAG:6.0",
         "Yes - Maribacter arcticus",
         "Russia"
        ],
        [
         "12",
         "GCF_036963745.1",
         "Maribacter arcticus",
         "d__Bacteria; p__Bacteroidota; c__Bacteroidia; o__Flavobacteriales; f__Flavobacteriaceae; g__Maribacter; s__Maribacter arcticus",
         "4NakV-12",
         "99.73",
         "0.4",
         "65",
         "156281",
         "3740494",
         "3405",
         "89.95",
         "35.02",
         "Scaffold",
         "",
         "2024-03-02",
         "MAG",
         "3350.0",
         "2024-03-02",
         "",
         "Russia: The Pechora Sea",
         "69.03 N 57.37 E",
         "Keywords: GSC:MIxS;MIMAG:6.0",
         "Yes - Maribacter arcticus",
         "Russia"
        ],
        [
         "13",
         "GCF_036961275.1",
         "Maribacter arcticus",
         "d__Bacteria; p__Bacteroidota; c__Bacteroidia; o__Flavobacteriales; f__Flavobacteriaceae; g__Maribacter; s__Maribacter arcticus",
         "5NakV-14",
         "99.46",
         "0.05",
         "89",
         "88237",
         "3623319",
         "3316",
         "89.97",
         "34.99",
         "Scaffold",
         "",
         "2024-03-02",
         "MAG",
         "3266.0",
         "2024-03-02",
         "",
         "Arctic Ocean: The Barents Sea",
         "78.40 N 42.00 E",
         "Keywords: GSC:MIxS;MIMAG:6.0",
         "Yes - Maribacter arcticus",
         "Arctic Ocean"
        ],
        [
         "14",
         "GCF_036960925.1",
         "Maribacter arcticus",
         "d__Bacteria; p__Bacteroidota; c__Bacteroidia; o__Flavobacteriales; f__Flavobacteriaceae; g__Maribacter; s__Maribacter arcticus",
         "6NakV-15",
         "91.61",
         "0.35",
         "456",
         "12277",
         "3748680",
         "3720",
         "89.85",
         "34.96",
         "Scaffold",
         "",
         "2024-03-02",
         "MAG",
         "3603.0",
         "2024-03-02",
         "",
         "Arctic Ocean: The Barents Sea",
         "78.39 N 42.11 E",
         "Keywords: GSC:MIxS;MIMAG:6.0",
         "Yes - Maribacter arcticus",
         "Arctic Ocean"
        ],
        [
         "16",
         "GCF_002269385.1",
         "Maribacter cobaltidurans",
         "d__Bacteria; p__Bacteroidota; c__Bacteroidia; o__Flavobacteriales; f__Flavobacteriaceae; g__Maribacter; s__Maribacter cobaltidurans",
         "B1",
         "99.89",
         "0.32",
         "1",
         "4639957",
         "4639957",
         "4188",
         "91.21",
         "39.73",
         "Complete Genome",
         "Atlantic Ocean: South Atlantic Ocean",
         "2017-08-24",
         "Isolate",
         "4102.0",
         "2017-08-24",
         "",
         "Atlantic Ocean: South Atlantic Ocean",
         "14.72 S 13.46 W",
         "Keywords: GSC:MIxS;MIGS:6.0",
         "Yes - Maribacter cobaltidurans",
         "Atlantic Ocean"
        ],
        [
         "18",
         "GCF_039986215.1",
         "Maribacter dokdonensis",
         "d__Bacteria; p__Bacteroidota; c__Bacteroidia; o__Flavobacteriales; f__Flavobacteriaceae; g__Maribacter; s__Maribacter dokdonensis",
         "LC.02.F.A2_479_55",
         "99.96",
         "2.43",
         "260",
         "31994",
         "4640379",
         "4146",
         "91.92",
         "35.75",
         "Contig",
         "",
         "2024-05-31",
         "MAG",
         "4055.0",
         "2024-05-31",
         "Macrocystis pyrifera",
         "USA:California, Leo Carillo",
         "not collected",
         "Keywords: GSC:MIxS;MIMAG:6.0",
         "Yes - Maribacter dokdonensis",
         "USA"
        ],
        [
         "19",
         "GCF_039986575.1",
         "Maribacter dokdonensis",
         "d__Bacteria; p__Bacteroidota; c__Bacteroidia; o__Flavobacteriales; f__Flavobacteriaceae; g__Maribacter; s__Maribacter dokdonensis",
         "AQ.60.F.B1_47_010",
         "99.88",
         "0.69",
         "199",
         "89855",
         "4362585",
         "3916",
         "91.46",
         "35.91",
         "Contig",
         "",
         "2024-05-31",
         "MAG",
         "3849.0",
         "2024-05-31",
         "Macrocystis pyrifera",
         "USA:California, Arroyo Quemado",
         "not collected",
         "Keywords: GSC:MIxS;MIMAG:6.0",
         "Yes - Maribacter dokdonensis",
         "USA"
        ],
        [
         "20",
         "GCF_039987475.1",
         "Maribacter dokdonensis",
         "d__Bacteria; p__Bacteroidota; c__Bacteroidia; o__Flavobacteriales; f__Flavobacteriaceae; g__Maribacter; s__Maribacter dokdonensis",
         "CB.05.F.D2_97_46",
         "98.9",
         "2.57",
         "238",
         "28855",
         "4254096",
         "3851",
         "92.06",
         "35.94",
         "Contig",
         "",
         "2024-05-31",
         "MAG",
         "3771.0",
         "2024-05-31",
         "Macrocystis pyrifera",
         "USA:California, Camp Pendleton",
         "not collected",
         "Keywords: GSC:MIxS;MIMAG:6.0",
         "Yes - Maribacter dokdonensis",
         "USA"
        ],
        [
         "21",
         "GCF_039969775.1",
         "Maribacter dokdonensis",
         "d__Bacteria; p__Bacteroidota; c__Bacteroidia; o__Flavobacteriales; f__Flavobacteriaceae; g__Maribacter; s__Maribacter dokdonensis",
         "LC.109.F.C4_184_85",
         "99.99",
         "0.09",
         "7",
         "1478825",
         "4352599",
         "3737",
         "92.08",
         "35.92",
         "Contig",
         "",
         "2024-05-30",
         "MAG",
         "3696.0",
         "2024-05-30",
         "Macrocystis pyrifera",
         "USA:California, Leo Carillo",
         "not collected",
         "Keywords: GSC:MIxS;MIMAG:6.0",
         "Yes - Maribacter dokdonensis",
         "USA"
        ],
        [
         "22",
         "GCF_039967835.1",
         "Maribacter dokdonensis",
         "d__Bacteria; p__Bacteroidota; c__Bacteroidia; o__Flavobacteriales; f__Flavobacteriaceae; g__Maribacter; s__Maribacter dokdonensis",
         "LC.118.F.C4_216_37",
         "99.99",
         "0.08",
         "15",
         "427385",
         "4324902",
         "3721",
         "92.1",
         "35.91",
         "Contig",
         "",
         "2024-05-30",
         "MAG",
         "3679.0",
         "2024-05-30",
         "Macrocystis pyrifera",
         "USA:California, Leo Carillo",
         "not collected",
         "Keywords: GSC:MIxS;MIMAG:6.0",
         "Yes - Maribacter dokdonensis",
         "USA"
        ],
        [
         "23",
         "GCF_039988175.1",
         "Maribacter dokdonensis",
         "d__Bacteria; p__Bacteroidota; c__Bacteroidia; o__Flavobacteriales; f__Flavobacteriaceae; g__Maribacter; s__Maribacter dokdonensis",
         "AQ.32.F.A2_91_45",
         "97.23",
         "0.07",
         "152",
         "54543",
         "4179101",
         "3698",
         "92.19",
         "36.06",
         "Contig",
         "",
         "2024-05-31",
         "MAG",
         "3637.0",
         "2024-05-31",
         "Macrocystis pyrifera",
         "USA:California, Arroyo Quemado",
         "not collected",
         "Keywords: GSC:MIxS;MIMAG:6.0",
         "Yes - Maribacter dokdonensis",
         "USA"
        ],
        [
         "24",
         "GCF_039967245.1",
         "Maribacter dokdonensis",
         "d__Bacteria; p__Bacteroidota; c__Bacteroidia; o__Flavobacteriales; f__Flavobacteriaceae; g__Maribacter; s__Maribacter dokdonensis",
         "CB.59.M.B5_223_4",
         "91.59",
         "0.2",
         "636",
         "8628",
         "4072647",
         "4009",
         "92.0",
         "35.9",
         "Contig",
         "",
         "2024-05-30",
         "MAG",
         "3898.0",
         "2024-05-30",
         "Macrocystis pyrifera",
         "USA:California, Camp Pendleton",
         "not collected",
         "Keywords: GSC:MIxS;MIMAG:6.0",
         "Yes - Maribacter dokdonensis",
         "USA"
        ],
        [
         "25",
         "GCF_039966915.1",
         "Maribacter dokdonensis",
         "d__Bacteria; p__Bacteroidota; c__Bacteroidia; o__Flavobacteriales; f__Flavobacteriaceae; g__Maribacter; s__Maribacter dokdonensis",
         "LC.04.F.D4_227_67",
         "99.99",
         "0.07",
         "5",
         "1481973",
         "4329922",
         "3713",
         "92.12",
         "35.93",
         "Contig",
         "",
         "2024-05-30",
         "MAG",
         "3672.0",
         "2024-05-30",
         "Macrocystis pyrifera",
         "USA:California, Leo Carillo",
         "not collected",
         "Keywords: GSC:MIxS;MIMAG:6.0",
         "Yes - Maribacter dokdonensis",
         "USA"
        ],
        [
         "26",
         "GCF_039966215.1",
         "Maribacter dokdonensis",
         "d__Bacteria; p__Bacteroidota; c__Bacteroidia; o__Flavobacteriales; f__Flavobacteriaceae; g__Maribacter; s__Maribacter dokdonensis",
         "CB.57.F.B3_234_63",
         "99.99",
         "0.09",
         "5",
         "2200101",
         "4355028",
         "3737",
         "92.1",
         "35.93",
         "Contig",
         "",
         "2024-05-30",
         "MAG",
         "3695.0",
         "2024-05-30",
         "Macrocystis pyrifera",
         "USA:California, Camp Pendleton",
         "not collected",
         "Keywords: GSC:MIxS;MIMAG:6.0",
         "Yes - Maribacter dokdonensis",
         "USA"
        ],
        [
         "27",
         "GCF_039965315.1",
         "Maribacter dokdonensis",
         "d__Bacteria; p__Bacteroidota; c__Bacteroidia; o__Flavobacteriales; f__Flavobacteriaceae; g__Maribacter; s__Maribacter dokdonensis",
         "LC.03.F.B2_259_1",
         "100.0",
         "0.09",
         "61",
         "116041",
         "4352058",
         "3780",
         "92.08",
         "35.93",
         "Contig",
         "",
         "2024-05-30",
         "MAG",
         "3728.0",
         "2024-05-30",
         "Macrocystis pyrifera",
         "USA:California, Leo Carillo",
         "not collected",
         "Keywords: GSC:MIxS;MIMAG:6.0",
         "Yes - Maribacter dokdonensis",
         "USA"
        ],
        [
         "28",
         "GCF_039964365.1",
         "Maribacter dokdonensis",
         "d__Bacteria; p__Bacteroidota; c__Bacteroidia; o__Flavobacteriales; f__Flavobacteriaceae; g__Maribacter; s__Maribacter dokdonensis",
         "LC.105.F.D3_287_94",
         "99.99",
         "0.1",
         "30",
         "270993",
         "4351424",
         "3746",
         "92.12",
         "35.93",
         "Contig",
         "",
         "2024-05-30",
         "MAG",
         "3703.0",
         "2024-05-30",
         "Macrocystis pyrifera",
         "USA:California, Leo Carillo",
         "not collected",
         "Keywords: GSC:MIxS;MIMAG:6.0",
         "Yes - Maribacter dokdonensis",
         "USA"
        ],
        [
         "29",
         "GCF_039988355.1",
         "Maribacter dokdonensis",
         "d__Bacteria; p__Bacteroidota; c__Bacteroidia; o__Flavobacteriales; f__Flavobacteriaceae; g__Maribacter; s__Maribacter dokdonensis",
         "CI.14.F.D1_90_46",
         "99.99",
         "0.08",
         "108",
         "70071",
         "4257867",
         "3721",
         "92.19",
         "36.06",
         "Contig",
         "",
         "2024-05-31",
         "MAG",
         "3663.0",
         "2024-05-31",
         "Macrocystis pyrifera",
         "USA:California, Channel Islands",
         "not collected",
         "Keywords: GSC:MIxS;MIMAG:6.0",
         "Yes - Maribacter dokdonensis",
         "USA"
        ],
        [
         "30",
         "GCF_039963955.1",
         "Maribacter dokdonensis",
         "d__Bacteria; p__Bacteroidota; c__Bacteroidia; o__Flavobacteriales; f__Flavobacteriaceae; g__Maribacter; s__Maribacter dokdonensis",
         "LC.173.F.D1_294_74",
         "100.0",
         "0.08",
         "15",
         "440735",
         "4304509",
         "3692",
         "92.19",
         "35.95",
         "Contig",
         "",
         "2024-05-30",
         "MAG",
         "3647.0",
         "2024-05-30",
         "Macrocystis pyrifera",
         "USA:California, Leo Carillo",
         "not collected",
         "Keywords: GSC:MIxS;MIMAG:6.0",
         "Yes - Maribacter dokdonensis",
         "USA"
        ],
        [
         "31",
         "GCF_039963475.1",
         "Maribacter dokdonensis",
         "d__Bacteria; p__Bacteroidota; c__Bacteroidia; o__Flavobacteriales; f__Flavobacteriaceae; g__Maribacter; s__Maribacter dokdonensis",
         "LC.07.F.D4_302_16",
         "99.99",
         "0.25",
         "72",
         "100339",
         "4328563",
         "3761",
         "92.13",
         "35.93",
         "Contig",
         "",
         "2024-05-30",
         "MAG",
         "3712.0",
         "2024-05-30",
         "Macrocystis pyrifera",
         "USA:California, Leo Carillo",
         "not collected",
         "Keywords: GSC:MIxS;MIMAG:6.0",
         "Yes - Maribacter dokdonensis",
         "USA"
        ],
        [
         "32",
         "GCF_039961025.1",
         "Maribacter dokdonensis",
         "d__Bacteria; p__Bacteroidota; c__Bacteroidia; o__Flavobacteriales; f__Flavobacteriaceae; g__Maribacter; s__Maribacter dokdonensis",
         "AQ.50.F.D1_171_32",
         "91.87",
         "2.77",
         "432",
         "12724",
         "4023902",
         "3874",
         "91.95",
         "35.87",
         "Contig",
         "",
         "2024-05-30",
         "MAG",
         "3781.0",
         "2024-05-30",
         "Macrocystis pyrifera",
         "USA:California, Arroyo Quemado",
         "not collected",
         "Keywords: GSC:MIxS;MIMAG:6.0",
         "Yes - Maribacter dokdonensis",
         "USA"
        ],
        [
         "34",
         "GCF_039946215.1",
         "Maribacter dokdonensis",
         "d__Bacteria; p__Bacteroidota; c__Bacteroidia; o__Flavobacteriales; f__Flavobacteriaceae; g__Maribacter; s__Maribacter dokdonensis",
         "CB.49.M.B5_130_42",
         "99.99",
         "0.09",
         "20",
         "299359",
         "4347986",
         "3747",
         "92.08",
         "35.92",
         "Contig",
         "",
         "2024-05-30",
         "MAG",
         "3701.0",
         "2024-05-30",
         "Macrocystis pyrifera",
         "USA:California, Camp Pendleton",
         "not collected",
         "Keywords: GSC:MIxS;MIMAG:6.0",
         "Yes - Maribacter dokdonensis",
         "USA"
        ],
        [
         "35",
         "GCF_039944815.1",
         "Maribacter dokdonensis",
         "d__Bacteria; p__Bacteroidota; c__Bacteroidia; o__Flavobacteriales; f__Flavobacteriaceae; g__Maribacter; s__Maribacter dokdonensis",
         "CB.66.F.B1_115_36",
         "99.99",
         "0.08",
         "7",
         "701903",
         "4330287",
         "3713",
         "92.11",
         "35.93",
         "Contig",
         "",
         "2024-05-30",
         "MAG",
         "3672.0",
         "2024-05-30",
         "Macrocystis pyrifera",
         "USA:California, Camp Pendleton",
         "not collected",
         "Keywords: GSC:MIxS;MIMAG:6.0",
         "Yes - Maribacter dokdonensis",
         "USA"
        ],
        [
         "37",
         "GCF_039944295.1",
         "Maribacter dokdonensis",
         "d__Bacteria; p__Bacteroidota; c__Bacteroidia; o__Flavobacteriales; f__Flavobacteriaceae; g__Maribacter; s__Maribacter dokdonensis",
         "CB.43.F.B2_119_103",
         "99.99",
         "0.08",
         "5",
         "1481973",
         "4330201",
         "3712",
         "92.12",
         "35.93",
         "Contig",
         "",
         "2024-05-30",
         "MAG",
         "3672.0",
         "2024-05-30",
         "Macrocystis pyrifera",
         "USA:California, Camp Pendleton",
         "not collected",
         "Keywords: GSC:MIxS;MIMAG:6.0",
         "Yes - Maribacter dokdonensis",
         "USA"
        ],
        [
         "38",
         "GCF_039943575.1",
         "Maribacter dokdonensis",
         "d__Bacteria; p__Bacteroidota; c__Bacteroidia; o__Flavobacteriales; f__Flavobacteriaceae; g__Maribacter; s__Maribacter dokdonensis",
         "CB.10.F.C1_120_34",
         "99.99",
         "0.08",
         "6",
         "1331753",
         "4328284",
         "3714",
         "92.12",
         "35.92",
         "Contig",
         "",
         "2024-05-30",
         "MAG",
         "3670.0",
         "2024-05-30",
         "Macrocystis pyrifera",
         "USA:California, Camp Pendleton",
         "not collected",
         "Keywords: GSC:MIxS;MIMAG:6.0",
         "Yes - Maribacter dokdonensis",
         "USA"
        ],
        [
         "39",
         "GCF_039943415.1",
         "Maribacter dokdonensis",
         "d__Bacteria; p__Bacteroidota; c__Bacteroidia; o__Flavobacteriales; f__Flavobacteriaceae; g__Maribacter; s__Maribacter dokdonensis",
         "CB.07.M.B5_121_1",
         "96.98",
         "0.18",
         "553",
         "10847",
         "4155582",
         "4089",
         "91.92",
         "35.84",
         "Contig",
         "",
         "2024-05-30",
         "MAG",
         "3994.0",
         "2024-05-30",
         "Macrocystis pyrifera",
         "USA:California, Camp Pendleton",
         "not collected",
         "Keywords: GSC:MIxS;MIMAG:6.0",
         "Yes - Maribacter dokdonensis",
         "USA"
        ],
        [
         "40",
         "GCF_039943055.1",
         "Maribacter dokdonensis",
         "d__Bacteria; p__Bacteroidota; c__Bacteroidia; o__Flavobacteriales; f__Flavobacteriaceae; g__Maribacter; s__Maribacter dokdonensis",
         "CB.04.M.C5_124_44",
         "100.0",
         "0.61",
         "66",
         "96272",
         "4349919",
         "3778",
         "92.1",
         "35.93",
         "Contig",
         "",
         "2024-05-30",
         "MAG",
         "3730.0",
         "2024-05-30",
         "Macrocystis pyrifera",
         "USA:California, Camp Pendleton",
         "not collected",
         "Keywords: GSC:MIxS;MIMAG:6.0",
         "Yes - Maribacter dokdonensis",
         "USA"
        ],
        [
         "41",
         "GCF_039942755.1",
         "Maribacter dokdonensis",
         "d__Bacteria; p__Bacteroidota; c__Bacteroidia; o__Flavobacteriales; f__Flavobacteriaceae; g__Maribacter; s__Maribacter dokdonensis",
         "CB.42.M.D5_127_75",
         "99.99",
         "0.09",
         "4",
         "1558404",
         "4355165",
         "3735",
         "92.09",
         "35.93",
         "Contig",
         "",
         "2024-05-30",
         "MAG",
         "3693.0",
         "2024-05-30",
         "Macrocystis pyrifera",
         "USA:California, Camp Pendleton",
         "not collected",
         "Keywords: GSC:MIxS;MIMAG:6.0",
         "Yes - Maribacter dokdonensis",
         "USA"
        ],
        [
         "42",
         "GCF_039942115.1",
         "Maribacter dokdonensis",
         "d__Bacteria; p__Bacteroidota; c__Bacteroidia; o__Flavobacteriales; f__Flavobacteriaceae; g__Maribacter; s__Maribacter dokdonensis",
         "CB.51.F.C3_134_54",
         "99.99",
         "0.07",
         "12",
         "485563",
         "4327161",
         "3719",
         "92.13",
         "35.92",
         "Contig",
         "",
         "2024-05-30",
         "MAG",
         "3674.0",
         "2024-05-30",
         "Macrocystis pyrifera",
         "USA:California, Camp Pendleton",
         "not collected",
         "Keywords: GSC:MIxS;MIMAG:6.0",
         "Yes - Maribacter dokdonensis",
         "USA"
        ],
        [
         "43",
         "GCF_039942075.1",
         "Maribacter dokdonensis",
         "d__Bacteria; p__Bacteroidota; c__Bacteroidia; o__Flavobacteriales; f__Flavobacteriaceae; g__Maribacter; s__Maribacter dokdonensis",
         "CB.54.F.C2_137_101",
         "99.99",
         "0.08",
         "6",
         "1331894",
         "4326977",
         "3713",
         "92.11",
         "35.92",
         "Contig",
         "",
         "2024-05-30",
         "MAG",
         "3671.0",
         "2024-05-30",
         "Macrocystis pyrifera",
         "USA:California, Camp Pendleton",
         "not collected",
         "Keywords: GSC:MIxS;MIMAG:6.0",
         "Yes - Maribacter dokdonensis",
         "USA"
        ],
        [
         "44",
         "GCF_039941135.1",
         "Maribacter dokdonensis",
         "d__Bacteria; p__Bacteroidota; c__Bacteroidia; o__Flavobacteriales; f__Flavobacteriaceae; g__Maribacter; s__Maribacter dokdonensis",
         "CB.37.F.D4_140_43",
         "99.99",
         "0.08",
         "6",
         "1331998",
         "4329711",
         "3713",
         "92.11",
         "35.92",
         "Contig",
         "",
         "2024-05-30",
         "MAG",
         "3673.0",
         "2024-05-30",
         "Macrocystis pyrifera",
         "USA:California, Camp Pendleton",
         "not collected",
         "Keywords: GSC:MIxS;MIMAG:6.0",
         "Yes - Maribacter dokdonensis",
         "USA"
        ],
        [
         "45",
         "GCF_039940815.1",
         "Maribacter dokdonensis",
         "d__Bacteria; p__Bacteroidota; c__Bacteroidia; o__Flavobacteriales; f__Flavobacteriaceae; g__Maribacter; s__Maribacter dokdonensis",
         "CB.64.M.A6_145_12",
         "99.99",
         "0.08",
         "10",
         "543866",
         "4329715",
         "3718",
         "92.13",
         "35.93",
         "Contig",
         "",
         "2024-05-30",
         "MAG",
         "3674.0",
         "2024-05-30",
         "Macrocystis pyrifera",
         "USA:California, Camp Pendleton",
         "not collected",
         "Keywords: GSC:MIxS;MIMAG:6.0",
         "Yes - Maribacter dokdonensis",
         "USA"
        ],
        [
         "46",
         "GCF_039940535.1",
         "Maribacter dokdonensis",
         "d__Bacteria; p__Bacteroidota; c__Bacteroidia; o__Flavobacteriales; f__Flavobacteriaceae; g__Maribacter; s__Maribacter dokdonensis",
         "CB.04.F.A3_155_30",
         "99.99",
         "0.08",
         "6",
         "1026216",
         "4326790",
         "3714",
         "92.12",
         "35.92",
         "Contig",
         "",
         "2024-05-30",
         "MAG",
         "3671.0",
         "2024-05-30",
         "Macrocystis pyrifera",
         "USA:California, Camp Pendleton",
         "not collected",
         "Keywords: GSC:MIxS;MIMAG:6.0",
         "Yes - Maribacter dokdonensis",
         "USA"
        ],
        [
         "47",
         "GCF_039939875.1",
         "Maribacter dokdonensis",
         "d__Bacteria; p__Bacteroidota; c__Bacteroidia; o__Flavobacteriales; f__Flavobacteriaceae; g__Maribacter; s__Maribacter dokdonensis",
         "CB.01.F.D3_159_69",
         "99.99",
         "0.08",
         "6",
         "1331238",
         "4326831",
         "3713",
         "92.12",
         "35.92",
         "Contig",
         "",
         "2024-05-30",
         "MAG",
         "3672.0",
         "2024-05-30",
         "Macrocystis pyrifera",
         "USA:California, Camp Pendleton",
         "not collected",
         "Keywords: GSC:MIxS;MIMAG:6.0",
         "Yes - Maribacter dokdonensis",
         "USA"
        ],
        [
         "48",
         "GCF_039939615.1",
         "Maribacter dokdonensis",
         "d__Bacteria; p__Bacteroidota; c__Bacteroidia; o__Flavobacteriales; f__Flavobacteriaceae; g__Maribacter; s__Maribacter dokdonensis",
         "AQ.28.F.A5_164_15",
         "99.99",
         "0.07",
         "10",
         "879094",
         "4329233",
         "3718",
         "92.12",
         "35.92",
         "Contig",
         "",
         "2024-05-30",
         "MAG",
         "3677.0",
         "2024-05-30",
         "Macrocystis pyrifera",
         "USA:California, Arroyo Quemado",
         "not collected",
         "Keywords: GSC:MIxS;MIMAG:6.0",
         "Yes - Maribacter dokdonensis",
         "USA"
        ],
        [
         "49",
         "GCF_039939445.1",
         "Maribacter dokdonensis",
         "d__Bacteria; p__Bacteroidota; c__Bacteroidia; o__Flavobacteriales; f__Flavobacteriaceae; g__Maribacter; s__Maribacter dokdonensis",
         "LC.106.F.A4_166_5",
         "99.99",
         "0.09",
         "23",
         "344991",
         "4347067",
         "3747",
         "92.08",
         "35.93",
         "Contig",
         "",
         "2024-05-30",
         "MAG",
         "3703.0",
         "2024-05-30",
         "Macrocystis pyrifera",
         "USA:California, Leo Carillo",
         "not collected",
         "Keywords: GSC:MIxS;MIMAG:6.0",
         "Yes - Maribacter dokdonensis",
         "USA"
        ],
        [
         "55",
         "GCF_002700155.1",
         "Maribacter dokdonensis",
         "d__Bacteria; p__Bacteroidota; c__Bacteroidia; o__Flavobacteriales; f__Flavobacteriaceae; g__Maribacter; s__Maribacter dokdonensis",
         "6B07",
         "100.0",
         "0.22",
         "11",
         "995188",
         "4506133",
         "3876",
         "91.8",
         "35.99",
         "Scaffold",
         "USA: Canoe Beach; Nahant; MA",
         "2017-10-24",
         "Isolate",
         "3826.0",
         "2017-10-24",
         "",
         "USA: Canoe Beach, Nahant, MA",
         "42.25 N 70.54 W",
         "",
         "Yes - Maribacter dokdonensis",
         "USA"
        ],
        [
         "56",
         "GCF_963692985.1",
         "Maribacter dokdonensis",
         "d__Bacteria; p__Bacteroidota; c__Bacteroidia; o__Flavobacteriales; f__Flavobacteriaceae; g__Maribacter; s__Maribacter dokdonensis",
         "44847",
         "100.0",
         "0.07",
         "1",
         "4490751",
         "4490751",
         "3855",
         "91.89",
         "35.98",
         "Complete Genome",
         "",
         "2023-12-06",
         "Isolate",
         "3799.0",
         "2023-12-06",
         "",
         "Czech Republic",
         "",
         "",
         "Yes - Maribacter dokdonensis",
         "Czech Republic"
        ],
        [
         "59",
         "GCF_030689185.1",
         "Maribacter dokdonensis",
         "d__Bacteria; p__Bacteroidota; c__Bacteroidia; o__Flavobacteriales; f__Flavobacteriaceae; g__Maribacter; s__Maribacter dokdonensis",
         "5F06",
         "100.0",
         "0.08",
         "21",
         "652014",
         "4357305",
         "3724",
         "92.15",
         "36.04",
         "Contig",
         "USA:Canoe Beach; Nahant; MA",
         "2023-08-08",
         "Isolate",
         "3684.0",
         "2023-08-08",
         "",
         "USA:Canoe Beach, Nahant, MA",
         "42.420 N 70.907 W",
         "Keywords: GSC:MIxS;MIGS:6.0",
         "Yes - Maribacter dokdonensis",
         "USA"
        ],
        [
         "61",
         "GCF_018860675.1",
         "Maribacter dokdonensis",
         "d__Bacteria; p__Bacteroidota; c__Bacteroidia; o__Flavobacteriales; f__Flavobacteriaceae; g__Maribacter; s__Maribacter dokdonensis",
         "C3R19",
         "100.0",
         "0.06",
         "24",
         "458727",
         "4436697",
         "3827",
         "91.65",
         "36.05",
         "Scaffold",
         "USA: Massachusetts; Nahant; Canoe Beach",
         "2021-06-12",
         "Isolate",
         "3778.0",
         "2021-06-12",
         "",
         "USA:Massachusetts, Nahant, Canoe Beach",
         "42.25 N 70.54 W",
         "isolate from particle enrichment",
         "Yes - Maribacter dokdonensis",
         "USA"
        ],
        [
         "62",
         "GCF_001447995.1",
         "Maribacter dokdonensis",
         "d__Bacteria; p__Bacteroidota; c__Bacteroidia; o__Flavobacteriales; f__Flavobacteriaceae; g__Maribacter; s__Maribacter dokdonensis",
         "DSW-8",
         "99.99",
         "0.13",
         "16",
         "2230298",
         "4434543",
         "3795",
         "91.84",
         "35.95",
         "Contig",
         "South Korea",
         "2015-11-25",
         "Isolate",
         "3748.0",
         "2015-11-25",
         "",
         "South Korea",
         "not applicable",
         "Genome sequence of Maribacter dokdonensis DSW-8",
         "Yes - Maribacter dokdonensis",
         "South Korea"
        ],
        [
         "63",
         "GCF_001865655.1",
         "Maribacter dokdonensis",
         "d__Bacteria; p__Bacteroidota; c__Bacteroidia; o__Flavobacteriales; f__Flavobacteriaceae; g__Maribacter; s__Maribacter dokdonensis",
         "1_2014MBL_MicDiv",
         "99.99",
         "0.02",
         "1",
         "4399611",
         "4399611",
         "3777",
         "91.81",
         "35.95",
         "Complete Genome",
         "USA: Woods Hole; MA",
         "2016-11-03",
         "Isolate",
         "3741.0",
         "2016-11-03",
         "",
         "USA: Woods Hole, MA",
         "41.527333 N 70.675694 W",
         "Maribacter isolated on Cytophaga medium from seaweed from the Woods Hole Yacht Club during 2014 Microbial Diversity course at Marine Biology Laboratory",
         "Yes - Maribacter dokdonensis",
         "USA"
        ],
        [
         "64",
         "GCF_039974395.1",
         "Maribacter dokdonensis",
         "d__Bacteria; p__Bacteroidota; c__Bacteroidia; o__Flavobacteriales; f__Flavobacteriaceae; g__Maribacter; s__Maribacter dokdonensis",
         "CI.31.F.D2_424_86",
         "100.0",
         "1.53",
         "19",
         "789017",
         "4469813",
         "3862",
         "91.84",
         "35.86",
         "Contig",
         "",
         "2024-05-30",
         "MAG",
         "3813.0",
         "2024-05-30",
         "Macrocystis pyrifera",
         "USA:California, Channel Islands",
         "not collected",
         "Keywords: GSC:MIxS;MIMAG:6.0",
         "Yes - Maribacter dokdonensis",
         "USA"
        ]
       ],
       "shape": {
        "columns": 24,
        "rows": 130
       }
      },
      "text/html": [
       "<div>\n",
       "<style scoped>\n",
       "    .dataframe tbody tr th:only-of-type {\n",
       "        vertical-align: middle;\n",
       "    }\n",
       "\n",
       "    .dataframe tbody tr th {\n",
       "        vertical-align: top;\n",
       "    }\n",
       "\n",
       "    .dataframe thead th {\n",
       "        text-align: right;\n",
       "    }\n",
       "</style>\n",
       "<table border=\"1\" class=\"dataframe\">\n",
       "  <thead>\n",
       "    <tr style=\"text-align: right;\">\n",
       "      <th></th>\n",
       "      <th>ID</th>\n",
       "      <th>GTDB species</th>\n",
       "      <th>GTDB Taxonomy</th>\n",
       "      <th>NCBI Strain Identifiers</th>\n",
       "      <th>CheckM2 Completeness (%)</th>\n",
       "      <th>CheckM2 Contamination (%)</th>\n",
       "      <th>Contig Count</th>\n",
       "      <th>N50 Contigs (bp)</th>\n",
       "      <th>Genome Size (bp)</th>\n",
       "      <th>Protein Count</th>\n",
       "      <th>...</th>\n",
       "      <th>Date</th>\n",
       "      <th>Genome Category</th>\n",
       "      <th>CDS Count</th>\n",
       "      <th>Seq Rel Date</th>\n",
       "      <th>Biosample Host</th>\n",
       "      <th>Biosample Geographic Location</th>\n",
       "      <th>Biosample Latitude and Longitude</th>\n",
       "      <th>Biosample Description</th>\n",
       "      <th>LPSN species validation</th>\n",
       "      <th>Biosample Country</th>\n",
       "    </tr>\n",
       "  </thead>\n",
       "  <tbody>\n",
       "    <tr>\n",
       "      <th>0</th>\n",
       "      <td>GCF_027474845.2</td>\n",
       "      <td>Maribacter aestuarii</td>\n",
       "      <td>d__Bacteria; p__Bacteroidota; c__Bacteroidia; ...</td>\n",
       "      <td>JCM18631</td>\n",
       "      <td>97.57</td>\n",
       "      <td>0.07</td>\n",
       "      <td>1</td>\n",
       "      <td>3864851</td>\n",
       "      <td>3864851</td>\n",
       "      <td>3616</td>\n",
       "      <td>...</td>\n",
       "      <td>2023-06-08</td>\n",
       "      <td>Isolate</td>\n",
       "      <td>3490.0</td>\n",
       "      <td>2023-06-08</td>\n",
       "      <td>tidal flat sediment</td>\n",
       "      <td>South Korea: Gwangyang Bay</td>\n",
       "      <td></td>\n",
       "      <td>Reference: Lo N, Jin HM, Jeon CO. Maribacter a...</td>\n",
       "      <td>Yes - Maribacter aestuarii</td>\n",
       "      <td>South Korea</td>\n",
       "    </tr>\n",
       "    <tr>\n",
       "      <th>1</th>\n",
       "      <td>GCF_003933245.1</td>\n",
       "      <td>Maribacter algicola</td>\n",
       "      <td>d__Bacteria; p__Bacteroidota; c__Bacteroidia; ...</td>\n",
       "      <td>PoM-212</td>\n",
       "      <td>100.00</td>\n",
       "      <td>0.12</td>\n",
       "      <td>7</td>\n",
       "      <td>2184756</td>\n",
       "      <td>4114314</td>\n",
       "      <td>3589</td>\n",
       "      <td>...</td>\n",
       "      <td>2018-12-10</td>\n",
       "      <td>Isolate</td>\n",
       "      <td>3524.0</td>\n",
       "      <td>2018-12-10</td>\n",
       "      <td></td>\n",
       "      <td>South Korea: Incheon</td>\n",
       "      <td></td>\n",
       "      <td></td>\n",
       "      <td>Yes - Maribacter algicola</td>\n",
       "      <td>South Korea</td>\n",
       "    </tr>\n",
       "    <tr>\n",
       "      <th>2</th>\n",
       "      <td>GCF_000621125.1</td>\n",
       "      <td>Maribacter antarcticus</td>\n",
       "      <td>d__Bacteria; p__Bacteroidota; c__Bacteroidia; ...</td>\n",
       "      <td>DSM 21422</td>\n",
       "      <td>99.99</td>\n",
       "      <td>0.12</td>\n",
       "      <td>35</td>\n",
       "      <td>339358</td>\n",
       "      <td>4853010</td>\n",
       "      <td>4305</td>\n",
       "      <td>...</td>\n",
       "      <td>2014-04-08</td>\n",
       "      <td>Isolate</td>\n",
       "      <td>4165.0</td>\n",
       "      <td>2014-04-08</td>\n",
       "      <td>Pyramimonas gelidicola</td>\n",
       "      <td>Southern Ocean</td>\n",
       "      <td></td>\n",
       "      <td></td>\n",
       "      <td>Yes - Maribacter antarcticus</td>\n",
       "      <td>Southern Ocean</td>\n",
       "    </tr>\n",
       "    <tr>\n",
       "      <th>3</th>\n",
       "      <td>GCF_947490135.1</td>\n",
       "      <td>Maribacter aquivivus</td>\n",
       "      <td>d__Bacteria; p__Bacteroidota; c__Bacteroidia; ...</td>\n",
       "      <td>2B2-70-G.fasta</td>\n",
       "      <td>100.00</td>\n",
       "      <td>0.08</td>\n",
       "      <td>32</td>\n",
       "      <td>520442</td>\n",
       "      <td>4510051</td>\n",
       "      <td>3894</td>\n",
       "      <td>...</td>\n",
       "      <td>2023-01-30</td>\n",
       "      <td>Isolate</td>\n",
       "      <td>3853.0</td>\n",
       "      <td>2023-01-30</td>\n",
       "      <td></td>\n",
       "      <td>China</td>\n",
       "      <td></td>\n",
       "      <td></td>\n",
       "      <td>Yes - Maribacter aquivivus</td>\n",
       "      <td>China</td>\n",
       "    </tr>\n",
       "    <tr>\n",
       "      <th>5</th>\n",
       "      <td>GCF_947501435.1</td>\n",
       "      <td>Maribacter aquivivus</td>\n",
       "      <td>d__Bacteria; p__Bacteroidota; c__Bacteroidia; ...</td>\n",
       "      <td>3-185-3Z.fasta</td>\n",
       "      <td>100.00</td>\n",
       "      <td>0.07</td>\n",
       "      <td>25</td>\n",
       "      <td>501921</td>\n",
       "      <td>4520649</td>\n",
       "      <td>3870</td>\n",
       "      <td>...</td>\n",
       "      <td>2023-01-30</td>\n",
       "      <td>Isolate</td>\n",
       "      <td>3836.0</td>\n",
       "      <td>2023-01-30</td>\n",
       "      <td></td>\n",
       "      <td>China</td>\n",
       "      <td></td>\n",
       "      <td></td>\n",
       "      <td>Yes - Maribacter aquivivus</td>\n",
       "      <td>China</td>\n",
       "    </tr>\n",
       "    <tr>\n",
       "      <th>...</th>\n",
       "      <td>...</td>\n",
       "      <td>...</td>\n",
       "      <td>...</td>\n",
       "      <td>...</td>\n",
       "      <td>...</td>\n",
       "      <td>...</td>\n",
       "      <td>...</td>\n",
       "      <td>...</td>\n",
       "      <td>...</td>\n",
       "      <td>...</td>\n",
       "      <td>...</td>\n",
       "      <td>...</td>\n",
       "      <td>...</td>\n",
       "      <td>...</td>\n",
       "      <td>...</td>\n",
       "      <td>...</td>\n",
       "      <td>...</td>\n",
       "      <td>...</td>\n",
       "      <td>...</td>\n",
       "      <td>...</td>\n",
       "      <td>...</td>\n",
       "    </tr>\n",
       "    <tr>\n",
       "      <th>157</th>\n",
       "      <td>GCA_947500435.1</td>\n",
       "      <td>Maribacter_C sp947500435</td>\n",
       "      <td>d__Bacteria; p__Bacteroidota; c__Bacteroidia; ...</td>\n",
       "      <td>2-612-J.fasta</td>\n",
       "      <td>99.98</td>\n",
       "      <td>0.04</td>\n",
       "      <td>43</td>\n",
       "      <td>746516</td>\n",
       "      <td>4924672</td>\n",
       "      <td>4354</td>\n",
       "      <td>...</td>\n",
       "      <td>2023-01-30</td>\n",
       "      <td>MAG</td>\n",
       "      <td></td>\n",
       "      <td>2023-01-30</td>\n",
       "      <td></td>\n",
       "      <td>China</td>\n",
       "      <td></td>\n",
       "      <td></td>\n",
       "      <td>No</td>\n",
       "      <td>China</td>\n",
       "    </tr>\n",
       "    <tr>\n",
       "      <th>158</th>\n",
       "      <td>GCA_947503005.1</td>\n",
       "      <td>Maribacter_C sp947503005</td>\n",
       "      <td>d__Bacteria; p__Bacteroidota; c__Bacteroidia; ...</td>\n",
       "      <td>N2Y089-1.fasta</td>\n",
       "      <td>99.96</td>\n",
       "      <td>0.21</td>\n",
       "      <td>31</td>\n",
       "      <td>552514</td>\n",
       "      <td>4576141</td>\n",
       "      <td>3920</td>\n",
       "      <td>...</td>\n",
       "      <td>2023-01-30</td>\n",
       "      <td>MAG</td>\n",
       "      <td></td>\n",
       "      <td>2023-01-30</td>\n",
       "      <td></td>\n",
       "      <td>China</td>\n",
       "      <td></td>\n",
       "      <td></td>\n",
       "      <td>No</td>\n",
       "      <td>China</td>\n",
       "    </tr>\n",
       "    <tr>\n",
       "      <th>159</th>\n",
       "      <td>GCF_027474825.1</td>\n",
       "      <td>Maribacter_D halichondriae</td>\n",
       "      <td>d__Bacteria; p__Bacteroidota; c__Bacteroidia; ...</td>\n",
       "      <td>Hal144</td>\n",
       "      <td>94.68</td>\n",
       "      <td>3.45</td>\n",
       "      <td>1</td>\n",
       "      <td>4529002</td>\n",
       "      <td>4529002</td>\n",
       "      <td>4524</td>\n",
       "      <td>...</td>\n",
       "      <td>2023-01-23</td>\n",
       "      <td>Isolate</td>\n",
       "      <td>4279.0</td>\n",
       "      <td>2023-01-23</td>\n",
       "      <td>Halichondria panicea</td>\n",
       "      <td>Germany: Schilksee, Kiel Fjord, Baltic Sea; La...</td>\n",
       "      <td></td>\n",
       "      <td></td>\n",
       "      <td>No</td>\n",
       "      <td>Germany</td>\n",
       "    </tr>\n",
       "    <tr>\n",
       "      <th>160</th>\n",
       "      <td>GCA_019931105.1</td>\n",
       "      <td>Maribacter_D sp019931105</td>\n",
       "      <td>d__Bacteria; p__Bacteroidota; c__Bacteroidia; ...</td>\n",
       "      <td>NBU2977</td>\n",
       "      <td>99.97</td>\n",
       "      <td>0.03</td>\n",
       "      <td>18</td>\n",
       "      <td>2036379</td>\n",
       "      <td>3819109</td>\n",
       "      <td>3439</td>\n",
       "      <td>...</td>\n",
       "      <td>2021-09-12</td>\n",
       "      <td>Isolate</td>\n",
       "      <td></td>\n",
       "      <td>2021-09-12</td>\n",
       "      <td></td>\n",
       "      <td>China:Ningbo city</td>\n",
       "      <td></td>\n",
       "      <td></td>\n",
       "      <td>No</td>\n",
       "      <td>China</td>\n",
       "    </tr>\n",
       "    <tr>\n",
       "      <th>161</th>\n",
       "      <td>GCA_030428705.1</td>\n",
       "      <td>Maribacter_D sp030428705</td>\n",
       "      <td>d__Bacteria; p__Bacteroidota; c__Bacteroidia; ...</td>\n",
       "      <td>7_bin.65</td>\n",
       "      <td>99.99</td>\n",
       "      <td>0.03</td>\n",
       "      <td>17</td>\n",
       "      <td>591830</td>\n",
       "      <td>4157592</td>\n",
       "      <td>3748</td>\n",
       "      <td>...</td>\n",
       "      <td>2023-07-11</td>\n",
       "      <td>MAG</td>\n",
       "      <td></td>\n",
       "      <td>2023-07-11</td>\n",
       "      <td></td>\n",
       "      <td>South Korea</td>\n",
       "      <td>37.7000 N 126.3888 E</td>\n",
       "      <td>Keywords: GSC:MIxS;MIMAG:6.0</td>\n",
       "      <td>No</td>\n",
       "      <td>South Korea</td>\n",
       "    </tr>\n",
       "  </tbody>\n",
       "</table>\n",
       "<p>130 rows × 24 columns</p>\n",
       "</div>"
      ],
      "text/plain": [
       "                  ID                GTDB species  \\\n",
       "0    GCF_027474845.2        Maribacter aestuarii   \n",
       "1    GCF_003933245.1         Maribacter algicola   \n",
       "2    GCF_000621125.1      Maribacter antarcticus   \n",
       "3    GCF_947490135.1        Maribacter aquivivus   \n",
       "5    GCF_947501435.1        Maribacter aquivivus   \n",
       "..               ...                         ...   \n",
       "157  GCA_947500435.1    Maribacter_C sp947500435   \n",
       "158  GCA_947503005.1    Maribacter_C sp947503005   \n",
       "159  GCF_027474825.1  Maribacter_D halichondriae   \n",
       "160  GCA_019931105.1    Maribacter_D sp019931105   \n",
       "161  GCA_030428705.1    Maribacter_D sp030428705   \n",
       "\n",
       "                                         GTDB Taxonomy  \\\n",
       "0    d__Bacteria; p__Bacteroidota; c__Bacteroidia; ...   \n",
       "1    d__Bacteria; p__Bacteroidota; c__Bacteroidia; ...   \n",
       "2    d__Bacteria; p__Bacteroidota; c__Bacteroidia; ...   \n",
       "3    d__Bacteria; p__Bacteroidota; c__Bacteroidia; ...   \n",
       "5    d__Bacteria; p__Bacteroidota; c__Bacteroidia; ...   \n",
       "..                                                 ...   \n",
       "157  d__Bacteria; p__Bacteroidota; c__Bacteroidia; ...   \n",
       "158  d__Bacteria; p__Bacteroidota; c__Bacteroidia; ...   \n",
       "159  d__Bacteria; p__Bacteroidota; c__Bacteroidia; ...   \n",
       "160  d__Bacteria; p__Bacteroidota; c__Bacteroidia; ...   \n",
       "161  d__Bacteria; p__Bacteroidota; c__Bacteroidia; ...   \n",
       "\n",
       "    NCBI Strain Identifiers  CheckM2 Completeness (%)  \\\n",
       "0                  JCM18631                     97.57   \n",
       "1                   PoM-212                    100.00   \n",
       "2                 DSM 21422                     99.99   \n",
       "3            2B2-70-G.fasta                    100.00   \n",
       "5            3-185-3Z.fasta                    100.00   \n",
       "..                      ...                       ...   \n",
       "157           2-612-J.fasta                     99.98   \n",
       "158          N2Y089-1.fasta                     99.96   \n",
       "159                  Hal144                     94.68   \n",
       "160                 NBU2977                     99.97   \n",
       "161                7_bin.65                     99.99   \n",
       "\n",
       "     CheckM2 Contamination (%)  Contig Count  N50 Contigs (bp)  \\\n",
       "0                         0.07             1           3864851   \n",
       "1                         0.12             7           2184756   \n",
       "2                         0.12            35            339358   \n",
       "3                         0.08            32            520442   \n",
       "5                         0.07            25            501921   \n",
       "..                         ...           ...               ...   \n",
       "157                       0.04            43            746516   \n",
       "158                       0.21            31            552514   \n",
       "159                       3.45             1           4529002   \n",
       "160                       0.03            18           2036379   \n",
       "161                       0.03            17            591830   \n",
       "\n",
       "     Genome Size (bp)  Protein Count  ...        Date  Genome Category  \\\n",
       "0             3864851           3616  ...  2023-06-08          Isolate   \n",
       "1             4114314           3589  ...  2018-12-10          Isolate   \n",
       "2             4853010           4305  ...  2014-04-08          Isolate   \n",
       "3             4510051           3894  ...  2023-01-30          Isolate   \n",
       "5             4520649           3870  ...  2023-01-30          Isolate   \n",
       "..                ...            ...  ...         ...              ...   \n",
       "157           4924672           4354  ...  2023-01-30              MAG   \n",
       "158           4576141           3920  ...  2023-01-30              MAG   \n",
       "159           4529002           4524  ...  2023-01-23          Isolate   \n",
       "160           3819109           3439  ...  2021-09-12          Isolate   \n",
       "161           4157592           3748  ...  2023-07-11              MAG   \n",
       "\n",
       "    CDS Count Seq Rel Date          Biosample Host  \\\n",
       "0      3490.0   2023-06-08     tidal flat sediment   \n",
       "1      3524.0   2018-12-10                           \n",
       "2      4165.0   2014-04-08  Pyramimonas gelidicola   \n",
       "3      3853.0   2023-01-30                           \n",
       "5      3836.0   2023-01-30                           \n",
       "..        ...          ...                     ...   \n",
       "157             2023-01-30                           \n",
       "158             2023-01-30                           \n",
       "159    4279.0   2023-01-23    Halichondria panicea   \n",
       "160             2021-09-12                           \n",
       "161             2023-07-11                           \n",
       "\n",
       "                         Biosample Geographic Location  \\\n",
       "0                           South Korea: Gwangyang Bay   \n",
       "1                                 South Korea: Incheon   \n",
       "2                                       Southern Ocean   \n",
       "3                                                China   \n",
       "5                                                China   \n",
       "..                                                 ...   \n",
       "157                                              China   \n",
       "158                                              China   \n",
       "159  Germany: Schilksee, Kiel Fjord, Baltic Sea; La...   \n",
       "160                                  China:Ningbo city   \n",
       "161                                        South Korea   \n",
       "\n",
       "    Biosample Latitude and Longitude  \\\n",
       "0                                      \n",
       "1                                      \n",
       "2                                      \n",
       "3                                      \n",
       "5                                      \n",
       "..                               ...   \n",
       "157                                    \n",
       "158                                    \n",
       "159                                    \n",
       "160                                    \n",
       "161             37.7000 N 126.3888 E   \n",
       "\n",
       "                                 Biosample Description  \\\n",
       "0    Reference: Lo N, Jin HM, Jeon CO. Maribacter a...   \n",
       "1                                                        \n",
       "2                                                        \n",
       "3                                                        \n",
       "5                                                        \n",
       "..                                                 ...   \n",
       "157                                                      \n",
       "158                                                      \n",
       "159                                                      \n",
       "160                                                      \n",
       "161                       Keywords: GSC:MIxS;MIMAG:6.0   \n",
       "\n",
       "          LPSN species validation Biosample Country  \n",
       "0      Yes - Maribacter aestuarii       South Korea  \n",
       "1       Yes - Maribacter algicola       South Korea  \n",
       "2    Yes - Maribacter antarcticus    Southern Ocean  \n",
       "3      Yes - Maribacter aquivivus             China  \n",
       "5      Yes - Maribacter aquivivus             China  \n",
       "..                            ...               ...  \n",
       "157                            No             China  \n",
       "158                            No             China  \n",
       "159                            No           Germany  \n",
       "160                            No             China  \n",
       "161                            No       South Korea  \n",
       "\n",
       "[130 rows x 24 columns]"
      ]
     },
     "metadata": {},
     "output_type": "display_data"
    }
   ],
   "source": [
    "df_valid = df.copy()\n",
    "df_valid['Biosample Country'] = df_valid['Biosample Geographic Location'].apply(lambda x: x.split(':')[0] if x not in ['', 'missing', 'not applicable', 'not provided'] else '')\n",
    "df_valid = df_valid[df_valid['Biosample Country'] != \"\"]\n",
    "display(df_valid)"
   ]
  },
  {
   "cell_type": "code",
   "execution_count": 6,
   "id": "b4266a6e",
   "metadata": {},
   "outputs": [
    {
     "name": "stderr",
     "output_type": "stream",
     "text": [
      "C:\\Users\\Matheus\\AppData\\Local\\Temp\\ipykernel_7116\\2424212579.py:3: DeprecationWarning:\n",
      "\n",
      "The library used by the *country names* `locationmode` option is changing in an upcoming version. Country names in existing plots may not work in the new version. To ensure consistent behavior, consider setting `locationmode` to *ISO-3*.\n",
      "\n"
     ]
    },
    {
     "data": {
      "application/vnd.plotly.v1+json": {
       "config": {
        "plotlyServerURL": "https://plot.ly"
       },
       "data": [
        {
         "coloraxis": "coloraxis",
         "geo": "geo",
         "hovertemplate": "<b>%{hovertext}</b><br><br>Biosample Country=%{location}<br>Quantidade=%{z}<extra></extra>",
         "hovertext": [
          "Antarctica",
          "Arctic Ocean",
          "Atlantic Ocean",
          "Australia",
          "China",
          "Czech Republic",
          "Germany",
          "Indian Ocean",
          "Italy",
          "Japan",
          "New Zealand",
          "North Sea",
          "Norway",
          "Peru",
          "Russia",
          "South Korea",
          "Southern Ocean",
          "Taiwan",
          "USA"
         ],
         "locationmode": "country names",
         "locations": [
          "Antarctica",
          "Arctic Ocean",
          "Atlantic Ocean",
          "Australia",
          "China",
          "Czech Republic",
          "Germany",
          "Indian Ocean",
          "Italy",
          "Japan",
          "New Zealand",
          "North Sea",
          "Norway",
          "Peru",
          "Russia",
          "South Korea",
          "Southern Ocean",
          "Taiwan",
          "USA"
         ],
         "name": "",
         "type": "choropleth",
         "z": {
          "bdata": "AwQBAi0BAQEBAwIBAQEECAEBMQ==",
          "dtype": "i1"
         }
        }
       ],
       "layout": {
        "coloraxis": {
         "colorbar": {
          "title": {
           "text": "Quantidade"
          }
         },
         "colorscale": [
          [
           0,
           "#440154"
          ],
          [
           0.1111111111111111,
           "#482878"
          ],
          [
           0.2222222222222222,
           "#3e4989"
          ],
          [
           0.3333333333333333,
           "#31688e"
          ],
          [
           0.4444444444444444,
           "#26828e"
          ],
          [
           0.5555555555555556,
           "#1f9e89"
          ],
          [
           0.6666666666666666,
           "#35b779"
          ],
          [
           0.7777777777777778,
           "#6ece58"
          ],
          [
           0.8888888888888888,
           "#b5de2b"
          ],
          [
           1,
           "#fde725"
          ]
         ]
        },
        "geo": {
         "center": {},
         "domain": {
          "x": [
           0,
           1
          ],
          "y": [
           0,
           1
          ]
         }
        },
        "legend": {
         "tracegroupgap": 0
        },
        "margin": {
         "t": 60
        },
        "template": {
         "data": {
          "bar": [
           {
            "error_x": {
             "color": "#2a3f5f"
            },
            "error_y": {
             "color": "#2a3f5f"
            },
            "marker": {
             "line": {
              "color": "#E5ECF6",
              "width": 0.5
             },
             "pattern": {
              "fillmode": "overlay",
              "size": 10,
              "solidity": 0.2
             }
            },
            "type": "bar"
           }
          ],
          "barpolar": [
           {
            "marker": {
             "line": {
              "color": "#E5ECF6",
              "width": 0.5
             },
             "pattern": {
              "fillmode": "overlay",
              "size": 10,
              "solidity": 0.2
             }
            },
            "type": "barpolar"
           }
          ],
          "carpet": [
           {
            "aaxis": {
             "endlinecolor": "#2a3f5f",
             "gridcolor": "white",
             "linecolor": "white",
             "minorgridcolor": "white",
             "startlinecolor": "#2a3f5f"
            },
            "baxis": {
             "endlinecolor": "#2a3f5f",
             "gridcolor": "white",
             "linecolor": "white",
             "minorgridcolor": "white",
             "startlinecolor": "#2a3f5f"
            },
            "type": "carpet"
           }
          ],
          "choropleth": [
           {
            "colorbar": {
             "outlinewidth": 0,
             "ticks": ""
            },
            "type": "choropleth"
           }
          ],
          "contour": [
           {
            "colorbar": {
             "outlinewidth": 0,
             "ticks": ""
            },
            "colorscale": [
             [
              0,
              "#0d0887"
             ],
             [
              0.1111111111111111,
              "#46039f"
             ],
             [
              0.2222222222222222,
              "#7201a8"
             ],
             [
              0.3333333333333333,
              "#9c179e"
             ],
             [
              0.4444444444444444,
              "#bd3786"
             ],
             [
              0.5555555555555556,
              "#d8576b"
             ],
             [
              0.6666666666666666,
              "#ed7953"
             ],
             [
              0.7777777777777778,
              "#fb9f3a"
             ],
             [
              0.8888888888888888,
              "#fdca26"
             ],
             [
              1,
              "#f0f921"
             ]
            ],
            "type": "contour"
           }
          ],
          "contourcarpet": [
           {
            "colorbar": {
             "outlinewidth": 0,
             "ticks": ""
            },
            "type": "contourcarpet"
           }
          ],
          "heatmap": [
           {
            "colorbar": {
             "outlinewidth": 0,
             "ticks": ""
            },
            "colorscale": [
             [
              0,
              "#0d0887"
             ],
             [
              0.1111111111111111,
              "#46039f"
             ],
             [
              0.2222222222222222,
              "#7201a8"
             ],
             [
              0.3333333333333333,
              "#9c179e"
             ],
             [
              0.4444444444444444,
              "#bd3786"
             ],
             [
              0.5555555555555556,
              "#d8576b"
             ],
             [
              0.6666666666666666,
              "#ed7953"
             ],
             [
              0.7777777777777778,
              "#fb9f3a"
             ],
             [
              0.8888888888888888,
              "#fdca26"
             ],
             [
              1,
              "#f0f921"
             ]
            ],
            "type": "heatmap"
           }
          ],
          "histogram": [
           {
            "marker": {
             "pattern": {
              "fillmode": "overlay",
              "size": 10,
              "solidity": 0.2
             }
            },
            "type": "histogram"
           }
          ],
          "histogram2d": [
           {
            "colorbar": {
             "outlinewidth": 0,
             "ticks": ""
            },
            "colorscale": [
             [
              0,
              "#0d0887"
             ],
             [
              0.1111111111111111,
              "#46039f"
             ],
             [
              0.2222222222222222,
              "#7201a8"
             ],
             [
              0.3333333333333333,
              "#9c179e"
             ],
             [
              0.4444444444444444,
              "#bd3786"
             ],
             [
              0.5555555555555556,
              "#d8576b"
             ],
             [
              0.6666666666666666,
              "#ed7953"
             ],
             [
              0.7777777777777778,
              "#fb9f3a"
             ],
             [
              0.8888888888888888,
              "#fdca26"
             ],
             [
              1,
              "#f0f921"
             ]
            ],
            "type": "histogram2d"
           }
          ],
          "histogram2dcontour": [
           {
            "colorbar": {
             "outlinewidth": 0,
             "ticks": ""
            },
            "colorscale": [
             [
              0,
              "#0d0887"
             ],
             [
              0.1111111111111111,
              "#46039f"
             ],
             [
              0.2222222222222222,
              "#7201a8"
             ],
             [
              0.3333333333333333,
              "#9c179e"
             ],
             [
              0.4444444444444444,
              "#bd3786"
             ],
             [
              0.5555555555555556,
              "#d8576b"
             ],
             [
              0.6666666666666666,
              "#ed7953"
             ],
             [
              0.7777777777777778,
              "#fb9f3a"
             ],
             [
              0.8888888888888888,
              "#fdca26"
             ],
             [
              1,
              "#f0f921"
             ]
            ],
            "type": "histogram2dcontour"
           }
          ],
          "mesh3d": [
           {
            "colorbar": {
             "outlinewidth": 0,
             "ticks": ""
            },
            "type": "mesh3d"
           }
          ],
          "parcoords": [
           {
            "line": {
             "colorbar": {
              "outlinewidth": 0,
              "ticks": ""
             }
            },
            "type": "parcoords"
           }
          ],
          "pie": [
           {
            "automargin": true,
            "type": "pie"
           }
          ],
          "scatter": [
           {
            "fillpattern": {
             "fillmode": "overlay",
             "size": 10,
             "solidity": 0.2
            },
            "type": "scatter"
           }
          ],
          "scatter3d": [
           {
            "line": {
             "colorbar": {
              "outlinewidth": 0,
              "ticks": ""
             }
            },
            "marker": {
             "colorbar": {
              "outlinewidth": 0,
              "ticks": ""
             }
            },
            "type": "scatter3d"
           }
          ],
          "scattercarpet": [
           {
            "marker": {
             "colorbar": {
              "outlinewidth": 0,
              "ticks": ""
             }
            },
            "type": "scattercarpet"
           }
          ],
          "scattergeo": [
           {
            "marker": {
             "colorbar": {
              "outlinewidth": 0,
              "ticks": ""
             }
            },
            "type": "scattergeo"
           }
          ],
          "scattergl": [
           {
            "marker": {
             "colorbar": {
              "outlinewidth": 0,
              "ticks": ""
             }
            },
            "type": "scattergl"
           }
          ],
          "scattermap": [
           {
            "marker": {
             "colorbar": {
              "outlinewidth": 0,
              "ticks": ""
             }
            },
            "type": "scattermap"
           }
          ],
          "scattermapbox": [
           {
            "marker": {
             "colorbar": {
              "outlinewidth": 0,
              "ticks": ""
             }
            },
            "type": "scattermapbox"
           }
          ],
          "scatterpolar": [
           {
            "marker": {
             "colorbar": {
              "outlinewidth": 0,
              "ticks": ""
             }
            },
            "type": "scatterpolar"
           }
          ],
          "scatterpolargl": [
           {
            "marker": {
             "colorbar": {
              "outlinewidth": 0,
              "ticks": ""
             }
            },
            "type": "scatterpolargl"
           }
          ],
          "scatterternary": [
           {
            "marker": {
             "colorbar": {
              "outlinewidth": 0,
              "ticks": ""
             }
            },
            "type": "scatterternary"
           }
          ],
          "surface": [
           {
            "colorbar": {
             "outlinewidth": 0,
             "ticks": ""
            },
            "colorscale": [
             [
              0,
              "#0d0887"
             ],
             [
              0.1111111111111111,
              "#46039f"
             ],
             [
              0.2222222222222222,
              "#7201a8"
             ],
             [
              0.3333333333333333,
              "#9c179e"
             ],
             [
              0.4444444444444444,
              "#bd3786"
             ],
             [
              0.5555555555555556,
              "#d8576b"
             ],
             [
              0.6666666666666666,
              "#ed7953"
             ],
             [
              0.7777777777777778,
              "#fb9f3a"
             ],
             [
              0.8888888888888888,
              "#fdca26"
             ],
             [
              1,
              "#f0f921"
             ]
            ],
            "type": "surface"
           }
          ],
          "table": [
           {
            "cells": {
             "fill": {
              "color": "#EBF0F8"
             },
             "line": {
              "color": "white"
             }
            },
            "header": {
             "fill": {
              "color": "#C8D4E3"
             },
             "line": {
              "color": "white"
             }
            },
            "type": "table"
           }
          ]
         },
         "layout": {
          "annotationdefaults": {
           "arrowcolor": "#2a3f5f",
           "arrowhead": 0,
           "arrowwidth": 1
          },
          "autotypenumbers": "strict",
          "coloraxis": {
           "colorbar": {
            "outlinewidth": 0,
            "ticks": ""
           }
          },
          "colorscale": {
           "diverging": [
            [
             0,
             "#8e0152"
            ],
            [
             0.1,
             "#c51b7d"
            ],
            [
             0.2,
             "#de77ae"
            ],
            [
             0.3,
             "#f1b6da"
            ],
            [
             0.4,
             "#fde0ef"
            ],
            [
             0.5,
             "#f7f7f7"
            ],
            [
             0.6,
             "#e6f5d0"
            ],
            [
             0.7,
             "#b8e186"
            ],
            [
             0.8,
             "#7fbc41"
            ],
            [
             0.9,
             "#4d9221"
            ],
            [
             1,
             "#276419"
            ]
           ],
           "sequential": [
            [
             0,
             "#0d0887"
            ],
            [
             0.1111111111111111,
             "#46039f"
            ],
            [
             0.2222222222222222,
             "#7201a8"
            ],
            [
             0.3333333333333333,
             "#9c179e"
            ],
            [
             0.4444444444444444,
             "#bd3786"
            ],
            [
             0.5555555555555556,
             "#d8576b"
            ],
            [
             0.6666666666666666,
             "#ed7953"
            ],
            [
             0.7777777777777778,
             "#fb9f3a"
            ],
            [
             0.8888888888888888,
             "#fdca26"
            ],
            [
             1,
             "#f0f921"
            ]
           ],
           "sequentialminus": [
            [
             0,
             "#0d0887"
            ],
            [
             0.1111111111111111,
             "#46039f"
            ],
            [
             0.2222222222222222,
             "#7201a8"
            ],
            [
             0.3333333333333333,
             "#9c179e"
            ],
            [
             0.4444444444444444,
             "#bd3786"
            ],
            [
             0.5555555555555556,
             "#d8576b"
            ],
            [
             0.6666666666666666,
             "#ed7953"
            ],
            [
             0.7777777777777778,
             "#fb9f3a"
            ],
            [
             0.8888888888888888,
             "#fdca26"
            ],
            [
             1,
             "#f0f921"
            ]
           ]
          },
          "colorway": [
           "#636efa",
           "#EF553B",
           "#00cc96",
           "#ab63fa",
           "#FFA15A",
           "#19d3f3",
           "#FF6692",
           "#B6E880",
           "#FF97FF",
           "#FECB52"
          ],
          "font": {
           "color": "#2a3f5f"
          },
          "geo": {
           "bgcolor": "white",
           "lakecolor": "white",
           "landcolor": "#E5ECF6",
           "showlakes": true,
           "showland": true,
           "subunitcolor": "white"
          },
          "hoverlabel": {
           "align": "left"
          },
          "hovermode": "closest",
          "mapbox": {
           "style": "light"
          },
          "paper_bgcolor": "white",
          "plot_bgcolor": "#E5ECF6",
          "polar": {
           "angularaxis": {
            "gridcolor": "white",
            "linecolor": "white",
            "ticks": ""
           },
           "bgcolor": "#E5ECF6",
           "radialaxis": {
            "gridcolor": "white",
            "linecolor": "white",
            "ticks": ""
           }
          },
          "scene": {
           "xaxis": {
            "backgroundcolor": "#E5ECF6",
            "gridcolor": "white",
            "gridwidth": 2,
            "linecolor": "white",
            "showbackground": true,
            "ticks": "",
            "zerolinecolor": "white"
           },
           "yaxis": {
            "backgroundcolor": "#E5ECF6",
            "gridcolor": "white",
            "gridwidth": 2,
            "linecolor": "white",
            "showbackground": true,
            "ticks": "",
            "zerolinecolor": "white"
           },
           "zaxis": {
            "backgroundcolor": "#E5ECF6",
            "gridcolor": "white",
            "gridwidth": 2,
            "linecolor": "white",
            "showbackground": true,
            "ticks": "",
            "zerolinecolor": "white"
           }
          },
          "shapedefaults": {
           "line": {
            "color": "#2a3f5f"
           }
          },
          "ternary": {
           "aaxis": {
            "gridcolor": "white",
            "linecolor": "white",
            "ticks": ""
           },
           "baxis": {
            "gridcolor": "white",
            "linecolor": "white",
            "ticks": ""
           },
           "bgcolor": "#E5ECF6",
           "caxis": {
            "gridcolor": "white",
            "linecolor": "white",
            "ticks": ""
           }
          },
          "title": {
           "x": 0.05
          },
          "xaxis": {
           "automargin": true,
           "gridcolor": "white",
           "linecolor": "white",
           "ticks": "",
           "title": {
            "standoff": 15
           },
           "zerolinecolor": "white",
           "zerolinewidth": 2
          },
          "yaxis": {
           "automargin": true,
           "gridcolor": "white",
           "linecolor": "white",
           "ticks": "",
           "title": {
            "standoff": 15
           },
           "zerolinecolor": "white",
           "zerolinewidth": 2
          }
         }
        }
       }
      }
     },
     "metadata": {},
     "output_type": "display_data"
    },
    {
     "name": "stdout",
     "output_type": "stream",
     "text": [
      "============= Dados Relevantes =============\n",
      "Amostras com país de origem conhecido: 130\n",
      "Amostras de origem desconhecida: 32\n",
      "Espécies distintas: 55\n",
      "Total de países: 19\n",
      "============================================\n"
     ]
    }
   ],
   "source": [
    "country_counts = df_valid.groupby('Biosample Country').size().reset_index(name=\"Quantidade\")\n",
    "\n",
    "fig = px.choropleth(\n",
    "    country_counts,\n",
    "    locations=\"Biosample Country\",\n",
    "    locationmode=\"country names\",  # permite usar nomes de países diretamente\n",
    "    color=\"Quantidade\",\n",
    "    hover_name=\"Biosample Country\",\n",
    "    color_continuous_scale=\"Viridis\"\n",
    "    # title=\"Distribuição de espécies de Maribacter por país\"\n",
    ")\n",
    "\n",
    "fig.show()\n",
    "\n",
    "print(\"============= Dados Relevantes =============\")\n",
    "print(f\"Amostras com país de origem conhecido: {len(df_valid)}\")\n",
    "print(f\"Amostras de origem desconhecida: {len(df) - len(df_valid)}\")\n",
    "print(f\"Espécies distintas: {df_valid['GTDB species'].nunique()}\")\n",
    "print(f\"Total de países: {df_valid['Biosample Country'].nunique()}\")\n",
    "print(\"============================================\")"
   ]
  },
  {
   "cell_type": "code",
   "execution_count": 7,
   "id": "dd1ccbfe",
   "metadata": {},
   "outputs": [
    {
     "name": "stderr",
     "output_type": "stream",
     "text": [
      "C:\\Users\\Matheus\\AppData\\Local\\Temp\\ipykernel_7116\\3278973497.py:2: DeprecationWarning:\n",
      "\n",
      "\n",
      "Support for the 'engine' argument is deprecated and will be removed after September 2025.\n",
      "Kaleido will be the only supported engine at that time.\n",
      "\n",
      "\n"
     ]
    }
   ],
   "source": [
    "# Salvar o gráfico em alta resolução\n",
    "fig.write_image(PATH_GRAPHS / \"distribuicao_maribacter_por_pais.png\", \n",
    "                scale=3,  # Aumenta a resolução (3x)\n",
    "                width=1600,  # Largura em pixels\n",
    "                height=900,   # Altura em pixels\n",
    "                engine=\"kaleido\")  # Motor de renderização"
   ]
  },
  {
   "cell_type": "markdown",
   "id": "7b102ff9",
   "metadata": {},
   "source": [
    "#### Mapa-mundi: Países + oceanos"
   ]
  },
  {
   "cell_type": "markdown",
   "id": "8928e753",
   "metadata": {},
   "source": [
    "Este mapa é similar ao anterior, mas inclui as origes dos oceanos."
   ]
  },
  {
   "cell_type": "code",
   "execution_count": 9,
   "id": "62062a1e",
   "metadata": {},
   "outputs": [
    {
     "name": "stderr",
     "output_type": "stream",
     "text": [
      "C:\\Users\\Matheus\\AppData\\Local\\Temp\\ipykernel_7116\\416925783.py:32: DeprecationWarning:\n",
      "\n",
      "The library used by the *country names* `locationmode` option is changing in an upcoming version. Country names in existing plots may not work in the new version. To ensure consistent behavior, consider setting `locationmode` to *ISO-3*.\n",
      "\n"
     ]
    },
    {
     "data": {
      "application/vnd.plotly.v1+json": {
       "config": {
        "plotlyServerURL": "https://plot.ly"
       },
       "data": [
        {
         "coloraxis": "coloraxis",
         "geo": "geo",
         "hovertemplate": "<b>%{hovertext}</b><br><br>Biosample Country=%{location}<br>Quantidade=%{z}<extra></extra>",
         "hovertext": [
          "Antarctica",
          "Australia",
          "China",
          "Czech Republic",
          "Germany",
          "Italy",
          "Japan",
          "New Zealand",
          "Norway",
          "Peru",
          "Russia",
          "South Korea",
          "Taiwan",
          "USA"
         ],
         "locationmode": "country names",
         "locations": [
          "Antarctica",
          "Australia",
          "China",
          "Czech Republic",
          "Germany",
          "Italy",
          "Japan",
          "New Zealand",
          "Norway",
          "Peru",
          "Russia",
          "South Korea",
          "Taiwan",
          "USA"
         ],
         "name": "",
         "type": "choropleth",
         "z": {
          "bdata": "AwItAQEBAwIBAQQIATE=",
          "dtype": "i1"
         }
        },
        {
         "lat": {
          "bdata": "SwDsOL8=",
          "dtype": "i1"
         },
         "lon": {
          "bdata": "AOJQAwA=",
          "dtype": "i1"
         },
         "marker": {
          "color": "blue",
          "opacity": 0.7,
          "size": {
           "bdata": "DAMDAwM=",
           "dtype": "i1"
          }
         },
         "mode": "markers+text",
         "name": "Oceanos/Mares",
         "text": [
          "Ártico",
          "Atlântico",
          "Índico",
          "Mar do Norte",
          "Antártico"
         ],
         "textposition": "top center",
         "type": "scattergeo"
        }
       ],
       "layout": {
        "coloraxis": {
         "colorbar": {
          "title": {
           "text": "Quantidade"
          }
         },
         "colorscale": [
          [
           0,
           "#440154"
          ],
          [
           0.1111111111111111,
           "#482878"
          ],
          [
           0.2222222222222222,
           "#3e4989"
          ],
          [
           0.3333333333333333,
           "#31688e"
          ],
          [
           0.4444444444444444,
           "#26828e"
          ],
          [
           0.5555555555555556,
           "#1f9e89"
          ],
          [
           0.6666666666666666,
           "#35b779"
          ],
          [
           0.7777777777777778,
           "#6ece58"
          ],
          [
           0.8888888888888888,
           "#b5de2b"
          ],
          [
           1,
           "#fde725"
          ]
         ]
        },
        "geo": {
         "center": {},
         "domain": {
          "x": [
           0,
           1
          ],
          "y": [
           0,
           1
          ]
         }
        },
        "legend": {
         "tracegroupgap": 0
        },
        "margin": {
         "t": 60
        },
        "template": {
         "data": {
          "bar": [
           {
            "error_x": {
             "color": "#2a3f5f"
            },
            "error_y": {
             "color": "#2a3f5f"
            },
            "marker": {
             "line": {
              "color": "#E5ECF6",
              "width": 0.5
             },
             "pattern": {
              "fillmode": "overlay",
              "size": 10,
              "solidity": 0.2
             }
            },
            "type": "bar"
           }
          ],
          "barpolar": [
           {
            "marker": {
             "line": {
              "color": "#E5ECF6",
              "width": 0.5
             },
             "pattern": {
              "fillmode": "overlay",
              "size": 10,
              "solidity": 0.2
             }
            },
            "type": "barpolar"
           }
          ],
          "carpet": [
           {
            "aaxis": {
             "endlinecolor": "#2a3f5f",
             "gridcolor": "white",
             "linecolor": "white",
             "minorgridcolor": "white",
             "startlinecolor": "#2a3f5f"
            },
            "baxis": {
             "endlinecolor": "#2a3f5f",
             "gridcolor": "white",
             "linecolor": "white",
             "minorgridcolor": "white",
             "startlinecolor": "#2a3f5f"
            },
            "type": "carpet"
           }
          ],
          "choropleth": [
           {
            "colorbar": {
             "outlinewidth": 0,
             "ticks": ""
            },
            "type": "choropleth"
           }
          ],
          "contour": [
           {
            "colorbar": {
             "outlinewidth": 0,
             "ticks": ""
            },
            "colorscale": [
             [
              0,
              "#0d0887"
             ],
             [
              0.1111111111111111,
              "#46039f"
             ],
             [
              0.2222222222222222,
              "#7201a8"
             ],
             [
              0.3333333333333333,
              "#9c179e"
             ],
             [
              0.4444444444444444,
              "#bd3786"
             ],
             [
              0.5555555555555556,
              "#d8576b"
             ],
             [
              0.6666666666666666,
              "#ed7953"
             ],
             [
              0.7777777777777778,
              "#fb9f3a"
             ],
             [
              0.8888888888888888,
              "#fdca26"
             ],
             [
              1,
              "#f0f921"
             ]
            ],
            "type": "contour"
           }
          ],
          "contourcarpet": [
           {
            "colorbar": {
             "outlinewidth": 0,
             "ticks": ""
            },
            "type": "contourcarpet"
           }
          ],
          "heatmap": [
           {
            "colorbar": {
             "outlinewidth": 0,
             "ticks": ""
            },
            "colorscale": [
             [
              0,
              "#0d0887"
             ],
             [
              0.1111111111111111,
              "#46039f"
             ],
             [
              0.2222222222222222,
              "#7201a8"
             ],
             [
              0.3333333333333333,
              "#9c179e"
             ],
             [
              0.4444444444444444,
              "#bd3786"
             ],
             [
              0.5555555555555556,
              "#d8576b"
             ],
             [
              0.6666666666666666,
              "#ed7953"
             ],
             [
              0.7777777777777778,
              "#fb9f3a"
             ],
             [
              0.8888888888888888,
              "#fdca26"
             ],
             [
              1,
              "#f0f921"
             ]
            ],
            "type": "heatmap"
           }
          ],
          "histogram": [
           {
            "marker": {
             "pattern": {
              "fillmode": "overlay",
              "size": 10,
              "solidity": 0.2
             }
            },
            "type": "histogram"
           }
          ],
          "histogram2d": [
           {
            "colorbar": {
             "outlinewidth": 0,
             "ticks": ""
            },
            "colorscale": [
             [
              0,
              "#0d0887"
             ],
             [
              0.1111111111111111,
              "#46039f"
             ],
             [
              0.2222222222222222,
              "#7201a8"
             ],
             [
              0.3333333333333333,
              "#9c179e"
             ],
             [
              0.4444444444444444,
              "#bd3786"
             ],
             [
              0.5555555555555556,
              "#d8576b"
             ],
             [
              0.6666666666666666,
              "#ed7953"
             ],
             [
              0.7777777777777778,
              "#fb9f3a"
             ],
             [
              0.8888888888888888,
              "#fdca26"
             ],
             [
              1,
              "#f0f921"
             ]
            ],
            "type": "histogram2d"
           }
          ],
          "histogram2dcontour": [
           {
            "colorbar": {
             "outlinewidth": 0,
             "ticks": ""
            },
            "colorscale": [
             [
              0,
              "#0d0887"
             ],
             [
              0.1111111111111111,
              "#46039f"
             ],
             [
              0.2222222222222222,
              "#7201a8"
             ],
             [
              0.3333333333333333,
              "#9c179e"
             ],
             [
              0.4444444444444444,
              "#bd3786"
             ],
             [
              0.5555555555555556,
              "#d8576b"
             ],
             [
              0.6666666666666666,
              "#ed7953"
             ],
             [
              0.7777777777777778,
              "#fb9f3a"
             ],
             [
              0.8888888888888888,
              "#fdca26"
             ],
             [
              1,
              "#f0f921"
             ]
            ],
            "type": "histogram2dcontour"
           }
          ],
          "mesh3d": [
           {
            "colorbar": {
             "outlinewidth": 0,
             "ticks": ""
            },
            "type": "mesh3d"
           }
          ],
          "parcoords": [
           {
            "line": {
             "colorbar": {
              "outlinewidth": 0,
              "ticks": ""
             }
            },
            "type": "parcoords"
           }
          ],
          "pie": [
           {
            "automargin": true,
            "type": "pie"
           }
          ],
          "scatter": [
           {
            "fillpattern": {
             "fillmode": "overlay",
             "size": 10,
             "solidity": 0.2
            },
            "type": "scatter"
           }
          ],
          "scatter3d": [
           {
            "line": {
             "colorbar": {
              "outlinewidth": 0,
              "ticks": ""
             }
            },
            "marker": {
             "colorbar": {
              "outlinewidth": 0,
              "ticks": ""
             }
            },
            "type": "scatter3d"
           }
          ],
          "scattercarpet": [
           {
            "marker": {
             "colorbar": {
              "outlinewidth": 0,
              "ticks": ""
             }
            },
            "type": "scattercarpet"
           }
          ],
          "scattergeo": [
           {
            "marker": {
             "colorbar": {
              "outlinewidth": 0,
              "ticks": ""
             }
            },
            "type": "scattergeo"
           }
          ],
          "scattergl": [
           {
            "marker": {
             "colorbar": {
              "outlinewidth": 0,
              "ticks": ""
             }
            },
            "type": "scattergl"
           }
          ],
          "scattermap": [
           {
            "marker": {
             "colorbar": {
              "outlinewidth": 0,
              "ticks": ""
             }
            },
            "type": "scattermap"
           }
          ],
          "scattermapbox": [
           {
            "marker": {
             "colorbar": {
              "outlinewidth": 0,
              "ticks": ""
             }
            },
            "type": "scattermapbox"
           }
          ],
          "scatterpolar": [
           {
            "marker": {
             "colorbar": {
              "outlinewidth": 0,
              "ticks": ""
             }
            },
            "type": "scatterpolar"
           }
          ],
          "scatterpolargl": [
           {
            "marker": {
             "colorbar": {
              "outlinewidth": 0,
              "ticks": ""
             }
            },
            "type": "scatterpolargl"
           }
          ],
          "scatterternary": [
           {
            "marker": {
             "colorbar": {
              "outlinewidth": 0,
              "ticks": ""
             }
            },
            "type": "scatterternary"
           }
          ],
          "surface": [
           {
            "colorbar": {
             "outlinewidth": 0,
             "ticks": ""
            },
            "colorscale": [
             [
              0,
              "#0d0887"
             ],
             [
              0.1111111111111111,
              "#46039f"
             ],
             [
              0.2222222222222222,
              "#7201a8"
             ],
             [
              0.3333333333333333,
              "#9c179e"
             ],
             [
              0.4444444444444444,
              "#bd3786"
             ],
             [
              0.5555555555555556,
              "#d8576b"
             ],
             [
              0.6666666666666666,
              "#ed7953"
             ],
             [
              0.7777777777777778,
              "#fb9f3a"
             ],
             [
              0.8888888888888888,
              "#fdca26"
             ],
             [
              1,
              "#f0f921"
             ]
            ],
            "type": "surface"
           }
          ],
          "table": [
           {
            "cells": {
             "fill": {
              "color": "#EBF0F8"
             },
             "line": {
              "color": "white"
             }
            },
            "header": {
             "fill": {
              "color": "#C8D4E3"
             },
             "line": {
              "color": "white"
             }
            },
            "type": "table"
           }
          ]
         },
         "layout": {
          "annotationdefaults": {
           "arrowcolor": "#2a3f5f",
           "arrowhead": 0,
           "arrowwidth": 1
          },
          "autotypenumbers": "strict",
          "coloraxis": {
           "colorbar": {
            "outlinewidth": 0,
            "ticks": ""
           }
          },
          "colorscale": {
           "diverging": [
            [
             0,
             "#8e0152"
            ],
            [
             0.1,
             "#c51b7d"
            ],
            [
             0.2,
             "#de77ae"
            ],
            [
             0.3,
             "#f1b6da"
            ],
            [
             0.4,
             "#fde0ef"
            ],
            [
             0.5,
             "#f7f7f7"
            ],
            [
             0.6,
             "#e6f5d0"
            ],
            [
             0.7,
             "#b8e186"
            ],
            [
             0.8,
             "#7fbc41"
            ],
            [
             0.9,
             "#4d9221"
            ],
            [
             1,
             "#276419"
            ]
           ],
           "sequential": [
            [
             0,
             "#0d0887"
            ],
            [
             0.1111111111111111,
             "#46039f"
            ],
            [
             0.2222222222222222,
             "#7201a8"
            ],
            [
             0.3333333333333333,
             "#9c179e"
            ],
            [
             0.4444444444444444,
             "#bd3786"
            ],
            [
             0.5555555555555556,
             "#d8576b"
            ],
            [
             0.6666666666666666,
             "#ed7953"
            ],
            [
             0.7777777777777778,
             "#fb9f3a"
            ],
            [
             0.8888888888888888,
             "#fdca26"
            ],
            [
             1,
             "#f0f921"
            ]
           ],
           "sequentialminus": [
            [
             0,
             "#0d0887"
            ],
            [
             0.1111111111111111,
             "#46039f"
            ],
            [
             0.2222222222222222,
             "#7201a8"
            ],
            [
             0.3333333333333333,
             "#9c179e"
            ],
            [
             0.4444444444444444,
             "#bd3786"
            ],
            [
             0.5555555555555556,
             "#d8576b"
            ],
            [
             0.6666666666666666,
             "#ed7953"
            ],
            [
             0.7777777777777778,
             "#fb9f3a"
            ],
            [
             0.8888888888888888,
             "#fdca26"
            ],
            [
             1,
             "#f0f921"
            ]
           ]
          },
          "colorway": [
           "#636efa",
           "#EF553B",
           "#00cc96",
           "#ab63fa",
           "#FFA15A",
           "#19d3f3",
           "#FF6692",
           "#B6E880",
           "#FF97FF",
           "#FECB52"
          ],
          "font": {
           "color": "#2a3f5f"
          },
          "geo": {
           "bgcolor": "white",
           "lakecolor": "white",
           "landcolor": "#E5ECF6",
           "showlakes": true,
           "showland": true,
           "subunitcolor": "white"
          },
          "hoverlabel": {
           "align": "left"
          },
          "hovermode": "closest",
          "mapbox": {
           "style": "light"
          },
          "paper_bgcolor": "white",
          "plot_bgcolor": "#E5ECF6",
          "polar": {
           "angularaxis": {
            "gridcolor": "white",
            "linecolor": "white",
            "ticks": ""
           },
           "bgcolor": "#E5ECF6",
           "radialaxis": {
            "gridcolor": "white",
            "linecolor": "white",
            "ticks": ""
           }
          },
          "scene": {
           "xaxis": {
            "backgroundcolor": "#E5ECF6",
            "gridcolor": "white",
            "gridwidth": 2,
            "linecolor": "white",
            "showbackground": true,
            "ticks": "",
            "zerolinecolor": "white"
           },
           "yaxis": {
            "backgroundcolor": "#E5ECF6",
            "gridcolor": "white",
            "gridwidth": 2,
            "linecolor": "white",
            "showbackground": true,
            "ticks": "",
            "zerolinecolor": "white"
           },
           "zaxis": {
            "backgroundcolor": "#E5ECF6",
            "gridcolor": "white",
            "gridwidth": 2,
            "linecolor": "white",
            "showbackground": true,
            "ticks": "",
            "zerolinecolor": "white"
           }
          },
          "shapedefaults": {
           "line": {
            "color": "#2a3f5f"
           }
          },
          "ternary": {
           "aaxis": {
            "gridcolor": "white",
            "linecolor": "white",
            "ticks": ""
           },
           "baxis": {
            "gridcolor": "white",
            "linecolor": "white",
            "ticks": ""
           },
           "bgcolor": "#E5ECF6",
           "caxis": {
            "gridcolor": "white",
            "linecolor": "white",
            "ticks": ""
           }
          },
          "title": {
           "x": 0.05
          },
          "xaxis": {
           "automargin": true,
           "gridcolor": "white",
           "linecolor": "white",
           "ticks": "",
           "title": {
            "standoff": 15
           },
           "zerolinecolor": "white",
           "zerolinewidth": 2
          },
          "yaxis": {
           "automargin": true,
           "gridcolor": "white",
           "linecolor": "white",
           "ticks": "",
           "title": {
            "standoff": 15
           },
           "zerolinecolor": "white",
           "zerolinewidth": 2
          }
         }
        }
       }
      }
     },
     "metadata": {},
     "output_type": "display_data"
    },
    {
     "name": "stdout",
     "output_type": "stream",
     "text": [
      "============= Dados Relevantes =============\n",
      "Amostras com país de origem conhecido: 130\n",
      "Amostras de origem desconhecida: 32\n",
      "Espécies distintas: 55\n",
      "Total de países: 19\n",
      "============================================\n"
     ]
    }
   ],
   "source": [
    "# Contagem de ocorrências por local\n",
    "counts = df_valid.groupby(\"Biosample Country\").size().reset_index(name=\"Quantidade\")\n",
    "\n",
    "# Dicionário de coordenadas aproximadas para oceanos/mares\n",
    "ocean_coords = {\n",
    "    \"Atlantic Ocean\": {\"lat\": 0, \"lon\": -30},\n",
    "    \"Indian Ocean\": {\"lat\": -20, \"lon\": 80},\n",
    "    \"Arctic Ocean\": {\"lat\": 75, \"lon\": 0},\n",
    "    \"Southern Ocean\": {\"lat\": -65, \"lon\": 0},\n",
    "    \"North Sea\": {\"lat\": 56, \"lon\": 3},\n",
    "}\n",
    "\n",
    "# Dicionário com nomes mais amigáveis\n",
    "ocean_labels = {\n",
    "    \"Atlantic Ocean\": \"Atlântico\",\n",
    "    \"Indian Ocean\": \"Índico\",\n",
    "    \"Arctic Ocean\": \"Ártico\",\n",
    "    \"Southern Ocean\": \"Antártico\",\n",
    "    \"North Sea\": \"Mar do Norte\"\n",
    "}\n",
    "\n",
    "# Separar países e mares/oceanos\n",
    "country_data = counts[~counts[\"Biosample Country\"].isin(ocean_coords.keys())]\n",
    "ocean_data = counts[counts[\"Biosample Country\"].isin(ocean_coords.keys())].copy()\n",
    "\n",
    "# Adicionar lat/lon e rótulos customizados para oceanos\n",
    "ocean_data[\"lat\"] = ocean_data[\"Biosample Country\"].map(lambda x: ocean_coords[x][\"lat\"])\n",
    "ocean_data[\"lon\"] = ocean_data[\"Biosample Country\"].map(lambda x: ocean_coords[x][\"lon\"])\n",
    "ocean_data[\"label\"] = ocean_data[\"Biosample Country\"].map(ocean_labels)\n",
    "\n",
    "# Criar mapa coroplético para países\n",
    "fig = px.choropleth(\n",
    "    country_data,\n",
    "    locations=\"Biosample Country\",\n",
    "    locationmode=\"country names\",\n",
    "    color=\"Quantidade\",\n",
    "    hover_name=\"Biosample Country\",\n",
    "    color_continuous_scale=\"Viridis\"\n",
    "    # title=\"Distribuição de espécies de Maribacter por local de coleta\"\n",
    ")\n",
    "\n",
    "# Adicionar pontos para oceanos/mares\n",
    "fig.add_trace(go.Scattergeo(\n",
    "    lon=ocean_data[\"lon\"],\n",
    "    lat=ocean_data[\"lat\"],\n",
    "    text=ocean_data[\"label\"],\n",
    "    mode=\"markers+text\",\n",
    "    marker=dict(size=ocean_data[\"Quantidade\"]*3, color=\"blue\", opacity=0.7),\n",
    "    textposition=\"top center\",\n",
    "    name=\"Oceanos/Mares\"\n",
    "))\n",
    "\n",
    "fig.show()\n",
    "\n",
    "# Informações complementares\n",
    "print(\"============= Dados Relevantes =============\")\n",
    "print(f\"Amostras com país de origem conhecido: {len(df_valid)}\")\n",
    "print(f\"Amostras de origem desconhecida: {len(df) - len(df_valid)}\")\n",
    "print(f\"Espécies distintas: {df_valid['GTDB species'].nunique()}\")\n",
    "print(f\"Total de países: {df_valid['Biosample Country'].nunique()}\")\n",
    "print(\"============================================\")"
   ]
  },
  {
   "cell_type": "code",
   "execution_count": 10,
   "id": "d7accdfb",
   "metadata": {},
   "outputs": [
    {
     "name": "stderr",
     "output_type": "stream",
     "text": [
      "C:\\Users\\Matheus\\AppData\\Local\\Temp\\ipykernel_7116\\1444414873.py:2: DeprecationWarning:\n",
      "\n",
      "\n",
      "Support for the 'engine' argument is deprecated and will be removed after September 2025.\n",
      "Kaleido will be the only supported engine at that time.\n",
      "\n",
      "\n"
     ]
    }
   ],
   "source": [
    "# Salvar o gráfico em alta resolução\n",
    "fig.write_image(PATH_GRAPHS / \"distribuicao_maribacter_por_pais_oceanos.png\", \n",
    "                scale=3,  # Aumenta a resolução (3x)\n",
    "                width=1600,  # Largura em pixels\n",
    "                height=900,   # Altura em pixels\n",
    "                engine=\"kaleido\")  # Motor de renderização"
   ]
  },
  {
   "cell_type": "markdown",
   "id": "31b06f0d",
   "metadata": {},
   "source": [
    "#### Tabela: Principais locais de coleta"
   ]
  },
  {
   "cell_type": "markdown",
   "id": "ba27a151",
   "metadata": {},
   "source": [
    "Essa tabela ajuda a visualizar quantas amostras foram coletadas de cada local. Também estão incluídos os dados de amostras cuja origem é desconhecida."
   ]
  },
  {
   "cell_type": "code",
   "execution_count": 11,
   "id": "25375382",
   "metadata": {},
   "outputs": [],
   "source": [
    "df_origin = pd.DataFrame(columns=['Origem', 'Total'])"
   ]
  },
  {
   "cell_type": "code",
   "execution_count": 12,
   "id": "9dfd61e5",
   "metadata": {},
   "outputs": [
    {
     "data": {
      "application/vnd.microsoft.datawrangler.viewer.v0+json": {
       "columns": [
        {
         "name": "index",
         "rawType": "int64",
         "type": "integer"
        },
        {
         "name": "Origem",
         "rawType": "object",
         "type": "string"
        },
        {
         "name": "Quantidade",
         "rawType": "int64",
         "type": "integer"
        }
       ],
       "ref": "0fbb7ee9-5bdc-404d-afba-7bfbd06a8692",
       "rows": [
        [
         "0",
         "USA",
         "49"
        ],
        [
         "1",
         "China",
         "45"
        ],
        [
         "2",
         "South Korea",
         "8"
        ],
        [
         "3",
         "Arctic Ocean",
         "4"
        ],
        [
         "4",
         "Russia",
         "4"
        ],
        [
         "5",
         "Japan",
         "3"
        ],
        [
         "6",
         "Antarctica",
         "3"
        ],
        [
         "7",
         "Australia",
         "2"
        ],
        [
         "8",
         "New Zealand",
         "2"
        ],
        [
         "9",
         "Atlantic Ocean",
         "1"
        ],
        [
         "10",
         "Germany",
         "1"
        ],
        [
         "11",
         "Indian Ocean",
         "1"
        ],
        [
         "12",
         "Italy",
         "1"
        ],
        [
         "13",
         "Czech Republic",
         "1"
        ],
        [
         "14",
         "North Sea",
         "1"
        ],
        [
         "15",
         "Peru",
         "1"
        ],
        [
         "16",
         "Norway",
         "1"
        ],
        [
         "17",
         "Southern Ocean",
         "1"
        ],
        [
         "18",
         "Taiwan",
         "1"
        ]
       ],
       "shape": {
        "columns": 2,
        "rows": 19
       }
      },
      "text/html": [
       "<div>\n",
       "<style scoped>\n",
       "    .dataframe tbody tr th:only-of-type {\n",
       "        vertical-align: middle;\n",
       "    }\n",
       "\n",
       "    .dataframe tbody tr th {\n",
       "        vertical-align: top;\n",
       "    }\n",
       "\n",
       "    .dataframe thead th {\n",
       "        text-align: right;\n",
       "    }\n",
       "</style>\n",
       "<table border=\"1\" class=\"dataframe\">\n",
       "  <thead>\n",
       "    <tr style=\"text-align: right;\">\n",
       "      <th></th>\n",
       "      <th>Origem</th>\n",
       "      <th>Quantidade</th>\n",
       "    </tr>\n",
       "  </thead>\n",
       "  <tbody>\n",
       "    <tr>\n",
       "      <th>0</th>\n",
       "      <td>USA</td>\n",
       "      <td>49</td>\n",
       "    </tr>\n",
       "    <tr>\n",
       "      <th>1</th>\n",
       "      <td>China</td>\n",
       "      <td>45</td>\n",
       "    </tr>\n",
       "    <tr>\n",
       "      <th>2</th>\n",
       "      <td>South Korea</td>\n",
       "      <td>8</td>\n",
       "    </tr>\n",
       "    <tr>\n",
       "      <th>3</th>\n",
       "      <td>Arctic Ocean</td>\n",
       "      <td>4</td>\n",
       "    </tr>\n",
       "    <tr>\n",
       "      <th>4</th>\n",
       "      <td>Russia</td>\n",
       "      <td>4</td>\n",
       "    </tr>\n",
       "    <tr>\n",
       "      <th>5</th>\n",
       "      <td>Japan</td>\n",
       "      <td>3</td>\n",
       "    </tr>\n",
       "    <tr>\n",
       "      <th>6</th>\n",
       "      <td>Antarctica</td>\n",
       "      <td>3</td>\n",
       "    </tr>\n",
       "    <tr>\n",
       "      <th>7</th>\n",
       "      <td>Australia</td>\n",
       "      <td>2</td>\n",
       "    </tr>\n",
       "    <tr>\n",
       "      <th>8</th>\n",
       "      <td>New Zealand</td>\n",
       "      <td>2</td>\n",
       "    </tr>\n",
       "    <tr>\n",
       "      <th>9</th>\n",
       "      <td>Atlantic Ocean</td>\n",
       "      <td>1</td>\n",
       "    </tr>\n",
       "    <tr>\n",
       "      <th>10</th>\n",
       "      <td>Germany</td>\n",
       "      <td>1</td>\n",
       "    </tr>\n",
       "    <tr>\n",
       "      <th>11</th>\n",
       "      <td>Indian Ocean</td>\n",
       "      <td>1</td>\n",
       "    </tr>\n",
       "    <tr>\n",
       "      <th>12</th>\n",
       "      <td>Italy</td>\n",
       "      <td>1</td>\n",
       "    </tr>\n",
       "    <tr>\n",
       "      <th>13</th>\n",
       "      <td>Czech Republic</td>\n",
       "      <td>1</td>\n",
       "    </tr>\n",
       "    <tr>\n",
       "      <th>14</th>\n",
       "      <td>North Sea</td>\n",
       "      <td>1</td>\n",
       "    </tr>\n",
       "    <tr>\n",
       "      <th>15</th>\n",
       "      <td>Peru</td>\n",
       "      <td>1</td>\n",
       "    </tr>\n",
       "    <tr>\n",
       "      <th>16</th>\n",
       "      <td>Norway</td>\n",
       "      <td>1</td>\n",
       "    </tr>\n",
       "    <tr>\n",
       "      <th>17</th>\n",
       "      <td>Southern Ocean</td>\n",
       "      <td>1</td>\n",
       "    </tr>\n",
       "    <tr>\n",
       "      <th>18</th>\n",
       "      <td>Taiwan</td>\n",
       "      <td>1</td>\n",
       "    </tr>\n",
       "  </tbody>\n",
       "</table>\n",
       "</div>"
      ],
      "text/plain": [
       "            Origem  Quantidade\n",
       "0              USA          49\n",
       "1            China          45\n",
       "2      South Korea           8\n",
       "3     Arctic Ocean           4\n",
       "4           Russia           4\n",
       "5            Japan           3\n",
       "6       Antarctica           3\n",
       "7        Australia           2\n",
       "8      New Zealand           2\n",
       "9   Atlantic Ocean           1\n",
       "10         Germany           1\n",
       "11    Indian Ocean           1\n",
       "12           Italy           1\n",
       "13  Czech Republic           1\n",
       "14       North Sea           1\n",
       "15            Peru           1\n",
       "16          Norway           1\n",
       "17  Southern Ocean           1\n",
       "18          Taiwan           1"
      ]
     },
     "metadata": {},
     "output_type": "display_data"
    }
   ],
   "source": [
    "# Contar o total de ocorrências por país\n",
    "df_origin = df_valid.groupby(\"Biosample Country\").size().reset_index(name=\"Quantidade\")\n",
    "\n",
    "df_origin.rename(columns={'Biosample Country': 'Origem'}, inplace=True)\n",
    "\n",
    "# Ordenar do maior para o menor\n",
    "df_origin = df_origin.sort_values(by=\"Quantidade\", ascending=False).reset_index(drop=True)\n",
    "\n",
    "display(df_origin)\n"
   ]
  },
  {
   "cell_type": "code",
   "execution_count": 13,
   "id": "2d7c51a3",
   "metadata": {},
   "outputs": [
    {
     "name": "stderr",
     "output_type": "stream",
     "text": [
      "C:\\Users\\Matheus\\AppData\\Local\\Temp\\ipykernel_7116\\3585511447.py:7: SettingWithCopyWarning:\n",
      "\n",
      "\n",
      "A value is trying to be set on a copy of a slice from a DataFrame\n",
      "\n",
      "See the caveats in the documentation: https://pandas.pydata.org/pandas-docs/stable/user_guide/indexing.html#returning-a-view-versus-a-copy\n",
      "\n",
      "C:\\Users\\Matheus\\AppData\\Local\\Temp\\ipykernel_7116\\3585511447.py:8: SettingWithCopyWarning:\n",
      "\n",
      "\n",
      "A value is trying to be set on a copy of a slice from a DataFrame\n",
      "\n",
      "See the caveats in the documentation: https://pandas.pydata.org/pandas-docs/stable/user_guide/indexing.html#returning-a-view-versus-a-copy\n",
      "\n"
     ]
    },
    {
     "data": {
      "application/vnd.microsoft.datawrangler.viewer.v0+json": {
       "columns": [
        {
         "name": "index",
         "rawType": "int64",
         "type": "integer"
        },
        {
         "name": "Origem",
         "rawType": "object",
         "type": "string"
        },
        {
         "name": "Quantidade",
         "rawType": "int64",
         "type": "integer"
        }
       ],
       "ref": "8b76bbe7-2a86-42e2-8b05-64ba6a4e279c",
       "rows": [
        [
         "0",
         "USA",
         "49"
        ],
        [
         "1",
         "China",
         "45"
        ],
        [
         "2",
         "Outros",
         "36"
        ],
        [
         "3",
         "Desconhecida",
         "32"
        ]
       ],
       "shape": {
        "columns": 2,
        "rows": 4
       }
      },
      "text/html": [
       "<div>\n",
       "<style scoped>\n",
       "    .dataframe tbody tr th:only-of-type {\n",
       "        vertical-align: middle;\n",
       "    }\n",
       "\n",
       "    .dataframe tbody tr th {\n",
       "        vertical-align: top;\n",
       "    }\n",
       "\n",
       "    .dataframe thead th {\n",
       "        text-align: right;\n",
       "    }\n",
       "</style>\n",
       "<table border=\"1\" class=\"dataframe\">\n",
       "  <thead>\n",
       "    <tr style=\"text-align: right;\">\n",
       "      <th></th>\n",
       "      <th>Origem</th>\n",
       "      <th>Quantidade</th>\n",
       "    </tr>\n",
       "  </thead>\n",
       "  <tbody>\n",
       "    <tr>\n",
       "      <th>0</th>\n",
       "      <td>USA</td>\n",
       "      <td>49</td>\n",
       "    </tr>\n",
       "    <tr>\n",
       "      <th>1</th>\n",
       "      <td>China</td>\n",
       "      <td>45</td>\n",
       "    </tr>\n",
       "    <tr>\n",
       "      <th>2</th>\n",
       "      <td>Outros</td>\n",
       "      <td>36</td>\n",
       "    </tr>\n",
       "    <tr>\n",
       "      <th>3</th>\n",
       "      <td>Desconhecida</td>\n",
       "      <td>32</td>\n",
       "    </tr>\n",
       "  </tbody>\n",
       "</table>\n",
       "</div>"
      ],
      "text/plain": [
       "         Origem  Quantidade\n",
       "0           USA          49\n",
       "1         China          45\n",
       "2        Outros          36\n",
       "3  Desconhecida          32"
      ]
     },
     "metadata": {},
     "output_type": "display_data"
    }
   ],
   "source": [
    "# Versão simplificada do dataframe anterior\n",
    "# Somente origens com, no mínimo, 10 amostras são exibidas\n",
    "df_origin_simple = df_origin[df_origin['Quantidade'] >= 10]\n",
    "df_others = df_origin[df_origin['Quantidade'] < 10]\n",
    "\n",
    "# Adicionar os dados extras\n",
    "df_origin_simple.loc[len(df_origin_simple)] = ['Outros', df_others['Quantidade'].sum()]\n",
    "df_origin_simple.loc[len(df_origin_simple)] = ['Desconhecida', len(df) - len(df_valid)]\n",
    "\n",
    "# Ordenar do maior para o menor\n",
    "df_origin_simple = df_origin_simple.sort_values(by=\"Quantidade\", ascending=False).reset_index(drop=True)\n",
    "\n",
    "\n",
    "display(df_origin_simple)\n"
   ]
  },
  {
   "cell_type": "code",
   "execution_count": 14,
   "id": "9aeb405e",
   "metadata": {},
   "outputs": [
    {
     "name": "stdout",
     "output_type": "stream",
     "text": [
      "Tabela salva em C:\\Users\\Matheus\\Documents\\UFF\\ic\\repository\\automation\\all_maribacter_graphs\\graphs/origin_simple.png\n"
     ]
    }
   ],
   "source": [
    "# Criar figura\n",
    "fig, ax = plt.subplots(figsize=(8, 6))\n",
    "ax.axis(\"off\")  # Remove eixos\n",
    "\n",
    "# Adicionar tabela\n",
    "table = ax.table(\n",
    "    cellText=df_origin_simple.values,\n",
    "    colLabels=df_origin_simple.columns,\n",
    "    cellLoc=\"center\",\n",
    "    loc=\"center\"\n",
    ")\n",
    "\n",
    "# Ajustar estilo\n",
    "table.auto_set_font_size(False)\n",
    "table.set_fontsize(10)\n",
    "table.scale(1.2, 1.2)\n",
    "\n",
    "for (i, j), cell in table.get_celld().items():\n",
    "    if i == 0:  # primeira linha = cabeçalho\n",
    "        cell.set_text_props(weight='bold')\n",
    "\n",
    "# Salvar como imagem\n",
    "plt.savefig(f\"{PATH_GRAPHS}/origin_simple.png\", dpi=300, bbox_inches=\"tight\")\n",
    "plt.close()\n",
    "\n",
    "print(f\"Tabela salva em {PATH_GRAPHS}/origin_simple.png\")"
   ]
  },
  {
   "cell_type": "markdown",
   "id": "7cbdc248",
   "metadata": {},
   "source": [
    "#### Observações"
   ]
  },
  {
   "cell_type": "markdown",
   "id": "15ec7baa",
   "metadata": {},
   "source": [
    "##### Falta de coordenadas"
   ]
  },
  {
   "cell_type": "markdown",
   "id": "25cbda52",
   "metadata": {},
   "source": [
    "Apenas 29 dos 162 genomas possuíam informação a cerca das coordenadas da coleta. Portanto, foram preparados mapas considerando somente as localidades macro (países e oceanos)."
   ]
  },
  {
   "cell_type": "code",
   "execution_count": null,
   "id": "4a37d8ea",
   "metadata": {},
   "outputs": [],
   "source": [
    "df_missing = df[df['Biosample Latitude and Longitude'].apply(lambda x: x not in ['','missing','not applicable','not collected'])]\n",
    "print(f\"Há {len(df_missing)} genomas com coordenadas conhecidas.\")"
   ]
  },
  {
   "cell_type": "markdown",
   "id": "4df77d2e",
   "metadata": {},
   "source": [
    "##### Informações complementares"
   ]
  },
  {
   "cell_type": "code",
   "execution_count": null,
   "id": "bf950ea5",
   "metadata": {},
   "outputs": [],
   "source": [
    "print(\"============= Dados Relevantes =============\")\n",
    "print(f\"Amostras com país de origem conhecido: {len(df_valid)}\")\n",
    "print(f\"Amostras de origem desconhecida: {len(df) - len(df_valid)}\")\n",
    "print(f\"Espécies distintas: {df_valid['GTDB species'].nunique()}\")\n",
    "print(f\"Total de países: {df_valid['Biosample Country'].nunique()}\")\n",
    "print(\"============================================\")"
   ]
  },
  {
   "cell_type": "markdown",
   "id": "1ed0581b",
   "metadata": {},
   "source": [
    "### Hospedeiros"
   ]
  },
  {
   "cell_type": "markdown",
   "id": "5240c8a3",
   "metadata": {},
   "source": [
    "#### Divisão por tipos específicos de hospedeiros"
   ]
  },
  {
   "cell_type": "markdown",
   "id": "ae98ffa3",
   "metadata": {},
   "source": [
    "Dos 162 genomas coletados, 54 possuem hospedeiros conhecidos. Estes foram dividos em 7 tipos específicos."
   ]
  },
  {
   "cell_type": "code",
   "execution_count": 15,
   "id": "83b9a4c1",
   "metadata": {},
   "outputs": [
    {
     "data": {
      "application/vnd.microsoft.datawrangler.viewer.v0+json": {
       "columns": [
        {
         "name": "index",
         "rawType": "int64",
         "type": "integer"
        },
        {
         "name": "ID",
         "rawType": "object",
         "type": "string"
        },
        {
         "name": "GTDB species",
         "rawType": "object",
         "type": "string"
        },
        {
         "name": "GTDB Taxonomy",
         "rawType": "object",
         "type": "string"
        },
        {
         "name": "NCBI Strain Identifiers",
         "rawType": "object",
         "type": "string"
        },
        {
         "name": "CheckM2 Completeness (%)",
         "rawType": "float64",
         "type": "float"
        },
        {
         "name": "CheckM2 Contamination (%)",
         "rawType": "float64",
         "type": "float"
        },
        {
         "name": "Contig Count",
         "rawType": "int64",
         "type": "integer"
        },
        {
         "name": "N50 Contigs (bp)",
         "rawType": "int64",
         "type": "integer"
        },
        {
         "name": "Genome Size (bp)",
         "rawType": "int64",
         "type": "integer"
        },
        {
         "name": "Protein Count",
         "rawType": "int64",
         "type": "integer"
        },
        {
         "name": "Coding Density (%)",
         "rawType": "float64",
         "type": "float"
        },
        {
         "name": "GC Percentage (%)",
         "rawType": "float64",
         "type": "float"
        },
        {
         "name": "Assembly Level",
         "rawType": "object",
         "type": "string"
        },
        {
         "name": "Country",
         "rawType": "object",
         "type": "string"
        },
        {
         "name": "Date",
         "rawType": "object",
         "type": "string"
        },
        {
         "name": "Genome Category",
         "rawType": "object",
         "type": "string"
        },
        {
         "name": "CDS Count",
         "rawType": "object",
         "type": "unknown"
        },
        {
         "name": "Seq Rel Date",
         "rawType": "object",
         "type": "string"
        },
        {
         "name": "Biosample Host",
         "rawType": "object",
         "type": "string"
        },
        {
         "name": "Biosample Geographic Location",
         "rawType": "object",
         "type": "string"
        },
        {
         "name": "Biosample Latitude and Longitude",
         "rawType": "object",
         "type": "string"
        },
        {
         "name": "Biosample Description",
         "rawType": "object",
         "type": "string"
        },
        {
         "name": "LPSN species validation",
         "rawType": "object",
         "type": "string"
        }
       ],
       "ref": "e3230a54-4f0f-40ec-aeaf-7bcc58a73b78",
       "rows": [
        [
         "0",
         "GCF_027474845.2",
         "Maribacter aestuarii",
         "d__Bacteria; p__Bacteroidota; c__Bacteroidia; o__Flavobacteriales; f__Flavobacteriaceae; g__Maribacter; s__Maribacter aestuarii",
         "JCM18631",
         "97.57",
         "0.07",
         "1",
         "3864851",
         "3864851",
         "3616",
         "90.98",
         "39.33",
         "Complete Genome",
         "South Korea: Gwangyang Bay",
         "2023-06-08",
         "Isolate",
         "3490.0",
         "2023-06-08",
         "tidal flat sediment",
         "South Korea: Gwangyang Bay",
         "",
         "Reference: Lo N, Jin HM, Jeon CO. Maribacter aestuarii sp. nov., isolated from tidal flat sediment, and an emended description of the genus Maribacter. Int J Syst Evol Microbiol 2013; 63:3409-3414.",
         "Yes - Maribacter aestuarii"
        ],
        [
         "2",
         "GCF_000621125.1",
         "Maribacter antarcticus",
         "d__Bacteria; p__Bacteroidota; c__Bacteroidia; o__Flavobacteriales; f__Flavobacteriaceae; g__Maribacter; s__Maribacter antarcticus",
         "DSM 21422",
         "99.99",
         "0.12",
         "35",
         "339358",
         "4853010",
         "4305",
         "85.75",
         "37.43",
         "Scaffold",
         "Southern Ocean",
         "2014-04-08",
         "Isolate",
         "4165.0",
         "2014-04-08",
         "Pyramimonas gelidicola",
         "Southern Ocean",
         "",
         "",
         "Yes - Maribacter antarcticus"
        ],
        [
         "18",
         "GCF_039986215.1",
         "Maribacter dokdonensis",
         "d__Bacteria; p__Bacteroidota; c__Bacteroidia; o__Flavobacteriales; f__Flavobacteriaceae; g__Maribacter; s__Maribacter dokdonensis",
         "LC.02.F.A2_479_55",
         "99.96",
         "2.43",
         "260",
         "31994",
         "4640379",
         "4146",
         "91.92",
         "35.75",
         "Contig",
         "",
         "2024-05-31",
         "MAG",
         "4055.0",
         "2024-05-31",
         "Macrocystis pyrifera",
         "USA:California, Leo Carillo",
         "not collected",
         "Keywords: GSC:MIxS;MIMAG:6.0",
         "Yes - Maribacter dokdonensis"
        ],
        [
         "19",
         "GCF_039986575.1",
         "Maribacter dokdonensis",
         "d__Bacteria; p__Bacteroidota; c__Bacteroidia; o__Flavobacteriales; f__Flavobacteriaceae; g__Maribacter; s__Maribacter dokdonensis",
         "AQ.60.F.B1_47_010",
         "99.88",
         "0.69",
         "199",
         "89855",
         "4362585",
         "3916",
         "91.46",
         "35.91",
         "Contig",
         "",
         "2024-05-31",
         "MAG",
         "3849.0",
         "2024-05-31",
         "Macrocystis pyrifera",
         "USA:California, Arroyo Quemado",
         "not collected",
         "Keywords: GSC:MIxS;MIMAG:6.0",
         "Yes - Maribacter dokdonensis"
        ],
        [
         "20",
         "GCF_039987475.1",
         "Maribacter dokdonensis",
         "d__Bacteria; p__Bacteroidota; c__Bacteroidia; o__Flavobacteriales; f__Flavobacteriaceae; g__Maribacter; s__Maribacter dokdonensis",
         "CB.05.F.D2_97_46",
         "98.9",
         "2.57",
         "238",
         "28855",
         "4254096",
         "3851",
         "92.06",
         "35.94",
         "Contig",
         "",
         "2024-05-31",
         "MAG",
         "3771.0",
         "2024-05-31",
         "Macrocystis pyrifera",
         "USA:California, Camp Pendleton",
         "not collected",
         "Keywords: GSC:MIxS;MIMAG:6.0",
         "Yes - Maribacter dokdonensis"
        ],
        [
         "21",
         "GCF_039969775.1",
         "Maribacter dokdonensis",
         "d__Bacteria; p__Bacteroidota; c__Bacteroidia; o__Flavobacteriales; f__Flavobacteriaceae; g__Maribacter; s__Maribacter dokdonensis",
         "LC.109.F.C4_184_85",
         "99.99",
         "0.09",
         "7",
         "1478825",
         "4352599",
         "3737",
         "92.08",
         "35.92",
         "Contig",
         "",
         "2024-05-30",
         "MAG",
         "3696.0",
         "2024-05-30",
         "Macrocystis pyrifera",
         "USA:California, Leo Carillo",
         "not collected",
         "Keywords: GSC:MIxS;MIMAG:6.0",
         "Yes - Maribacter dokdonensis"
        ],
        [
         "22",
         "GCF_039967835.1",
         "Maribacter dokdonensis",
         "d__Bacteria; p__Bacteroidota; c__Bacteroidia; o__Flavobacteriales; f__Flavobacteriaceae; g__Maribacter; s__Maribacter dokdonensis",
         "LC.118.F.C4_216_37",
         "99.99",
         "0.08",
         "15",
         "427385",
         "4324902",
         "3721",
         "92.1",
         "35.91",
         "Contig",
         "",
         "2024-05-30",
         "MAG",
         "3679.0",
         "2024-05-30",
         "Macrocystis pyrifera",
         "USA:California, Leo Carillo",
         "not collected",
         "Keywords: GSC:MIxS;MIMAG:6.0",
         "Yes - Maribacter dokdonensis"
        ],
        [
         "23",
         "GCF_039988175.1",
         "Maribacter dokdonensis",
         "d__Bacteria; p__Bacteroidota; c__Bacteroidia; o__Flavobacteriales; f__Flavobacteriaceae; g__Maribacter; s__Maribacter dokdonensis",
         "AQ.32.F.A2_91_45",
         "97.23",
         "0.07",
         "152",
         "54543",
         "4179101",
         "3698",
         "92.19",
         "36.06",
         "Contig",
         "",
         "2024-05-31",
         "MAG",
         "3637.0",
         "2024-05-31",
         "Macrocystis pyrifera",
         "USA:California, Arroyo Quemado",
         "not collected",
         "Keywords: GSC:MIxS;MIMAG:6.0",
         "Yes - Maribacter dokdonensis"
        ],
        [
         "24",
         "GCF_039967245.1",
         "Maribacter dokdonensis",
         "d__Bacteria; p__Bacteroidota; c__Bacteroidia; o__Flavobacteriales; f__Flavobacteriaceae; g__Maribacter; s__Maribacter dokdonensis",
         "CB.59.M.B5_223_4",
         "91.59",
         "0.2",
         "636",
         "8628",
         "4072647",
         "4009",
         "92.0",
         "35.9",
         "Contig",
         "",
         "2024-05-30",
         "MAG",
         "3898.0",
         "2024-05-30",
         "Macrocystis pyrifera",
         "USA:California, Camp Pendleton",
         "not collected",
         "Keywords: GSC:MIxS;MIMAG:6.0",
         "Yes - Maribacter dokdonensis"
        ],
        [
         "25",
         "GCF_039966915.1",
         "Maribacter dokdonensis",
         "d__Bacteria; p__Bacteroidota; c__Bacteroidia; o__Flavobacteriales; f__Flavobacteriaceae; g__Maribacter; s__Maribacter dokdonensis",
         "LC.04.F.D4_227_67",
         "99.99",
         "0.07",
         "5",
         "1481973",
         "4329922",
         "3713",
         "92.12",
         "35.93",
         "Contig",
         "",
         "2024-05-30",
         "MAG",
         "3672.0",
         "2024-05-30",
         "Macrocystis pyrifera",
         "USA:California, Leo Carillo",
         "not collected",
         "Keywords: GSC:MIxS;MIMAG:6.0",
         "Yes - Maribacter dokdonensis"
        ],
        [
         "26",
         "GCF_039966215.1",
         "Maribacter dokdonensis",
         "d__Bacteria; p__Bacteroidota; c__Bacteroidia; o__Flavobacteriales; f__Flavobacteriaceae; g__Maribacter; s__Maribacter dokdonensis",
         "CB.57.F.B3_234_63",
         "99.99",
         "0.09",
         "5",
         "2200101",
         "4355028",
         "3737",
         "92.1",
         "35.93",
         "Contig",
         "",
         "2024-05-30",
         "MAG",
         "3695.0",
         "2024-05-30",
         "Macrocystis pyrifera",
         "USA:California, Camp Pendleton",
         "not collected",
         "Keywords: GSC:MIxS;MIMAG:6.0",
         "Yes - Maribacter dokdonensis"
        ],
        [
         "27",
         "GCF_039965315.1",
         "Maribacter dokdonensis",
         "d__Bacteria; p__Bacteroidota; c__Bacteroidia; o__Flavobacteriales; f__Flavobacteriaceae; g__Maribacter; s__Maribacter dokdonensis",
         "LC.03.F.B2_259_1",
         "100.0",
         "0.09",
         "61",
         "116041",
         "4352058",
         "3780",
         "92.08",
         "35.93",
         "Contig",
         "",
         "2024-05-30",
         "MAG",
         "3728.0",
         "2024-05-30",
         "Macrocystis pyrifera",
         "USA:California, Leo Carillo",
         "not collected",
         "Keywords: GSC:MIxS;MIMAG:6.0",
         "Yes - Maribacter dokdonensis"
        ],
        [
         "28",
         "GCF_039964365.1",
         "Maribacter dokdonensis",
         "d__Bacteria; p__Bacteroidota; c__Bacteroidia; o__Flavobacteriales; f__Flavobacteriaceae; g__Maribacter; s__Maribacter dokdonensis",
         "LC.105.F.D3_287_94",
         "99.99",
         "0.1",
         "30",
         "270993",
         "4351424",
         "3746",
         "92.12",
         "35.93",
         "Contig",
         "",
         "2024-05-30",
         "MAG",
         "3703.0",
         "2024-05-30",
         "Macrocystis pyrifera",
         "USA:California, Leo Carillo",
         "not collected",
         "Keywords: GSC:MIxS;MIMAG:6.0",
         "Yes - Maribacter dokdonensis"
        ],
        [
         "29",
         "GCF_039988355.1",
         "Maribacter dokdonensis",
         "d__Bacteria; p__Bacteroidota; c__Bacteroidia; o__Flavobacteriales; f__Flavobacteriaceae; g__Maribacter; s__Maribacter dokdonensis",
         "CI.14.F.D1_90_46",
         "99.99",
         "0.08",
         "108",
         "70071",
         "4257867",
         "3721",
         "92.19",
         "36.06",
         "Contig",
         "",
         "2024-05-31",
         "MAG",
         "3663.0",
         "2024-05-31",
         "Macrocystis pyrifera",
         "USA:California, Channel Islands",
         "not collected",
         "Keywords: GSC:MIxS;MIMAG:6.0",
         "Yes - Maribacter dokdonensis"
        ],
        [
         "30",
         "GCF_039963955.1",
         "Maribacter dokdonensis",
         "d__Bacteria; p__Bacteroidota; c__Bacteroidia; o__Flavobacteriales; f__Flavobacteriaceae; g__Maribacter; s__Maribacter dokdonensis",
         "LC.173.F.D1_294_74",
         "100.0",
         "0.08",
         "15",
         "440735",
         "4304509",
         "3692",
         "92.19",
         "35.95",
         "Contig",
         "",
         "2024-05-30",
         "MAG",
         "3647.0",
         "2024-05-30",
         "Macrocystis pyrifera",
         "USA:California, Leo Carillo",
         "not collected",
         "Keywords: GSC:MIxS;MIMAG:6.0",
         "Yes - Maribacter dokdonensis"
        ],
        [
         "31",
         "GCF_039963475.1",
         "Maribacter dokdonensis",
         "d__Bacteria; p__Bacteroidota; c__Bacteroidia; o__Flavobacteriales; f__Flavobacteriaceae; g__Maribacter; s__Maribacter dokdonensis",
         "LC.07.F.D4_302_16",
         "99.99",
         "0.25",
         "72",
         "100339",
         "4328563",
         "3761",
         "92.13",
         "35.93",
         "Contig",
         "",
         "2024-05-30",
         "MAG",
         "3712.0",
         "2024-05-30",
         "Macrocystis pyrifera",
         "USA:California, Leo Carillo",
         "not collected",
         "Keywords: GSC:MIxS;MIMAG:6.0",
         "Yes - Maribacter dokdonensis"
        ],
        [
         "32",
         "GCF_039961025.1",
         "Maribacter dokdonensis",
         "d__Bacteria; p__Bacteroidota; c__Bacteroidia; o__Flavobacteriales; f__Flavobacteriaceae; g__Maribacter; s__Maribacter dokdonensis",
         "AQ.50.F.D1_171_32",
         "91.87",
         "2.77",
         "432",
         "12724",
         "4023902",
         "3874",
         "91.95",
         "35.87",
         "Contig",
         "",
         "2024-05-30",
         "MAG",
         "3781.0",
         "2024-05-30",
         "Macrocystis pyrifera",
         "USA:California, Arroyo Quemado",
         "not collected",
         "Keywords: GSC:MIxS;MIMAG:6.0",
         "Yes - Maribacter dokdonensis"
        ],
        [
         "34",
         "GCF_039946215.1",
         "Maribacter dokdonensis",
         "d__Bacteria; p__Bacteroidota; c__Bacteroidia; o__Flavobacteriales; f__Flavobacteriaceae; g__Maribacter; s__Maribacter dokdonensis",
         "CB.49.M.B5_130_42",
         "99.99",
         "0.09",
         "20",
         "299359",
         "4347986",
         "3747",
         "92.08",
         "35.92",
         "Contig",
         "",
         "2024-05-30",
         "MAG",
         "3701.0",
         "2024-05-30",
         "Macrocystis pyrifera",
         "USA:California, Camp Pendleton",
         "not collected",
         "Keywords: GSC:MIxS;MIMAG:6.0",
         "Yes - Maribacter dokdonensis"
        ],
        [
         "35",
         "GCF_039944815.1",
         "Maribacter dokdonensis",
         "d__Bacteria; p__Bacteroidota; c__Bacteroidia; o__Flavobacteriales; f__Flavobacteriaceae; g__Maribacter; s__Maribacter dokdonensis",
         "CB.66.F.B1_115_36",
         "99.99",
         "0.08",
         "7",
         "701903",
         "4330287",
         "3713",
         "92.11",
         "35.93",
         "Contig",
         "",
         "2024-05-30",
         "MAG",
         "3672.0",
         "2024-05-30",
         "Macrocystis pyrifera",
         "USA:California, Camp Pendleton",
         "not collected",
         "Keywords: GSC:MIxS;MIMAG:6.0",
         "Yes - Maribacter dokdonensis"
        ],
        [
         "37",
         "GCF_039944295.1",
         "Maribacter dokdonensis",
         "d__Bacteria; p__Bacteroidota; c__Bacteroidia; o__Flavobacteriales; f__Flavobacteriaceae; g__Maribacter; s__Maribacter dokdonensis",
         "CB.43.F.B2_119_103",
         "99.99",
         "0.08",
         "5",
         "1481973",
         "4330201",
         "3712",
         "92.12",
         "35.93",
         "Contig",
         "",
         "2024-05-30",
         "MAG",
         "3672.0",
         "2024-05-30",
         "Macrocystis pyrifera",
         "USA:California, Camp Pendleton",
         "not collected",
         "Keywords: GSC:MIxS;MIMAG:6.0",
         "Yes - Maribacter dokdonensis"
        ],
        [
         "38",
         "GCF_039943575.1",
         "Maribacter dokdonensis",
         "d__Bacteria; p__Bacteroidota; c__Bacteroidia; o__Flavobacteriales; f__Flavobacteriaceae; g__Maribacter; s__Maribacter dokdonensis",
         "CB.10.F.C1_120_34",
         "99.99",
         "0.08",
         "6",
         "1331753",
         "4328284",
         "3714",
         "92.12",
         "35.92",
         "Contig",
         "",
         "2024-05-30",
         "MAG",
         "3670.0",
         "2024-05-30",
         "Macrocystis pyrifera",
         "USA:California, Camp Pendleton",
         "not collected",
         "Keywords: GSC:MIxS;MIMAG:6.0",
         "Yes - Maribacter dokdonensis"
        ],
        [
         "39",
         "GCF_039943415.1",
         "Maribacter dokdonensis",
         "d__Bacteria; p__Bacteroidota; c__Bacteroidia; o__Flavobacteriales; f__Flavobacteriaceae; g__Maribacter; s__Maribacter dokdonensis",
         "CB.07.M.B5_121_1",
         "96.98",
         "0.18",
         "553",
         "10847",
         "4155582",
         "4089",
         "91.92",
         "35.84",
         "Contig",
         "",
         "2024-05-30",
         "MAG",
         "3994.0",
         "2024-05-30",
         "Macrocystis pyrifera",
         "USA:California, Camp Pendleton",
         "not collected",
         "Keywords: GSC:MIxS;MIMAG:6.0",
         "Yes - Maribacter dokdonensis"
        ],
        [
         "40",
         "GCF_039943055.1",
         "Maribacter dokdonensis",
         "d__Bacteria; p__Bacteroidota; c__Bacteroidia; o__Flavobacteriales; f__Flavobacteriaceae; g__Maribacter; s__Maribacter dokdonensis",
         "CB.04.M.C5_124_44",
         "100.0",
         "0.61",
         "66",
         "96272",
         "4349919",
         "3778",
         "92.1",
         "35.93",
         "Contig",
         "",
         "2024-05-30",
         "MAG",
         "3730.0",
         "2024-05-30",
         "Macrocystis pyrifera",
         "USA:California, Camp Pendleton",
         "not collected",
         "Keywords: GSC:MIxS;MIMAG:6.0",
         "Yes - Maribacter dokdonensis"
        ],
        [
         "41",
         "GCF_039942755.1",
         "Maribacter dokdonensis",
         "d__Bacteria; p__Bacteroidota; c__Bacteroidia; o__Flavobacteriales; f__Flavobacteriaceae; g__Maribacter; s__Maribacter dokdonensis",
         "CB.42.M.D5_127_75",
         "99.99",
         "0.09",
         "4",
         "1558404",
         "4355165",
         "3735",
         "92.09",
         "35.93",
         "Contig",
         "",
         "2024-05-30",
         "MAG",
         "3693.0",
         "2024-05-30",
         "Macrocystis pyrifera",
         "USA:California, Camp Pendleton",
         "not collected",
         "Keywords: GSC:MIxS;MIMAG:6.0",
         "Yes - Maribacter dokdonensis"
        ],
        [
         "42",
         "GCF_039942115.1",
         "Maribacter dokdonensis",
         "d__Bacteria; p__Bacteroidota; c__Bacteroidia; o__Flavobacteriales; f__Flavobacteriaceae; g__Maribacter; s__Maribacter dokdonensis",
         "CB.51.F.C3_134_54",
         "99.99",
         "0.07",
         "12",
         "485563",
         "4327161",
         "3719",
         "92.13",
         "35.92",
         "Contig",
         "",
         "2024-05-30",
         "MAG",
         "3674.0",
         "2024-05-30",
         "Macrocystis pyrifera",
         "USA:California, Camp Pendleton",
         "not collected",
         "Keywords: GSC:MIxS;MIMAG:6.0",
         "Yes - Maribacter dokdonensis"
        ],
        [
         "43",
         "GCF_039942075.1",
         "Maribacter dokdonensis",
         "d__Bacteria; p__Bacteroidota; c__Bacteroidia; o__Flavobacteriales; f__Flavobacteriaceae; g__Maribacter; s__Maribacter dokdonensis",
         "CB.54.F.C2_137_101",
         "99.99",
         "0.08",
         "6",
         "1331894",
         "4326977",
         "3713",
         "92.11",
         "35.92",
         "Contig",
         "",
         "2024-05-30",
         "MAG",
         "3671.0",
         "2024-05-30",
         "Macrocystis pyrifera",
         "USA:California, Camp Pendleton",
         "not collected",
         "Keywords: GSC:MIxS;MIMAG:6.0",
         "Yes - Maribacter dokdonensis"
        ],
        [
         "44",
         "GCF_039941135.1",
         "Maribacter dokdonensis",
         "d__Bacteria; p__Bacteroidota; c__Bacteroidia; o__Flavobacteriales; f__Flavobacteriaceae; g__Maribacter; s__Maribacter dokdonensis",
         "CB.37.F.D4_140_43",
         "99.99",
         "0.08",
         "6",
         "1331998",
         "4329711",
         "3713",
         "92.11",
         "35.92",
         "Contig",
         "",
         "2024-05-30",
         "MAG",
         "3673.0",
         "2024-05-30",
         "Macrocystis pyrifera",
         "USA:California, Camp Pendleton",
         "not collected",
         "Keywords: GSC:MIxS;MIMAG:6.0",
         "Yes - Maribacter dokdonensis"
        ],
        [
         "45",
         "GCF_039940815.1",
         "Maribacter dokdonensis",
         "d__Bacteria; p__Bacteroidota; c__Bacteroidia; o__Flavobacteriales; f__Flavobacteriaceae; g__Maribacter; s__Maribacter dokdonensis",
         "CB.64.M.A6_145_12",
         "99.99",
         "0.08",
         "10",
         "543866",
         "4329715",
         "3718",
         "92.13",
         "35.93",
         "Contig",
         "",
         "2024-05-30",
         "MAG",
         "3674.0",
         "2024-05-30",
         "Macrocystis pyrifera",
         "USA:California, Camp Pendleton",
         "not collected",
         "Keywords: GSC:MIxS;MIMAG:6.0",
         "Yes - Maribacter dokdonensis"
        ],
        [
         "46",
         "GCF_039940535.1",
         "Maribacter dokdonensis",
         "d__Bacteria; p__Bacteroidota; c__Bacteroidia; o__Flavobacteriales; f__Flavobacteriaceae; g__Maribacter; s__Maribacter dokdonensis",
         "CB.04.F.A3_155_30",
         "99.99",
         "0.08",
         "6",
         "1026216",
         "4326790",
         "3714",
         "92.12",
         "35.92",
         "Contig",
         "",
         "2024-05-30",
         "MAG",
         "3671.0",
         "2024-05-30",
         "Macrocystis pyrifera",
         "USA:California, Camp Pendleton",
         "not collected",
         "Keywords: GSC:MIxS;MIMAG:6.0",
         "Yes - Maribacter dokdonensis"
        ],
        [
         "47",
         "GCF_039939875.1",
         "Maribacter dokdonensis",
         "d__Bacteria; p__Bacteroidota; c__Bacteroidia; o__Flavobacteriales; f__Flavobacteriaceae; g__Maribacter; s__Maribacter dokdonensis",
         "CB.01.F.D3_159_69",
         "99.99",
         "0.08",
         "6",
         "1331238",
         "4326831",
         "3713",
         "92.12",
         "35.92",
         "Contig",
         "",
         "2024-05-30",
         "MAG",
         "3672.0",
         "2024-05-30",
         "Macrocystis pyrifera",
         "USA:California, Camp Pendleton",
         "not collected",
         "Keywords: GSC:MIxS;MIMAG:6.0",
         "Yes - Maribacter dokdonensis"
        ],
        [
         "48",
         "GCF_039939615.1",
         "Maribacter dokdonensis",
         "d__Bacteria; p__Bacteroidota; c__Bacteroidia; o__Flavobacteriales; f__Flavobacteriaceae; g__Maribacter; s__Maribacter dokdonensis",
         "AQ.28.F.A5_164_15",
         "99.99",
         "0.07",
         "10",
         "879094",
         "4329233",
         "3718",
         "92.12",
         "35.92",
         "Contig",
         "",
         "2024-05-30",
         "MAG",
         "3677.0",
         "2024-05-30",
         "Macrocystis pyrifera",
         "USA:California, Arroyo Quemado",
         "not collected",
         "Keywords: GSC:MIxS;MIMAG:6.0",
         "Yes - Maribacter dokdonensis"
        ],
        [
         "49",
         "GCF_039939445.1",
         "Maribacter dokdonensis",
         "d__Bacteria; p__Bacteroidota; c__Bacteroidia; o__Flavobacteriales; f__Flavobacteriaceae; g__Maribacter; s__Maribacter dokdonensis",
         "LC.106.F.A4_166_5",
         "99.99",
         "0.09",
         "23",
         "344991",
         "4347067",
         "3747",
         "92.08",
         "35.93",
         "Contig",
         "",
         "2024-05-30",
         "MAG",
         "3703.0",
         "2024-05-30",
         "Macrocystis pyrifera",
         "USA:California, Leo Carillo",
         "not collected",
         "Keywords: GSC:MIxS;MIMAG:6.0",
         "Yes - Maribacter dokdonensis"
        ],
        [
         "64",
         "GCF_039974395.1",
         "Maribacter dokdonensis",
         "d__Bacteria; p__Bacteroidota; c__Bacteroidia; o__Flavobacteriales; f__Flavobacteriaceae; g__Maribacter; s__Maribacter dokdonensis",
         "CI.31.F.D2_424_86",
         "100.0",
         "1.53",
         "19",
         "789017",
         "4469813",
         "3862",
         "91.84",
         "35.86",
         "Contig",
         "",
         "2024-05-30",
         "MAG",
         "3813.0",
         "2024-05-30",
         "Macrocystis pyrifera",
         "USA:California, Channel Islands",
         "not collected",
         "Keywords: GSC:MIxS;MIMAG:6.0",
         "Yes - Maribacter dokdonensis"
        ],
        [
         "65",
         "GCF_039973715.1",
         "Maribacter dokdonensis",
         "d__Bacteria; p__Bacteroidota; c__Bacteroidia; o__Flavobacteriales; f__Flavobacteriaceae; g__Maribacter; s__Maribacter dokdonensis",
         "AQ.34.F.B6_43_1",
         "99.88",
         "0.7",
         "240",
         "36394",
         "4564052",
         "4081",
         "91.91",
         "35.84",
         "Contig",
         "",
         "2024-05-30",
         "MAG",
         "4000.0",
         "2024-05-30",
         "Macrocystis pyrifera",
         "USA:California, Arroyo Quemado",
         "not collected",
         "Keywords: GSC:MIxS;MIMAG:6.0",
         "Yes - Maribacter dokdonensis"
        ],
        [
         "66",
         "GCA_039940215.1",
         "Maribacter dokdonensis",
         "d__Bacteria; p__Bacteroidota; c__Bacteroidia; o__Flavobacteriales; f__Flavobacteriaceae; g__Maribacter; s__Maribacter dokdonensis",
         "CB.75.F.D4_158_25",
         "91.95",
         "0.42",
         "357",
         "16254",
         "3781702",
         "3515",
         "92.42",
         "36.01",
         "Contig",
         "",
         "2024-05-30",
         "MAG",
         "3441.0",
         "2024-05-30",
         "Macrocystis pyrifera",
         "USA:California, Camp Pendleton",
         "not collected",
         "Keywords: GSC:MIxS;MIMAG:6.0",
         "Yes - Maribacter dokdonensis"
        ],
        [
         "67",
         "GCF_039971075.1",
         "Maribacter dokdonensis",
         "d__Bacteria; p__Bacteroidota; c__Bacteroidia; o__Flavobacteriales; f__Flavobacteriaceae; g__Maribacter; s__Maribacter dokdonensis",
         "LC.10.F.D3_173_42",
         "99.99",
         "0.08",
         "28",
         "341803",
         "4473361",
         "3815",
         "92.05",
         "35.93",
         "Contig",
         "",
         "2024-05-30",
         "MAG",
         "3764.0",
         "2024-05-30",
         "Macrocystis pyrifera",
         "USA:California, Leo Carillo",
         "not collected",
         "Keywords: GSC:MIxS;MIMAG:6.0",
         "Yes - Maribacter dokdonensis"
        ],
        [
         "68",
         "GCF_039970655.1",
         "Maribacter dokdonensis",
         "d__Bacteria; p__Bacteroidota; c__Bacteroidia; o__Flavobacteriales; f__Flavobacteriaceae; g__Maribacter; s__Maribacter dokdonensis",
         "LC.119.F.D4_174_82",
         "99.99",
         "0.07",
         "5",
         "1468372",
         "4316969",
         "3696",
         "92.15",
         "35.93",
         "Contig",
         "",
         "2024-05-30",
         "MAG",
         "3656.0",
         "2024-05-30",
         "Macrocystis pyrifera",
         "USA:California, Leo Carillo",
         "not collected",
         "Keywords: GSC:MIxS;MIMAG:6.0",
         "Yes - Maribacter dokdonensis"
        ],
        [
         "69",
         "GCF_039982355.1",
         "Maribacter dokdonensis",
         "d__Bacteria; p__Bacteroidota; c__Bacteroidia; o__Flavobacteriales; f__Flavobacteriaceae; g__Maribacter; s__Maribacter dokdonensis",
         "CI.26.F.C1_514_63",
         "90.67",
         "1.89",
         "348",
         "18070",
         "4108208",
         "3754",
         "91.94",
         "36.1",
         "Contig",
         "",
         "2024-05-31",
         "MAG",
         "3669.0",
         "2024-05-31",
         "Macrocystis pyrifera",
         "USA:California, Channel Islands",
         "not collected",
         "Keywords: GSC:MIxS;MIMAG:6.0",
         "Yes - Maribacter dokdonensis"
        ],
        [
         "70",
         "GCF_039970295.1",
         "Maribacter dokdonensis",
         "d__Bacteria; p__Bacteroidota; c__Bacteroidia; o__Flavobacteriales; f__Flavobacteriaceae; g__Maribacter; s__Maribacter dokdonensis",
         "CB.49.F.A1_179_71",
         "99.99",
         "0.07",
         "6",
         "2200173",
         "4330269",
         "3716",
         "92.12",
         "35.93",
         "Contig",
         "",
         "2024-05-30",
         "MAG",
         "3673.0",
         "2024-05-30",
         "Macrocystis pyrifera",
         "USA:California, Camp Pendleton",
         "not collected",
         "Keywords: GSC:MIxS;MIMAG:6.0",
         "Yes - Maribacter dokdonensis"
        ],
        [
         "71",
         "GCF_039984575.1",
         "Maribacter dokdonensis",
         "d__Bacteria; p__Bacteroidota; c__Bacteroidia; o__Flavobacteriales; f__Flavobacteriaceae; g__Maribacter; s__Maribacter dokdonensis",
         "LC.09.M.C6_495_92",
         "99.91",
         "0.83",
         "92",
         "80056",
         "4441614",
         "3853",
         "92.03",
         "35.9",
         "Contig",
         "",
         "2024-05-31",
         "MAG",
         "3791.0",
         "2024-05-31",
         "Macrocystis pyrifera",
         "USA:California, Leo Carillo",
         "not collected",
         "Keywords: GSC:MIxS;MIMAG:6.0",
         "Yes - Maribacter dokdonensis"
        ],
        [
         "72",
         "GCF_036323785.1",
         "Maribacter flavus",
         "d__Bacteria; p__Bacteroidota; c__Bacteroidia; o__Flavobacteriales; f__Flavobacteriaceae; g__Maribacter; s__Maribacter flavus",
         "KPT27_14",
         "99.98",
         "0.33",
         "192",
         "614045",
         "4111314",
         "3727",
         "90.91",
         "41.95",
         "Contig",
         "",
         "2024-01-31",
         "Isolate",
         "3622.0",
         "2024-01-31",
         "Thalassiosira minima",
         "China: Fujian province, Putian",
         "",
         "",
         "Yes - Maribacter flavus"
        ],
        [
         "75",
         "GCF_028464205.1",
         "Maribacter flavus",
         "d__Bacteria; p__Bacteroidota; c__Bacteroidia; o__Flavobacteriales; f__Flavobacteriaceae; g__Maribacter; s__Maribacter flavus",
         "PR66",
         "99.98",
         "0.25",
         "27",
         "311016",
         "4066610",
         "3569",
         "90.95",
         "41.94",
         "Contig",
         "China",
         "2023-02-05",
         "Isolate",
         "3495.0",
         "2023-02-05",
         "Protoceratium reticulatum",
         "China",
         "",
         "",
         "Yes - Maribacter flavus"
        ],
        [
         "78",
         "GCF_020629415.1",
         "Maribacter huludaoensis",
         "d__Bacteria; p__Bacteroidota; c__Bacteroidia; o__Flavobacteriales; f__Flavobacteriaceae; g__Maribacter; s__Maribacter huludaoensis",
         "MAG-157",
         "94.95",
         "0.07",
         "134",
         "50703",
         "3895488",
         "3435",
         "90.33",
         "35.89",
         "Scaffold",
         "China: Rizhao City and Ningde City",
         "2021-10-26",
         "MAG",
         "3416.0",
         "2021-10-26",
         "Pyropia haitanensis",
         "China: Rizhao City and Ningde City",
         "missing",
         "Keywords: GSC:MIxS;MIMAG:6.0",
         "No"
        ],
        [
         "82",
         "GCF_902506355.1",
         "Maribacter litoralis",
         "d__Bacteria; p__Bacteroidota; c__Bacteroidia; o__Flavobacteriales; f__Flavobacteriaceae; g__Maribacter; s__Maribacter litoralis",
         "Maribacter sp. 151",
         "99.97",
         "0.01",
         "6",
         "2692075",
         "4364915",
         "3753",
         "91.76",
         "35.9",
         "Scaffold",
         "",
         "2020-01-03",
         "Isolate",
         "3710.0",
         "2020-01-03",
         "Ectocarpus subulatus",
         "",
         "",
         "",
         "Yes - Maribacter litoralis"
        ],
        [
         "83",
         "GCF_039967355.1",
         "Maribacter litoralis",
         "d__Bacteria; p__Bacteroidota; c__Bacteroidia; o__Flavobacteriales; f__Flavobacteriaceae; g__Maribacter; s__Maribacter litoralis",
         "LC.122.F.D4_220_62",
         "98.05",
         "1.18",
         "239",
         "28225",
         "4463799",
         "4062",
         "91.39",
         "35.71",
         "Contig",
         "",
         "2024-05-30",
         "MAG",
         "3996.0",
         "2024-05-30",
         "Macrocystis pyrifera",
         "USA:California, Leo Carillo",
         "not collected",
         "Keywords: GSC:MIxS;MIMAG:6.0",
         "Yes - Maribacter litoralis"
        ],
        [
         "95",
         "GCF_036323885.1",
         "Maribacter sp028464145",
         "d__Bacteria; p__Bacteroidota; c__Bacteroidia; o__Flavobacteriales; f__Flavobacteriaceae; g__Maribacter; s__Maribacter sp028464145",
         "PR1",
         "99.78",
         "0.37",
         "23",
         "441839",
         "4727315",
         "4218",
         "91.22",
         "38.62",
         "Contig",
         "",
         "2024-01-31",
         "Isolate",
         "4152.0",
         "2024-01-31",
         "Protoceratium reticulatum",
         "New Zealand:Oyster Bay",
         "",
         "",
         "No"
        ],
        [
         "96",
         "GCF_028464145.1",
         "Maribacter sp028464145",
         "d__Bacteria; p__Bacteroidota; c__Bacteroidia; o__Flavobacteriales; f__Flavobacteriaceae; g__Maribacter; s__Maribacter sp028464145",
         "PR1",
         "99.78",
         "0.37",
         "23",
         "441839",
         "4727315",
         "4219",
         "91.23",
         "38.62",
         "Contig",
         "China",
         "2023-02-05",
         "Isolate",
         "4152.0",
         "2023-02-05",
         "Protoceratium reticulatum",
         "China",
         "",
         "",
         "No"
        ],
        [
         "98",
         "GCF_035207705.1",
         "Maribacter sp035207705",
         "d__Bacteria; p__Bacteroidota; c__Bacteroidia; o__Flavobacteriales; f__Flavobacteriaceae; g__Maribacter; s__Maribacter sp035207705",
         "BPC-D8",
         "100.0",
         "0.1",
         "1",
         "4783464",
         "4783464",
         "4169",
         "90.33",
         "34.63",
         "Complete Genome",
         "",
         "2024-01-03",
         "Isolate",
         "4114.0",
         "2024-01-03",
         "Ulva",
         "Antarctica: King George Island, Potter Cove",
         "",
         "",
         "No"
        ],
        [
         "100",
         "GCF_039968975.1",
         "Maribacter sp039968975",
         "d__Bacteria; p__Bacteroidota; c__Bacteroidia; o__Flavobacteriales; f__Flavobacteriaceae; g__Maribacter; s__Maribacter sp039968975",
         "LC.101.F.A3_199_75",
         "98.45",
         "0.84",
         "285",
         "22809",
         "4217562",
         "3853",
         "91.22",
         "34.55",
         "Contig",
         "",
         "2024-05-30",
         "MAG",
         "3791.0",
         "2024-05-30",
         "Macrocystis pyrifera",
         "USA:California, Leo Carillo",
         "not collected",
         "Keywords: GSC:MIxS;MIMAG:6.0",
         "No"
        ],
        [
         "116",
         "GCA_039968355.1",
         "Maribacter zhoushanensis",
         "d__Bacteria; p__Bacteroidota; c__Bacteroidia; o__Flavobacteriales; f__Flavobacteriaceae; g__Maribacter; s__Maribacter zhoushanensis",
         "LC.06.F.A3_204_45",
         "93.57",
         "2.57",
         "492",
         "11307",
         "4032549",
         "3901",
         "91.52",
         "34.78",
         "Contig",
         "",
         "2024-05-30",
         "MAG",
         "3810.0",
         "2024-05-30",
         "Macrocystis pyrifera",
         "USA:California, Leo Carillo",
         "not collected",
         "Keywords: GSC:MIxS;MIMAG:6.0",
         "No"
        ]
       ],
       "shape": {
        "columns": 23,
        "rows": 54
       }
      },
      "text/html": [
       "<div>\n",
       "<style scoped>\n",
       "    .dataframe tbody tr th:only-of-type {\n",
       "        vertical-align: middle;\n",
       "    }\n",
       "\n",
       "    .dataframe tbody tr th {\n",
       "        vertical-align: top;\n",
       "    }\n",
       "\n",
       "    .dataframe thead th {\n",
       "        text-align: right;\n",
       "    }\n",
       "</style>\n",
       "<table border=\"1\" class=\"dataframe\">\n",
       "  <thead>\n",
       "    <tr style=\"text-align: right;\">\n",
       "      <th></th>\n",
       "      <th>ID</th>\n",
       "      <th>GTDB species</th>\n",
       "      <th>GTDB Taxonomy</th>\n",
       "      <th>NCBI Strain Identifiers</th>\n",
       "      <th>CheckM2 Completeness (%)</th>\n",
       "      <th>CheckM2 Contamination (%)</th>\n",
       "      <th>Contig Count</th>\n",
       "      <th>N50 Contigs (bp)</th>\n",
       "      <th>Genome Size (bp)</th>\n",
       "      <th>Protein Count</th>\n",
       "      <th>...</th>\n",
       "      <th>Country</th>\n",
       "      <th>Date</th>\n",
       "      <th>Genome Category</th>\n",
       "      <th>CDS Count</th>\n",
       "      <th>Seq Rel Date</th>\n",
       "      <th>Biosample Host</th>\n",
       "      <th>Biosample Geographic Location</th>\n",
       "      <th>Biosample Latitude and Longitude</th>\n",
       "      <th>Biosample Description</th>\n",
       "      <th>LPSN species validation</th>\n",
       "    </tr>\n",
       "  </thead>\n",
       "  <tbody>\n",
       "    <tr>\n",
       "      <th>0</th>\n",
       "      <td>GCF_027474845.2</td>\n",
       "      <td>Maribacter aestuarii</td>\n",
       "      <td>d__Bacteria; p__Bacteroidota; c__Bacteroidia; ...</td>\n",
       "      <td>JCM18631</td>\n",
       "      <td>97.57</td>\n",
       "      <td>0.07</td>\n",
       "      <td>1</td>\n",
       "      <td>3864851</td>\n",
       "      <td>3864851</td>\n",
       "      <td>3616</td>\n",
       "      <td>...</td>\n",
       "      <td>South Korea: Gwangyang Bay</td>\n",
       "      <td>2023-06-08</td>\n",
       "      <td>Isolate</td>\n",
       "      <td>3490.0</td>\n",
       "      <td>2023-06-08</td>\n",
       "      <td>tidal flat sediment</td>\n",
       "      <td>South Korea: Gwangyang Bay</td>\n",
       "      <td></td>\n",
       "      <td>Reference: Lo N, Jin HM, Jeon CO. Maribacter a...</td>\n",
       "      <td>Yes - Maribacter aestuarii</td>\n",
       "    </tr>\n",
       "    <tr>\n",
       "      <th>2</th>\n",
       "      <td>GCF_000621125.1</td>\n",
       "      <td>Maribacter antarcticus</td>\n",
       "      <td>d__Bacteria; p__Bacteroidota; c__Bacteroidia; ...</td>\n",
       "      <td>DSM 21422</td>\n",
       "      <td>99.99</td>\n",
       "      <td>0.12</td>\n",
       "      <td>35</td>\n",
       "      <td>339358</td>\n",
       "      <td>4853010</td>\n",
       "      <td>4305</td>\n",
       "      <td>...</td>\n",
       "      <td>Southern Ocean</td>\n",
       "      <td>2014-04-08</td>\n",
       "      <td>Isolate</td>\n",
       "      <td>4165.0</td>\n",
       "      <td>2014-04-08</td>\n",
       "      <td>Pyramimonas gelidicola</td>\n",
       "      <td>Southern Ocean</td>\n",
       "      <td></td>\n",
       "      <td></td>\n",
       "      <td>Yes - Maribacter antarcticus</td>\n",
       "    </tr>\n",
       "    <tr>\n",
       "      <th>18</th>\n",
       "      <td>GCF_039986215.1</td>\n",
       "      <td>Maribacter dokdonensis</td>\n",
       "      <td>d__Bacteria; p__Bacteroidota; c__Bacteroidia; ...</td>\n",
       "      <td>LC.02.F.A2_479_55</td>\n",
       "      <td>99.96</td>\n",
       "      <td>2.43</td>\n",
       "      <td>260</td>\n",
       "      <td>31994</td>\n",
       "      <td>4640379</td>\n",
       "      <td>4146</td>\n",
       "      <td>...</td>\n",
       "      <td></td>\n",
       "      <td>2024-05-31</td>\n",
       "      <td>MAG</td>\n",
       "      <td>4055.0</td>\n",
       "      <td>2024-05-31</td>\n",
       "      <td>Macrocystis pyrifera</td>\n",
       "      <td>USA:California, Leo Carillo</td>\n",
       "      <td>not collected</td>\n",
       "      <td>Keywords: GSC:MIxS;MIMAG:6.0</td>\n",
       "      <td>Yes - Maribacter dokdonensis</td>\n",
       "    </tr>\n",
       "    <tr>\n",
       "      <th>19</th>\n",
       "      <td>GCF_039986575.1</td>\n",
       "      <td>Maribacter dokdonensis</td>\n",
       "      <td>d__Bacteria; p__Bacteroidota; c__Bacteroidia; ...</td>\n",
       "      <td>AQ.60.F.B1_47_010</td>\n",
       "      <td>99.88</td>\n",
       "      <td>0.69</td>\n",
       "      <td>199</td>\n",
       "      <td>89855</td>\n",
       "      <td>4362585</td>\n",
       "      <td>3916</td>\n",
       "      <td>...</td>\n",
       "      <td></td>\n",
       "      <td>2024-05-31</td>\n",
       "      <td>MAG</td>\n",
       "      <td>3849.0</td>\n",
       "      <td>2024-05-31</td>\n",
       "      <td>Macrocystis pyrifera</td>\n",
       "      <td>USA:California, Arroyo Quemado</td>\n",
       "      <td>not collected</td>\n",
       "      <td>Keywords: GSC:MIxS;MIMAG:6.0</td>\n",
       "      <td>Yes - Maribacter dokdonensis</td>\n",
       "    </tr>\n",
       "    <tr>\n",
       "      <th>20</th>\n",
       "      <td>GCF_039987475.1</td>\n",
       "      <td>Maribacter dokdonensis</td>\n",
       "      <td>d__Bacteria; p__Bacteroidota; c__Bacteroidia; ...</td>\n",
       "      <td>CB.05.F.D2_97_46</td>\n",
       "      <td>98.90</td>\n",
       "      <td>2.57</td>\n",
       "      <td>238</td>\n",
       "      <td>28855</td>\n",
       "      <td>4254096</td>\n",
       "      <td>3851</td>\n",
       "      <td>...</td>\n",
       "      <td></td>\n",
       "      <td>2024-05-31</td>\n",
       "      <td>MAG</td>\n",
       "      <td>3771.0</td>\n",
       "      <td>2024-05-31</td>\n",
       "      <td>Macrocystis pyrifera</td>\n",
       "      <td>USA:California, Camp Pendleton</td>\n",
       "      <td>not collected</td>\n",
       "      <td>Keywords: GSC:MIxS;MIMAG:6.0</td>\n",
       "      <td>Yes - Maribacter dokdonensis</td>\n",
       "    </tr>\n",
       "    <tr>\n",
       "      <th>21</th>\n",
       "      <td>GCF_039969775.1</td>\n",
       "      <td>Maribacter dokdonensis</td>\n",
       "      <td>d__Bacteria; p__Bacteroidota; c__Bacteroidia; ...</td>\n",
       "      <td>LC.109.F.C4_184_85</td>\n",
       "      <td>99.99</td>\n",
       "      <td>0.09</td>\n",
       "      <td>7</td>\n",
       "      <td>1478825</td>\n",
       "      <td>4352599</td>\n",
       "      <td>3737</td>\n",
       "      <td>...</td>\n",
       "      <td></td>\n",
       "      <td>2024-05-30</td>\n",
       "      <td>MAG</td>\n",
       "      <td>3696.0</td>\n",
       "      <td>2024-05-30</td>\n",
       "      <td>Macrocystis pyrifera</td>\n",
       "      <td>USA:California, Leo Carillo</td>\n",
       "      <td>not collected</td>\n",
       "      <td>Keywords: GSC:MIxS;MIMAG:6.0</td>\n",
       "      <td>Yes - Maribacter dokdonensis</td>\n",
       "    </tr>\n",
       "    <tr>\n",
       "      <th>22</th>\n",
       "      <td>GCF_039967835.1</td>\n",
       "      <td>Maribacter dokdonensis</td>\n",
       "      <td>d__Bacteria; p__Bacteroidota; c__Bacteroidia; ...</td>\n",
       "      <td>LC.118.F.C4_216_37</td>\n",
       "      <td>99.99</td>\n",
       "      <td>0.08</td>\n",
       "      <td>15</td>\n",
       "      <td>427385</td>\n",
       "      <td>4324902</td>\n",
       "      <td>3721</td>\n",
       "      <td>...</td>\n",
       "      <td></td>\n",
       "      <td>2024-05-30</td>\n",
       "      <td>MAG</td>\n",
       "      <td>3679.0</td>\n",
       "      <td>2024-05-30</td>\n",
       "      <td>Macrocystis pyrifera</td>\n",
       "      <td>USA:California, Leo Carillo</td>\n",
       "      <td>not collected</td>\n",
       "      <td>Keywords: GSC:MIxS;MIMAG:6.0</td>\n",
       "      <td>Yes - Maribacter dokdonensis</td>\n",
       "    </tr>\n",
       "    <tr>\n",
       "      <th>23</th>\n",
       "      <td>GCF_039988175.1</td>\n",
       "      <td>Maribacter dokdonensis</td>\n",
       "      <td>d__Bacteria; p__Bacteroidota; c__Bacteroidia; ...</td>\n",
       "      <td>AQ.32.F.A2_91_45</td>\n",
       "      <td>97.23</td>\n",
       "      <td>0.07</td>\n",
       "      <td>152</td>\n",
       "      <td>54543</td>\n",
       "      <td>4179101</td>\n",
       "      <td>3698</td>\n",
       "      <td>...</td>\n",
       "      <td></td>\n",
       "      <td>2024-05-31</td>\n",
       "      <td>MAG</td>\n",
       "      <td>3637.0</td>\n",
       "      <td>2024-05-31</td>\n",
       "      <td>Macrocystis pyrifera</td>\n",
       "      <td>USA:California, Arroyo Quemado</td>\n",
       "      <td>not collected</td>\n",
       "      <td>Keywords: GSC:MIxS;MIMAG:6.0</td>\n",
       "      <td>Yes - Maribacter dokdonensis</td>\n",
       "    </tr>\n",
       "    <tr>\n",
       "      <th>24</th>\n",
       "      <td>GCF_039967245.1</td>\n",
       "      <td>Maribacter dokdonensis</td>\n",
       "      <td>d__Bacteria; p__Bacteroidota; c__Bacteroidia; ...</td>\n",
       "      <td>CB.59.M.B5_223_4</td>\n",
       "      <td>91.59</td>\n",
       "      <td>0.20</td>\n",
       "      <td>636</td>\n",
       "      <td>8628</td>\n",
       "      <td>4072647</td>\n",
       "      <td>4009</td>\n",
       "      <td>...</td>\n",
       "      <td></td>\n",
       "      <td>2024-05-30</td>\n",
       "      <td>MAG</td>\n",
       "      <td>3898.0</td>\n",
       "      <td>2024-05-30</td>\n",
       "      <td>Macrocystis pyrifera</td>\n",
       "      <td>USA:California, Camp Pendleton</td>\n",
       "      <td>not collected</td>\n",
       "      <td>Keywords: GSC:MIxS;MIMAG:6.0</td>\n",
       "      <td>Yes - Maribacter dokdonensis</td>\n",
       "    </tr>\n",
       "    <tr>\n",
       "      <th>25</th>\n",
       "      <td>GCF_039966915.1</td>\n",
       "      <td>Maribacter dokdonensis</td>\n",
       "      <td>d__Bacteria; p__Bacteroidota; c__Bacteroidia; ...</td>\n",
       "      <td>LC.04.F.D4_227_67</td>\n",
       "      <td>99.99</td>\n",
       "      <td>0.07</td>\n",
       "      <td>5</td>\n",
       "      <td>1481973</td>\n",
       "      <td>4329922</td>\n",
       "      <td>3713</td>\n",
       "      <td>...</td>\n",
       "      <td></td>\n",
       "      <td>2024-05-30</td>\n",
       "      <td>MAG</td>\n",
       "      <td>3672.0</td>\n",
       "      <td>2024-05-30</td>\n",
       "      <td>Macrocystis pyrifera</td>\n",
       "      <td>USA:California, Leo Carillo</td>\n",
       "      <td>not collected</td>\n",
       "      <td>Keywords: GSC:MIxS;MIMAG:6.0</td>\n",
       "      <td>Yes - Maribacter dokdonensis</td>\n",
       "    </tr>\n",
       "    <tr>\n",
       "      <th>26</th>\n",
       "      <td>GCF_039966215.1</td>\n",
       "      <td>Maribacter dokdonensis</td>\n",
       "      <td>d__Bacteria; p__Bacteroidota; c__Bacteroidia; ...</td>\n",
       "      <td>CB.57.F.B3_234_63</td>\n",
       "      <td>99.99</td>\n",
       "      <td>0.09</td>\n",
       "      <td>5</td>\n",
       "      <td>2200101</td>\n",
       "      <td>4355028</td>\n",
       "      <td>3737</td>\n",
       "      <td>...</td>\n",
       "      <td></td>\n",
       "      <td>2024-05-30</td>\n",
       "      <td>MAG</td>\n",
       "      <td>3695.0</td>\n",
       "      <td>2024-05-30</td>\n",
       "      <td>Macrocystis pyrifera</td>\n",
       "      <td>USA:California, Camp Pendleton</td>\n",
       "      <td>not collected</td>\n",
       "      <td>Keywords: GSC:MIxS;MIMAG:6.0</td>\n",
       "      <td>Yes - Maribacter dokdonensis</td>\n",
       "    </tr>\n",
       "    <tr>\n",
       "      <th>27</th>\n",
       "      <td>GCF_039965315.1</td>\n",
       "      <td>Maribacter dokdonensis</td>\n",
       "      <td>d__Bacteria; p__Bacteroidota; c__Bacteroidia; ...</td>\n",
       "      <td>LC.03.F.B2_259_1</td>\n",
       "      <td>100.00</td>\n",
       "      <td>0.09</td>\n",
       "      <td>61</td>\n",
       "      <td>116041</td>\n",
       "      <td>4352058</td>\n",
       "      <td>3780</td>\n",
       "      <td>...</td>\n",
       "      <td></td>\n",
       "      <td>2024-05-30</td>\n",
       "      <td>MAG</td>\n",
       "      <td>3728.0</td>\n",
       "      <td>2024-05-30</td>\n",
       "      <td>Macrocystis pyrifera</td>\n",
       "      <td>USA:California, Leo Carillo</td>\n",
       "      <td>not collected</td>\n",
       "      <td>Keywords: GSC:MIxS;MIMAG:6.0</td>\n",
       "      <td>Yes - Maribacter dokdonensis</td>\n",
       "    </tr>\n",
       "    <tr>\n",
       "      <th>28</th>\n",
       "      <td>GCF_039964365.1</td>\n",
       "      <td>Maribacter dokdonensis</td>\n",
       "      <td>d__Bacteria; p__Bacteroidota; c__Bacteroidia; ...</td>\n",
       "      <td>LC.105.F.D3_287_94</td>\n",
       "      <td>99.99</td>\n",
       "      <td>0.10</td>\n",
       "      <td>30</td>\n",
       "      <td>270993</td>\n",
       "      <td>4351424</td>\n",
       "      <td>3746</td>\n",
       "      <td>...</td>\n",
       "      <td></td>\n",
       "      <td>2024-05-30</td>\n",
       "      <td>MAG</td>\n",
       "      <td>3703.0</td>\n",
       "      <td>2024-05-30</td>\n",
       "      <td>Macrocystis pyrifera</td>\n",
       "      <td>USA:California, Leo Carillo</td>\n",
       "      <td>not collected</td>\n",
       "      <td>Keywords: GSC:MIxS;MIMAG:6.0</td>\n",
       "      <td>Yes - Maribacter dokdonensis</td>\n",
       "    </tr>\n",
       "    <tr>\n",
       "      <th>29</th>\n",
       "      <td>GCF_039988355.1</td>\n",
       "      <td>Maribacter dokdonensis</td>\n",
       "      <td>d__Bacteria; p__Bacteroidota; c__Bacteroidia; ...</td>\n",
       "      <td>CI.14.F.D1_90_46</td>\n",
       "      <td>99.99</td>\n",
       "      <td>0.08</td>\n",
       "      <td>108</td>\n",
       "      <td>70071</td>\n",
       "      <td>4257867</td>\n",
       "      <td>3721</td>\n",
       "      <td>...</td>\n",
       "      <td></td>\n",
       "      <td>2024-05-31</td>\n",
       "      <td>MAG</td>\n",
       "      <td>3663.0</td>\n",
       "      <td>2024-05-31</td>\n",
       "      <td>Macrocystis pyrifera</td>\n",
       "      <td>USA:California, Channel Islands</td>\n",
       "      <td>not collected</td>\n",
       "      <td>Keywords: GSC:MIxS;MIMAG:6.0</td>\n",
       "      <td>Yes - Maribacter dokdonensis</td>\n",
       "    </tr>\n",
       "    <tr>\n",
       "      <th>30</th>\n",
       "      <td>GCF_039963955.1</td>\n",
       "      <td>Maribacter dokdonensis</td>\n",
       "      <td>d__Bacteria; p__Bacteroidota; c__Bacteroidia; ...</td>\n",
       "      <td>LC.173.F.D1_294_74</td>\n",
       "      <td>100.00</td>\n",
       "      <td>0.08</td>\n",
       "      <td>15</td>\n",
       "      <td>440735</td>\n",
       "      <td>4304509</td>\n",
       "      <td>3692</td>\n",
       "      <td>...</td>\n",
       "      <td></td>\n",
       "      <td>2024-05-30</td>\n",
       "      <td>MAG</td>\n",
       "      <td>3647.0</td>\n",
       "      <td>2024-05-30</td>\n",
       "      <td>Macrocystis pyrifera</td>\n",
       "      <td>USA:California, Leo Carillo</td>\n",
       "      <td>not collected</td>\n",
       "      <td>Keywords: GSC:MIxS;MIMAG:6.0</td>\n",
       "      <td>Yes - Maribacter dokdonensis</td>\n",
       "    </tr>\n",
       "    <tr>\n",
       "      <th>31</th>\n",
       "      <td>GCF_039963475.1</td>\n",
       "      <td>Maribacter dokdonensis</td>\n",
       "      <td>d__Bacteria; p__Bacteroidota; c__Bacteroidia; ...</td>\n",
       "      <td>LC.07.F.D4_302_16</td>\n",
       "      <td>99.99</td>\n",
       "      <td>0.25</td>\n",
       "      <td>72</td>\n",
       "      <td>100339</td>\n",
       "      <td>4328563</td>\n",
       "      <td>3761</td>\n",
       "      <td>...</td>\n",
       "      <td></td>\n",
       "      <td>2024-05-30</td>\n",
       "      <td>MAG</td>\n",
       "      <td>3712.0</td>\n",
       "      <td>2024-05-30</td>\n",
       "      <td>Macrocystis pyrifera</td>\n",
       "      <td>USA:California, Leo Carillo</td>\n",
       "      <td>not collected</td>\n",
       "      <td>Keywords: GSC:MIxS;MIMAG:6.0</td>\n",
       "      <td>Yes - Maribacter dokdonensis</td>\n",
       "    </tr>\n",
       "    <tr>\n",
       "      <th>32</th>\n",
       "      <td>GCF_039961025.1</td>\n",
       "      <td>Maribacter dokdonensis</td>\n",
       "      <td>d__Bacteria; p__Bacteroidota; c__Bacteroidia; ...</td>\n",
       "      <td>AQ.50.F.D1_171_32</td>\n",
       "      <td>91.87</td>\n",
       "      <td>2.77</td>\n",
       "      <td>432</td>\n",
       "      <td>12724</td>\n",
       "      <td>4023902</td>\n",
       "      <td>3874</td>\n",
       "      <td>...</td>\n",
       "      <td></td>\n",
       "      <td>2024-05-30</td>\n",
       "      <td>MAG</td>\n",
       "      <td>3781.0</td>\n",
       "      <td>2024-05-30</td>\n",
       "      <td>Macrocystis pyrifera</td>\n",
       "      <td>USA:California, Arroyo Quemado</td>\n",
       "      <td>not collected</td>\n",
       "      <td>Keywords: GSC:MIxS;MIMAG:6.0</td>\n",
       "      <td>Yes - Maribacter dokdonensis</td>\n",
       "    </tr>\n",
       "    <tr>\n",
       "      <th>34</th>\n",
       "      <td>GCF_039946215.1</td>\n",
       "      <td>Maribacter dokdonensis</td>\n",
       "      <td>d__Bacteria; p__Bacteroidota; c__Bacteroidia; ...</td>\n",
       "      <td>CB.49.M.B5_130_42</td>\n",
       "      <td>99.99</td>\n",
       "      <td>0.09</td>\n",
       "      <td>20</td>\n",
       "      <td>299359</td>\n",
       "      <td>4347986</td>\n",
       "      <td>3747</td>\n",
       "      <td>...</td>\n",
       "      <td></td>\n",
       "      <td>2024-05-30</td>\n",
       "      <td>MAG</td>\n",
       "      <td>3701.0</td>\n",
       "      <td>2024-05-30</td>\n",
       "      <td>Macrocystis pyrifera</td>\n",
       "      <td>USA:California, Camp Pendleton</td>\n",
       "      <td>not collected</td>\n",
       "      <td>Keywords: GSC:MIxS;MIMAG:6.0</td>\n",
       "      <td>Yes - Maribacter dokdonensis</td>\n",
       "    </tr>\n",
       "    <tr>\n",
       "      <th>35</th>\n",
       "      <td>GCF_039944815.1</td>\n",
       "      <td>Maribacter dokdonensis</td>\n",
       "      <td>d__Bacteria; p__Bacteroidota; c__Bacteroidia; ...</td>\n",
       "      <td>CB.66.F.B1_115_36</td>\n",
       "      <td>99.99</td>\n",
       "      <td>0.08</td>\n",
       "      <td>7</td>\n",
       "      <td>701903</td>\n",
       "      <td>4330287</td>\n",
       "      <td>3713</td>\n",
       "      <td>...</td>\n",
       "      <td></td>\n",
       "      <td>2024-05-30</td>\n",
       "      <td>MAG</td>\n",
       "      <td>3672.0</td>\n",
       "      <td>2024-05-30</td>\n",
       "      <td>Macrocystis pyrifera</td>\n",
       "      <td>USA:California, Camp Pendleton</td>\n",
       "      <td>not collected</td>\n",
       "      <td>Keywords: GSC:MIxS;MIMAG:6.0</td>\n",
       "      <td>Yes - Maribacter dokdonensis</td>\n",
       "    </tr>\n",
       "    <tr>\n",
       "      <th>37</th>\n",
       "      <td>GCF_039944295.1</td>\n",
       "      <td>Maribacter dokdonensis</td>\n",
       "      <td>d__Bacteria; p__Bacteroidota; c__Bacteroidia; ...</td>\n",
       "      <td>CB.43.F.B2_119_103</td>\n",
       "      <td>99.99</td>\n",
       "      <td>0.08</td>\n",
       "      <td>5</td>\n",
       "      <td>1481973</td>\n",
       "      <td>4330201</td>\n",
       "      <td>3712</td>\n",
       "      <td>...</td>\n",
       "      <td></td>\n",
       "      <td>2024-05-30</td>\n",
       "      <td>MAG</td>\n",
       "      <td>3672.0</td>\n",
       "      <td>2024-05-30</td>\n",
       "      <td>Macrocystis pyrifera</td>\n",
       "      <td>USA:California, Camp Pendleton</td>\n",
       "      <td>not collected</td>\n",
       "      <td>Keywords: GSC:MIxS;MIMAG:6.0</td>\n",
       "      <td>Yes - Maribacter dokdonensis</td>\n",
       "    </tr>\n",
       "    <tr>\n",
       "      <th>38</th>\n",
       "      <td>GCF_039943575.1</td>\n",
       "      <td>Maribacter dokdonensis</td>\n",
       "      <td>d__Bacteria; p__Bacteroidota; c__Bacteroidia; ...</td>\n",
       "      <td>CB.10.F.C1_120_34</td>\n",
       "      <td>99.99</td>\n",
       "      <td>0.08</td>\n",
       "      <td>6</td>\n",
       "      <td>1331753</td>\n",
       "      <td>4328284</td>\n",
       "      <td>3714</td>\n",
       "      <td>...</td>\n",
       "      <td></td>\n",
       "      <td>2024-05-30</td>\n",
       "      <td>MAG</td>\n",
       "      <td>3670.0</td>\n",
       "      <td>2024-05-30</td>\n",
       "      <td>Macrocystis pyrifera</td>\n",
       "      <td>USA:California, Camp Pendleton</td>\n",
       "      <td>not collected</td>\n",
       "      <td>Keywords: GSC:MIxS;MIMAG:6.0</td>\n",
       "      <td>Yes - Maribacter dokdonensis</td>\n",
       "    </tr>\n",
       "    <tr>\n",
       "      <th>39</th>\n",
       "      <td>GCF_039943415.1</td>\n",
       "      <td>Maribacter dokdonensis</td>\n",
       "      <td>d__Bacteria; p__Bacteroidota; c__Bacteroidia; ...</td>\n",
       "      <td>CB.07.M.B5_121_1</td>\n",
       "      <td>96.98</td>\n",
       "      <td>0.18</td>\n",
       "      <td>553</td>\n",
       "      <td>10847</td>\n",
       "      <td>4155582</td>\n",
       "      <td>4089</td>\n",
       "      <td>...</td>\n",
       "      <td></td>\n",
       "      <td>2024-05-30</td>\n",
       "      <td>MAG</td>\n",
       "      <td>3994.0</td>\n",
       "      <td>2024-05-30</td>\n",
       "      <td>Macrocystis pyrifera</td>\n",
       "      <td>USA:California, Camp Pendleton</td>\n",
       "      <td>not collected</td>\n",
       "      <td>Keywords: GSC:MIxS;MIMAG:6.0</td>\n",
       "      <td>Yes - Maribacter dokdonensis</td>\n",
       "    </tr>\n",
       "    <tr>\n",
       "      <th>40</th>\n",
       "      <td>GCF_039943055.1</td>\n",
       "      <td>Maribacter dokdonensis</td>\n",
       "      <td>d__Bacteria; p__Bacteroidota; c__Bacteroidia; ...</td>\n",
       "      <td>CB.04.M.C5_124_44</td>\n",
       "      <td>100.00</td>\n",
       "      <td>0.61</td>\n",
       "      <td>66</td>\n",
       "      <td>96272</td>\n",
       "      <td>4349919</td>\n",
       "      <td>3778</td>\n",
       "      <td>...</td>\n",
       "      <td></td>\n",
       "      <td>2024-05-30</td>\n",
       "      <td>MAG</td>\n",
       "      <td>3730.0</td>\n",
       "      <td>2024-05-30</td>\n",
       "      <td>Macrocystis pyrifera</td>\n",
       "      <td>USA:California, Camp Pendleton</td>\n",
       "      <td>not collected</td>\n",
       "      <td>Keywords: GSC:MIxS;MIMAG:6.0</td>\n",
       "      <td>Yes - Maribacter dokdonensis</td>\n",
       "    </tr>\n",
       "    <tr>\n",
       "      <th>41</th>\n",
       "      <td>GCF_039942755.1</td>\n",
       "      <td>Maribacter dokdonensis</td>\n",
       "      <td>d__Bacteria; p__Bacteroidota; c__Bacteroidia; ...</td>\n",
       "      <td>CB.42.M.D5_127_75</td>\n",
       "      <td>99.99</td>\n",
       "      <td>0.09</td>\n",
       "      <td>4</td>\n",
       "      <td>1558404</td>\n",
       "      <td>4355165</td>\n",
       "      <td>3735</td>\n",
       "      <td>...</td>\n",
       "      <td></td>\n",
       "      <td>2024-05-30</td>\n",
       "      <td>MAG</td>\n",
       "      <td>3693.0</td>\n",
       "      <td>2024-05-30</td>\n",
       "      <td>Macrocystis pyrifera</td>\n",
       "      <td>USA:California, Camp Pendleton</td>\n",
       "      <td>not collected</td>\n",
       "      <td>Keywords: GSC:MIxS;MIMAG:6.0</td>\n",
       "      <td>Yes - Maribacter dokdonensis</td>\n",
       "    </tr>\n",
       "    <tr>\n",
       "      <th>42</th>\n",
       "      <td>GCF_039942115.1</td>\n",
       "      <td>Maribacter dokdonensis</td>\n",
       "      <td>d__Bacteria; p__Bacteroidota; c__Bacteroidia; ...</td>\n",
       "      <td>CB.51.F.C3_134_54</td>\n",
       "      <td>99.99</td>\n",
       "      <td>0.07</td>\n",
       "      <td>12</td>\n",
       "      <td>485563</td>\n",
       "      <td>4327161</td>\n",
       "      <td>3719</td>\n",
       "      <td>...</td>\n",
       "      <td></td>\n",
       "      <td>2024-05-30</td>\n",
       "      <td>MAG</td>\n",
       "      <td>3674.0</td>\n",
       "      <td>2024-05-30</td>\n",
       "      <td>Macrocystis pyrifera</td>\n",
       "      <td>USA:California, Camp Pendleton</td>\n",
       "      <td>not collected</td>\n",
       "      <td>Keywords: GSC:MIxS;MIMAG:6.0</td>\n",
       "      <td>Yes - Maribacter dokdonensis</td>\n",
       "    </tr>\n",
       "    <tr>\n",
       "      <th>43</th>\n",
       "      <td>GCF_039942075.1</td>\n",
       "      <td>Maribacter dokdonensis</td>\n",
       "      <td>d__Bacteria; p__Bacteroidota; c__Bacteroidia; ...</td>\n",
       "      <td>CB.54.F.C2_137_101</td>\n",
       "      <td>99.99</td>\n",
       "      <td>0.08</td>\n",
       "      <td>6</td>\n",
       "      <td>1331894</td>\n",
       "      <td>4326977</td>\n",
       "      <td>3713</td>\n",
       "      <td>...</td>\n",
       "      <td></td>\n",
       "      <td>2024-05-30</td>\n",
       "      <td>MAG</td>\n",
       "      <td>3671.0</td>\n",
       "      <td>2024-05-30</td>\n",
       "      <td>Macrocystis pyrifera</td>\n",
       "      <td>USA:California, Camp Pendleton</td>\n",
       "      <td>not collected</td>\n",
       "      <td>Keywords: GSC:MIxS;MIMAG:6.0</td>\n",
       "      <td>Yes - Maribacter dokdonensis</td>\n",
       "    </tr>\n",
       "    <tr>\n",
       "      <th>44</th>\n",
       "      <td>GCF_039941135.1</td>\n",
       "      <td>Maribacter dokdonensis</td>\n",
       "      <td>d__Bacteria; p__Bacteroidota; c__Bacteroidia; ...</td>\n",
       "      <td>CB.37.F.D4_140_43</td>\n",
       "      <td>99.99</td>\n",
       "      <td>0.08</td>\n",
       "      <td>6</td>\n",
       "      <td>1331998</td>\n",
       "      <td>4329711</td>\n",
       "      <td>3713</td>\n",
       "      <td>...</td>\n",
       "      <td></td>\n",
       "      <td>2024-05-30</td>\n",
       "      <td>MAG</td>\n",
       "      <td>3673.0</td>\n",
       "      <td>2024-05-30</td>\n",
       "      <td>Macrocystis pyrifera</td>\n",
       "      <td>USA:California, Camp Pendleton</td>\n",
       "      <td>not collected</td>\n",
       "      <td>Keywords: GSC:MIxS;MIMAG:6.0</td>\n",
       "      <td>Yes - Maribacter dokdonensis</td>\n",
       "    </tr>\n",
       "    <tr>\n",
       "      <th>45</th>\n",
       "      <td>GCF_039940815.1</td>\n",
       "      <td>Maribacter dokdonensis</td>\n",
       "      <td>d__Bacteria; p__Bacteroidota; c__Bacteroidia; ...</td>\n",
       "      <td>CB.64.M.A6_145_12</td>\n",
       "      <td>99.99</td>\n",
       "      <td>0.08</td>\n",
       "      <td>10</td>\n",
       "      <td>543866</td>\n",
       "      <td>4329715</td>\n",
       "      <td>3718</td>\n",
       "      <td>...</td>\n",
       "      <td></td>\n",
       "      <td>2024-05-30</td>\n",
       "      <td>MAG</td>\n",
       "      <td>3674.0</td>\n",
       "      <td>2024-05-30</td>\n",
       "      <td>Macrocystis pyrifera</td>\n",
       "      <td>USA:California, Camp Pendleton</td>\n",
       "      <td>not collected</td>\n",
       "      <td>Keywords: GSC:MIxS;MIMAG:6.0</td>\n",
       "      <td>Yes - Maribacter dokdonensis</td>\n",
       "    </tr>\n",
       "    <tr>\n",
       "      <th>46</th>\n",
       "      <td>GCF_039940535.1</td>\n",
       "      <td>Maribacter dokdonensis</td>\n",
       "      <td>d__Bacteria; p__Bacteroidota; c__Bacteroidia; ...</td>\n",
       "      <td>CB.04.F.A3_155_30</td>\n",
       "      <td>99.99</td>\n",
       "      <td>0.08</td>\n",
       "      <td>6</td>\n",
       "      <td>1026216</td>\n",
       "      <td>4326790</td>\n",
       "      <td>3714</td>\n",
       "      <td>...</td>\n",
       "      <td></td>\n",
       "      <td>2024-05-30</td>\n",
       "      <td>MAG</td>\n",
       "      <td>3671.0</td>\n",
       "      <td>2024-05-30</td>\n",
       "      <td>Macrocystis pyrifera</td>\n",
       "      <td>USA:California, Camp Pendleton</td>\n",
       "      <td>not collected</td>\n",
       "      <td>Keywords: GSC:MIxS;MIMAG:6.0</td>\n",
       "      <td>Yes - Maribacter dokdonensis</td>\n",
       "    </tr>\n",
       "    <tr>\n",
       "      <th>47</th>\n",
       "      <td>GCF_039939875.1</td>\n",
       "      <td>Maribacter dokdonensis</td>\n",
       "      <td>d__Bacteria; p__Bacteroidota; c__Bacteroidia; ...</td>\n",
       "      <td>CB.01.F.D3_159_69</td>\n",
       "      <td>99.99</td>\n",
       "      <td>0.08</td>\n",
       "      <td>6</td>\n",
       "      <td>1331238</td>\n",
       "      <td>4326831</td>\n",
       "      <td>3713</td>\n",
       "      <td>...</td>\n",
       "      <td></td>\n",
       "      <td>2024-05-30</td>\n",
       "      <td>MAG</td>\n",
       "      <td>3672.0</td>\n",
       "      <td>2024-05-30</td>\n",
       "      <td>Macrocystis pyrifera</td>\n",
       "      <td>USA:California, Camp Pendleton</td>\n",
       "      <td>not collected</td>\n",
       "      <td>Keywords: GSC:MIxS;MIMAG:6.0</td>\n",
       "      <td>Yes - Maribacter dokdonensis</td>\n",
       "    </tr>\n",
       "    <tr>\n",
       "      <th>48</th>\n",
       "      <td>GCF_039939615.1</td>\n",
       "      <td>Maribacter dokdonensis</td>\n",
       "      <td>d__Bacteria; p__Bacteroidota; c__Bacteroidia; ...</td>\n",
       "      <td>AQ.28.F.A5_164_15</td>\n",
       "      <td>99.99</td>\n",
       "      <td>0.07</td>\n",
       "      <td>10</td>\n",
       "      <td>879094</td>\n",
       "      <td>4329233</td>\n",
       "      <td>3718</td>\n",
       "      <td>...</td>\n",
       "      <td></td>\n",
       "      <td>2024-05-30</td>\n",
       "      <td>MAG</td>\n",
       "      <td>3677.0</td>\n",
       "      <td>2024-05-30</td>\n",
       "      <td>Macrocystis pyrifera</td>\n",
       "      <td>USA:California, Arroyo Quemado</td>\n",
       "      <td>not collected</td>\n",
       "      <td>Keywords: GSC:MIxS;MIMAG:6.0</td>\n",
       "      <td>Yes - Maribacter dokdonensis</td>\n",
       "    </tr>\n",
       "    <tr>\n",
       "      <th>49</th>\n",
       "      <td>GCF_039939445.1</td>\n",
       "      <td>Maribacter dokdonensis</td>\n",
       "      <td>d__Bacteria; p__Bacteroidota; c__Bacteroidia; ...</td>\n",
       "      <td>LC.106.F.A4_166_5</td>\n",
       "      <td>99.99</td>\n",
       "      <td>0.09</td>\n",
       "      <td>23</td>\n",
       "      <td>344991</td>\n",
       "      <td>4347067</td>\n",
       "      <td>3747</td>\n",
       "      <td>...</td>\n",
       "      <td></td>\n",
       "      <td>2024-05-30</td>\n",
       "      <td>MAG</td>\n",
       "      <td>3703.0</td>\n",
       "      <td>2024-05-30</td>\n",
       "      <td>Macrocystis pyrifera</td>\n",
       "      <td>USA:California, Leo Carillo</td>\n",
       "      <td>not collected</td>\n",
       "      <td>Keywords: GSC:MIxS;MIMAG:6.0</td>\n",
       "      <td>Yes - Maribacter dokdonensis</td>\n",
       "    </tr>\n",
       "    <tr>\n",
       "      <th>64</th>\n",
       "      <td>GCF_039974395.1</td>\n",
       "      <td>Maribacter dokdonensis</td>\n",
       "      <td>d__Bacteria; p__Bacteroidota; c__Bacteroidia; ...</td>\n",
       "      <td>CI.31.F.D2_424_86</td>\n",
       "      <td>100.00</td>\n",
       "      <td>1.53</td>\n",
       "      <td>19</td>\n",
       "      <td>789017</td>\n",
       "      <td>4469813</td>\n",
       "      <td>3862</td>\n",
       "      <td>...</td>\n",
       "      <td></td>\n",
       "      <td>2024-05-30</td>\n",
       "      <td>MAG</td>\n",
       "      <td>3813.0</td>\n",
       "      <td>2024-05-30</td>\n",
       "      <td>Macrocystis pyrifera</td>\n",
       "      <td>USA:California, Channel Islands</td>\n",
       "      <td>not collected</td>\n",
       "      <td>Keywords: GSC:MIxS;MIMAG:6.0</td>\n",
       "      <td>Yes - Maribacter dokdonensis</td>\n",
       "    </tr>\n",
       "    <tr>\n",
       "      <th>65</th>\n",
       "      <td>GCF_039973715.1</td>\n",
       "      <td>Maribacter dokdonensis</td>\n",
       "      <td>d__Bacteria; p__Bacteroidota; c__Bacteroidia; ...</td>\n",
       "      <td>AQ.34.F.B6_43_1</td>\n",
       "      <td>99.88</td>\n",
       "      <td>0.70</td>\n",
       "      <td>240</td>\n",
       "      <td>36394</td>\n",
       "      <td>4564052</td>\n",
       "      <td>4081</td>\n",
       "      <td>...</td>\n",
       "      <td></td>\n",
       "      <td>2024-05-30</td>\n",
       "      <td>MAG</td>\n",
       "      <td>4000.0</td>\n",
       "      <td>2024-05-30</td>\n",
       "      <td>Macrocystis pyrifera</td>\n",
       "      <td>USA:California, Arroyo Quemado</td>\n",
       "      <td>not collected</td>\n",
       "      <td>Keywords: GSC:MIxS;MIMAG:6.0</td>\n",
       "      <td>Yes - Maribacter dokdonensis</td>\n",
       "    </tr>\n",
       "    <tr>\n",
       "      <th>66</th>\n",
       "      <td>GCA_039940215.1</td>\n",
       "      <td>Maribacter dokdonensis</td>\n",
       "      <td>d__Bacteria; p__Bacteroidota; c__Bacteroidia; ...</td>\n",
       "      <td>CB.75.F.D4_158_25</td>\n",
       "      <td>91.95</td>\n",
       "      <td>0.42</td>\n",
       "      <td>357</td>\n",
       "      <td>16254</td>\n",
       "      <td>3781702</td>\n",
       "      <td>3515</td>\n",
       "      <td>...</td>\n",
       "      <td></td>\n",
       "      <td>2024-05-30</td>\n",
       "      <td>MAG</td>\n",
       "      <td>3441.0</td>\n",
       "      <td>2024-05-30</td>\n",
       "      <td>Macrocystis pyrifera</td>\n",
       "      <td>USA:California, Camp Pendleton</td>\n",
       "      <td>not collected</td>\n",
       "      <td>Keywords: GSC:MIxS;MIMAG:6.0</td>\n",
       "      <td>Yes - Maribacter dokdonensis</td>\n",
       "    </tr>\n",
       "    <tr>\n",
       "      <th>67</th>\n",
       "      <td>GCF_039971075.1</td>\n",
       "      <td>Maribacter dokdonensis</td>\n",
       "      <td>d__Bacteria; p__Bacteroidota; c__Bacteroidia; ...</td>\n",
       "      <td>LC.10.F.D3_173_42</td>\n",
       "      <td>99.99</td>\n",
       "      <td>0.08</td>\n",
       "      <td>28</td>\n",
       "      <td>341803</td>\n",
       "      <td>4473361</td>\n",
       "      <td>3815</td>\n",
       "      <td>...</td>\n",
       "      <td></td>\n",
       "      <td>2024-05-30</td>\n",
       "      <td>MAG</td>\n",
       "      <td>3764.0</td>\n",
       "      <td>2024-05-30</td>\n",
       "      <td>Macrocystis pyrifera</td>\n",
       "      <td>USA:California, Leo Carillo</td>\n",
       "      <td>not collected</td>\n",
       "      <td>Keywords: GSC:MIxS;MIMAG:6.0</td>\n",
       "      <td>Yes - Maribacter dokdonensis</td>\n",
       "    </tr>\n",
       "    <tr>\n",
       "      <th>68</th>\n",
       "      <td>GCF_039970655.1</td>\n",
       "      <td>Maribacter dokdonensis</td>\n",
       "      <td>d__Bacteria; p__Bacteroidota; c__Bacteroidia; ...</td>\n",
       "      <td>LC.119.F.D4_174_82</td>\n",
       "      <td>99.99</td>\n",
       "      <td>0.07</td>\n",
       "      <td>5</td>\n",
       "      <td>1468372</td>\n",
       "      <td>4316969</td>\n",
       "      <td>3696</td>\n",
       "      <td>...</td>\n",
       "      <td></td>\n",
       "      <td>2024-05-30</td>\n",
       "      <td>MAG</td>\n",
       "      <td>3656.0</td>\n",
       "      <td>2024-05-30</td>\n",
       "      <td>Macrocystis pyrifera</td>\n",
       "      <td>USA:California, Leo Carillo</td>\n",
       "      <td>not collected</td>\n",
       "      <td>Keywords: GSC:MIxS;MIMAG:6.0</td>\n",
       "      <td>Yes - Maribacter dokdonensis</td>\n",
       "    </tr>\n",
       "    <tr>\n",
       "      <th>69</th>\n",
       "      <td>GCF_039982355.1</td>\n",
       "      <td>Maribacter dokdonensis</td>\n",
       "      <td>d__Bacteria; p__Bacteroidota; c__Bacteroidia; ...</td>\n",
       "      <td>CI.26.F.C1_514_63</td>\n",
       "      <td>90.67</td>\n",
       "      <td>1.89</td>\n",
       "      <td>348</td>\n",
       "      <td>18070</td>\n",
       "      <td>4108208</td>\n",
       "      <td>3754</td>\n",
       "      <td>...</td>\n",
       "      <td></td>\n",
       "      <td>2024-05-31</td>\n",
       "      <td>MAG</td>\n",
       "      <td>3669.0</td>\n",
       "      <td>2024-05-31</td>\n",
       "      <td>Macrocystis pyrifera</td>\n",
       "      <td>USA:California, Channel Islands</td>\n",
       "      <td>not collected</td>\n",
       "      <td>Keywords: GSC:MIxS;MIMAG:6.0</td>\n",
       "      <td>Yes - Maribacter dokdonensis</td>\n",
       "    </tr>\n",
       "    <tr>\n",
       "      <th>70</th>\n",
       "      <td>GCF_039970295.1</td>\n",
       "      <td>Maribacter dokdonensis</td>\n",
       "      <td>d__Bacteria; p__Bacteroidota; c__Bacteroidia; ...</td>\n",
       "      <td>CB.49.F.A1_179_71</td>\n",
       "      <td>99.99</td>\n",
       "      <td>0.07</td>\n",
       "      <td>6</td>\n",
       "      <td>2200173</td>\n",
       "      <td>4330269</td>\n",
       "      <td>3716</td>\n",
       "      <td>...</td>\n",
       "      <td></td>\n",
       "      <td>2024-05-30</td>\n",
       "      <td>MAG</td>\n",
       "      <td>3673.0</td>\n",
       "      <td>2024-05-30</td>\n",
       "      <td>Macrocystis pyrifera</td>\n",
       "      <td>USA:California, Camp Pendleton</td>\n",
       "      <td>not collected</td>\n",
       "      <td>Keywords: GSC:MIxS;MIMAG:6.0</td>\n",
       "      <td>Yes - Maribacter dokdonensis</td>\n",
       "    </tr>\n",
       "    <tr>\n",
       "      <th>71</th>\n",
       "      <td>GCF_039984575.1</td>\n",
       "      <td>Maribacter dokdonensis</td>\n",
       "      <td>d__Bacteria; p__Bacteroidota; c__Bacteroidia; ...</td>\n",
       "      <td>LC.09.M.C6_495_92</td>\n",
       "      <td>99.91</td>\n",
       "      <td>0.83</td>\n",
       "      <td>92</td>\n",
       "      <td>80056</td>\n",
       "      <td>4441614</td>\n",
       "      <td>3853</td>\n",
       "      <td>...</td>\n",
       "      <td></td>\n",
       "      <td>2024-05-31</td>\n",
       "      <td>MAG</td>\n",
       "      <td>3791.0</td>\n",
       "      <td>2024-05-31</td>\n",
       "      <td>Macrocystis pyrifera</td>\n",
       "      <td>USA:California, Leo Carillo</td>\n",
       "      <td>not collected</td>\n",
       "      <td>Keywords: GSC:MIxS;MIMAG:6.0</td>\n",
       "      <td>Yes - Maribacter dokdonensis</td>\n",
       "    </tr>\n",
       "    <tr>\n",
       "      <th>72</th>\n",
       "      <td>GCF_036323785.1</td>\n",
       "      <td>Maribacter flavus</td>\n",
       "      <td>d__Bacteria; p__Bacteroidota; c__Bacteroidia; ...</td>\n",
       "      <td>KPT27_14</td>\n",
       "      <td>99.98</td>\n",
       "      <td>0.33</td>\n",
       "      <td>192</td>\n",
       "      <td>614045</td>\n",
       "      <td>4111314</td>\n",
       "      <td>3727</td>\n",
       "      <td>...</td>\n",
       "      <td></td>\n",
       "      <td>2024-01-31</td>\n",
       "      <td>Isolate</td>\n",
       "      <td>3622.0</td>\n",
       "      <td>2024-01-31</td>\n",
       "      <td>Thalassiosira minima</td>\n",
       "      <td>China: Fujian province, Putian</td>\n",
       "      <td></td>\n",
       "      <td></td>\n",
       "      <td>Yes - Maribacter flavus</td>\n",
       "    </tr>\n",
       "    <tr>\n",
       "      <th>75</th>\n",
       "      <td>GCF_028464205.1</td>\n",
       "      <td>Maribacter flavus</td>\n",
       "      <td>d__Bacteria; p__Bacteroidota; c__Bacteroidia; ...</td>\n",
       "      <td>PR66</td>\n",
       "      <td>99.98</td>\n",
       "      <td>0.25</td>\n",
       "      <td>27</td>\n",
       "      <td>311016</td>\n",
       "      <td>4066610</td>\n",
       "      <td>3569</td>\n",
       "      <td>...</td>\n",
       "      <td>China</td>\n",
       "      <td>2023-02-05</td>\n",
       "      <td>Isolate</td>\n",
       "      <td>3495.0</td>\n",
       "      <td>2023-02-05</td>\n",
       "      <td>Protoceratium reticulatum</td>\n",
       "      <td>China</td>\n",
       "      <td></td>\n",
       "      <td></td>\n",
       "      <td>Yes - Maribacter flavus</td>\n",
       "    </tr>\n",
       "    <tr>\n",
       "      <th>78</th>\n",
       "      <td>GCF_020629415.1</td>\n",
       "      <td>Maribacter huludaoensis</td>\n",
       "      <td>d__Bacteria; p__Bacteroidota; c__Bacteroidia; ...</td>\n",
       "      <td>MAG-157</td>\n",
       "      <td>94.95</td>\n",
       "      <td>0.07</td>\n",
       "      <td>134</td>\n",
       "      <td>50703</td>\n",
       "      <td>3895488</td>\n",
       "      <td>3435</td>\n",
       "      <td>...</td>\n",
       "      <td>China: Rizhao City and Ningde City</td>\n",
       "      <td>2021-10-26</td>\n",
       "      <td>MAG</td>\n",
       "      <td>3416.0</td>\n",
       "      <td>2021-10-26</td>\n",
       "      <td>Pyropia haitanensis</td>\n",
       "      <td>China: Rizhao City and Ningde City</td>\n",
       "      <td>missing</td>\n",
       "      <td>Keywords: GSC:MIxS;MIMAG:6.0</td>\n",
       "      <td>No</td>\n",
       "    </tr>\n",
       "    <tr>\n",
       "      <th>82</th>\n",
       "      <td>GCF_902506355.1</td>\n",
       "      <td>Maribacter litoralis</td>\n",
       "      <td>d__Bacteria; p__Bacteroidota; c__Bacteroidia; ...</td>\n",
       "      <td>Maribacter sp. 151</td>\n",
       "      <td>99.97</td>\n",
       "      <td>0.01</td>\n",
       "      <td>6</td>\n",
       "      <td>2692075</td>\n",
       "      <td>4364915</td>\n",
       "      <td>3753</td>\n",
       "      <td>...</td>\n",
       "      <td></td>\n",
       "      <td>2020-01-03</td>\n",
       "      <td>Isolate</td>\n",
       "      <td>3710.0</td>\n",
       "      <td>2020-01-03</td>\n",
       "      <td>Ectocarpus subulatus</td>\n",
       "      <td></td>\n",
       "      <td></td>\n",
       "      <td></td>\n",
       "      <td>Yes - Maribacter litoralis</td>\n",
       "    </tr>\n",
       "    <tr>\n",
       "      <th>83</th>\n",
       "      <td>GCF_039967355.1</td>\n",
       "      <td>Maribacter litoralis</td>\n",
       "      <td>d__Bacteria; p__Bacteroidota; c__Bacteroidia; ...</td>\n",
       "      <td>LC.122.F.D4_220_62</td>\n",
       "      <td>98.05</td>\n",
       "      <td>1.18</td>\n",
       "      <td>239</td>\n",
       "      <td>28225</td>\n",
       "      <td>4463799</td>\n",
       "      <td>4062</td>\n",
       "      <td>...</td>\n",
       "      <td></td>\n",
       "      <td>2024-05-30</td>\n",
       "      <td>MAG</td>\n",
       "      <td>3996.0</td>\n",
       "      <td>2024-05-30</td>\n",
       "      <td>Macrocystis pyrifera</td>\n",
       "      <td>USA:California, Leo Carillo</td>\n",
       "      <td>not collected</td>\n",
       "      <td>Keywords: GSC:MIxS;MIMAG:6.0</td>\n",
       "      <td>Yes - Maribacter litoralis</td>\n",
       "    </tr>\n",
       "    <tr>\n",
       "      <th>95</th>\n",
       "      <td>GCF_036323885.1</td>\n",
       "      <td>Maribacter sp028464145</td>\n",
       "      <td>d__Bacteria; p__Bacteroidota; c__Bacteroidia; ...</td>\n",
       "      <td>PR1</td>\n",
       "      <td>99.78</td>\n",
       "      <td>0.37</td>\n",
       "      <td>23</td>\n",
       "      <td>441839</td>\n",
       "      <td>4727315</td>\n",
       "      <td>4218</td>\n",
       "      <td>...</td>\n",
       "      <td></td>\n",
       "      <td>2024-01-31</td>\n",
       "      <td>Isolate</td>\n",
       "      <td>4152.0</td>\n",
       "      <td>2024-01-31</td>\n",
       "      <td>Protoceratium reticulatum</td>\n",
       "      <td>New Zealand:Oyster Bay</td>\n",
       "      <td></td>\n",
       "      <td></td>\n",
       "      <td>No</td>\n",
       "    </tr>\n",
       "    <tr>\n",
       "      <th>96</th>\n",
       "      <td>GCF_028464145.1</td>\n",
       "      <td>Maribacter sp028464145</td>\n",
       "      <td>d__Bacteria; p__Bacteroidota; c__Bacteroidia; ...</td>\n",
       "      <td>PR1</td>\n",
       "      <td>99.78</td>\n",
       "      <td>0.37</td>\n",
       "      <td>23</td>\n",
       "      <td>441839</td>\n",
       "      <td>4727315</td>\n",
       "      <td>4219</td>\n",
       "      <td>...</td>\n",
       "      <td>China</td>\n",
       "      <td>2023-02-05</td>\n",
       "      <td>Isolate</td>\n",
       "      <td>4152.0</td>\n",
       "      <td>2023-02-05</td>\n",
       "      <td>Protoceratium reticulatum</td>\n",
       "      <td>China</td>\n",
       "      <td></td>\n",
       "      <td></td>\n",
       "      <td>No</td>\n",
       "    </tr>\n",
       "    <tr>\n",
       "      <th>98</th>\n",
       "      <td>GCF_035207705.1</td>\n",
       "      <td>Maribacter sp035207705</td>\n",
       "      <td>d__Bacteria; p__Bacteroidota; c__Bacteroidia; ...</td>\n",
       "      <td>BPC-D8</td>\n",
       "      <td>100.00</td>\n",
       "      <td>0.10</td>\n",
       "      <td>1</td>\n",
       "      <td>4783464</td>\n",
       "      <td>4783464</td>\n",
       "      <td>4169</td>\n",
       "      <td>...</td>\n",
       "      <td></td>\n",
       "      <td>2024-01-03</td>\n",
       "      <td>Isolate</td>\n",
       "      <td>4114.0</td>\n",
       "      <td>2024-01-03</td>\n",
       "      <td>Ulva</td>\n",
       "      <td>Antarctica: King George Island, Potter Cove</td>\n",
       "      <td></td>\n",
       "      <td></td>\n",
       "      <td>No</td>\n",
       "    </tr>\n",
       "    <tr>\n",
       "      <th>100</th>\n",
       "      <td>GCF_039968975.1</td>\n",
       "      <td>Maribacter sp039968975</td>\n",
       "      <td>d__Bacteria; p__Bacteroidota; c__Bacteroidia; ...</td>\n",
       "      <td>LC.101.F.A3_199_75</td>\n",
       "      <td>98.45</td>\n",
       "      <td>0.84</td>\n",
       "      <td>285</td>\n",
       "      <td>22809</td>\n",
       "      <td>4217562</td>\n",
       "      <td>3853</td>\n",
       "      <td>...</td>\n",
       "      <td></td>\n",
       "      <td>2024-05-30</td>\n",
       "      <td>MAG</td>\n",
       "      <td>3791.0</td>\n",
       "      <td>2024-05-30</td>\n",
       "      <td>Macrocystis pyrifera</td>\n",
       "      <td>USA:California, Leo Carillo</td>\n",
       "      <td>not collected</td>\n",
       "      <td>Keywords: GSC:MIxS;MIMAG:6.0</td>\n",
       "      <td>No</td>\n",
       "    </tr>\n",
       "    <tr>\n",
       "      <th>116</th>\n",
       "      <td>GCA_039968355.1</td>\n",
       "      <td>Maribacter zhoushanensis</td>\n",
       "      <td>d__Bacteria; p__Bacteroidota; c__Bacteroidia; ...</td>\n",
       "      <td>LC.06.F.A3_204_45</td>\n",
       "      <td>93.57</td>\n",
       "      <td>2.57</td>\n",
       "      <td>492</td>\n",
       "      <td>11307</td>\n",
       "      <td>4032549</td>\n",
       "      <td>3901</td>\n",
       "      <td>...</td>\n",
       "      <td></td>\n",
       "      <td>2024-05-30</td>\n",
       "      <td>MAG</td>\n",
       "      <td>3810.0</td>\n",
       "      <td>2024-05-30</td>\n",
       "      <td>Macrocystis pyrifera</td>\n",
       "      <td>USA:California, Leo Carillo</td>\n",
       "      <td>not collected</td>\n",
       "      <td>Keywords: GSC:MIxS;MIMAG:6.0</td>\n",
       "      <td>No</td>\n",
       "    </tr>\n",
       "    <tr>\n",
       "      <th>132</th>\n",
       "      <td>GCA_024228355.1</td>\n",
       "      <td>Maribacter_A sp024228355</td>\n",
       "      <td>d__Bacteria; p__Bacteroidota; c__Bacteroidia; ...</td>\n",
       "      <td>Vin_8</td>\n",
       "      <td>99.96</td>\n",
       "      <td>2.52</td>\n",
       "      <td>807</td>\n",
       "      <td>17663</td>\n",
       "      <td>4695109</td>\n",
       "      <td>4759</td>\n",
       "      <td>...</td>\n",
       "      <td>Peru: Oxygen minimum zone</td>\n",
       "      <td>2022-07-12</td>\n",
       "      <td>MAG</td>\n",
       "      <td>4398.0</td>\n",
       "      <td>2022-07-12</td>\n",
       "      <td>Valvulineria inflata</td>\n",
       "      <td>Peru: Oxygen minimum zone</td>\n",
       "      <td></td>\n",
       "      <td></td>\n",
       "      <td>No</td>\n",
       "    </tr>\n",
       "    <tr>\n",
       "      <th>146</th>\n",
       "      <td>GCF_005885635.1</td>\n",
       "      <td>Maribacter_C algarum</td>\n",
       "      <td>d__Bacteria; p__Bacteroidota; c__Bacteroidia; ...</td>\n",
       "      <td>RZ26</td>\n",
       "      <td>99.94</td>\n",
       "      <td>0.19</td>\n",
       "      <td>21</td>\n",
       "      <td>1114618</td>\n",
       "      <td>5110706</td>\n",
       "      <td>4463</td>\n",
       "      <td>...</td>\n",
       "      <td>China: Weihai</td>\n",
       "      <td>2019-05-29</td>\n",
       "      <td>Isolate</td>\n",
       "      <td>4379.0</td>\n",
       "      <td>2019-05-29</td>\n",
       "      <td>red algae</td>\n",
       "      <td>China:Weihai</td>\n",
       "      <td></td>\n",
       "      <td></td>\n",
       "      <td>No</td>\n",
       "    </tr>\n",
       "    <tr>\n",
       "      <th>149</th>\n",
       "      <td>GCF_039974175.1</td>\n",
       "      <td>Maribacter_C sp039974175</td>\n",
       "      <td>d__Bacteria; p__Bacteroidota; c__Bacteroidia; ...</td>\n",
       "      <td>CI.62.F.A4_427_31</td>\n",
       "      <td>100.00</td>\n",
       "      <td>0.04</td>\n",
       "      <td>13</td>\n",
       "      <td>878033</td>\n",
       "      <td>4581310</td>\n",
       "      <td>4081</td>\n",
       "      <td>...</td>\n",
       "      <td></td>\n",
       "      <td>2024-05-30</td>\n",
       "      <td>MAG</td>\n",
       "      <td>4018.0</td>\n",
       "      <td>2024-05-30</td>\n",
       "      <td>Macrocystis pyrifera</td>\n",
       "      <td>USA:California, Channel Islands</td>\n",
       "      <td>not collected</td>\n",
       "      <td>Keywords: GSC:MIxS;MIMAG:6.0</td>\n",
       "      <td>No</td>\n",
       "    </tr>\n",
       "    <tr>\n",
       "      <th>159</th>\n",
       "      <td>GCF_027474825.1</td>\n",
       "      <td>Maribacter_D halichondriae</td>\n",
       "      <td>d__Bacteria; p__Bacteroidota; c__Bacteroidia; ...</td>\n",
       "      <td>Hal144</td>\n",
       "      <td>94.68</td>\n",
       "      <td>3.45</td>\n",
       "      <td>1</td>\n",
       "      <td>4529002</td>\n",
       "      <td>4529002</td>\n",
       "      <td>4524</td>\n",
       "      <td>...</td>\n",
       "      <td>Germany: Schilksee; Kiel Fjord; Baltic Sea; La...</td>\n",
       "      <td>2023-01-23</td>\n",
       "      <td>Isolate</td>\n",
       "      <td>4279.0</td>\n",
       "      <td>2023-01-23</td>\n",
       "      <td>Halichondria panicea</td>\n",
       "      <td>Germany: Schilksee, Kiel Fjord, Baltic Sea; La...</td>\n",
       "      <td></td>\n",
       "      <td></td>\n",
       "      <td>No</td>\n",
       "    </tr>\n",
       "  </tbody>\n",
       "</table>\n",
       "<p>54 rows × 23 columns</p>\n",
       "</div>"
      ],
      "text/plain": [
       "                  ID                GTDB species  \\\n",
       "0    GCF_027474845.2        Maribacter aestuarii   \n",
       "2    GCF_000621125.1      Maribacter antarcticus   \n",
       "18   GCF_039986215.1      Maribacter dokdonensis   \n",
       "19   GCF_039986575.1      Maribacter dokdonensis   \n",
       "20   GCF_039987475.1      Maribacter dokdonensis   \n",
       "21   GCF_039969775.1      Maribacter dokdonensis   \n",
       "22   GCF_039967835.1      Maribacter dokdonensis   \n",
       "23   GCF_039988175.1      Maribacter dokdonensis   \n",
       "24   GCF_039967245.1      Maribacter dokdonensis   \n",
       "25   GCF_039966915.1      Maribacter dokdonensis   \n",
       "26   GCF_039966215.1      Maribacter dokdonensis   \n",
       "27   GCF_039965315.1      Maribacter dokdonensis   \n",
       "28   GCF_039964365.1      Maribacter dokdonensis   \n",
       "29   GCF_039988355.1      Maribacter dokdonensis   \n",
       "30   GCF_039963955.1      Maribacter dokdonensis   \n",
       "31   GCF_039963475.1      Maribacter dokdonensis   \n",
       "32   GCF_039961025.1      Maribacter dokdonensis   \n",
       "34   GCF_039946215.1      Maribacter dokdonensis   \n",
       "35   GCF_039944815.1      Maribacter dokdonensis   \n",
       "37   GCF_039944295.1      Maribacter dokdonensis   \n",
       "38   GCF_039943575.1      Maribacter dokdonensis   \n",
       "39   GCF_039943415.1      Maribacter dokdonensis   \n",
       "40   GCF_039943055.1      Maribacter dokdonensis   \n",
       "41   GCF_039942755.1      Maribacter dokdonensis   \n",
       "42   GCF_039942115.1      Maribacter dokdonensis   \n",
       "43   GCF_039942075.1      Maribacter dokdonensis   \n",
       "44   GCF_039941135.1      Maribacter dokdonensis   \n",
       "45   GCF_039940815.1      Maribacter dokdonensis   \n",
       "46   GCF_039940535.1      Maribacter dokdonensis   \n",
       "47   GCF_039939875.1      Maribacter dokdonensis   \n",
       "48   GCF_039939615.1      Maribacter dokdonensis   \n",
       "49   GCF_039939445.1      Maribacter dokdonensis   \n",
       "64   GCF_039974395.1      Maribacter dokdonensis   \n",
       "65   GCF_039973715.1      Maribacter dokdonensis   \n",
       "66   GCA_039940215.1      Maribacter dokdonensis   \n",
       "67   GCF_039971075.1      Maribacter dokdonensis   \n",
       "68   GCF_039970655.1      Maribacter dokdonensis   \n",
       "69   GCF_039982355.1      Maribacter dokdonensis   \n",
       "70   GCF_039970295.1      Maribacter dokdonensis   \n",
       "71   GCF_039984575.1      Maribacter dokdonensis   \n",
       "72   GCF_036323785.1           Maribacter flavus   \n",
       "75   GCF_028464205.1           Maribacter flavus   \n",
       "78   GCF_020629415.1     Maribacter huludaoensis   \n",
       "82   GCF_902506355.1        Maribacter litoralis   \n",
       "83   GCF_039967355.1        Maribacter litoralis   \n",
       "95   GCF_036323885.1      Maribacter sp028464145   \n",
       "96   GCF_028464145.1      Maribacter sp028464145   \n",
       "98   GCF_035207705.1      Maribacter sp035207705   \n",
       "100  GCF_039968975.1      Maribacter sp039968975   \n",
       "116  GCA_039968355.1    Maribacter zhoushanensis   \n",
       "132  GCA_024228355.1    Maribacter_A sp024228355   \n",
       "146  GCF_005885635.1        Maribacter_C algarum   \n",
       "149  GCF_039974175.1    Maribacter_C sp039974175   \n",
       "159  GCF_027474825.1  Maribacter_D halichondriae   \n",
       "\n",
       "                                         GTDB Taxonomy  \\\n",
       "0    d__Bacteria; p__Bacteroidota; c__Bacteroidia; ...   \n",
       "2    d__Bacteria; p__Bacteroidota; c__Bacteroidia; ...   \n",
       "18   d__Bacteria; p__Bacteroidota; c__Bacteroidia; ...   \n",
       "19   d__Bacteria; p__Bacteroidota; c__Bacteroidia; ...   \n",
       "20   d__Bacteria; p__Bacteroidota; c__Bacteroidia; ...   \n",
       "21   d__Bacteria; p__Bacteroidota; c__Bacteroidia; ...   \n",
       "22   d__Bacteria; p__Bacteroidota; c__Bacteroidia; ...   \n",
       "23   d__Bacteria; p__Bacteroidota; c__Bacteroidia; ...   \n",
       "24   d__Bacteria; p__Bacteroidota; c__Bacteroidia; ...   \n",
       "25   d__Bacteria; p__Bacteroidota; c__Bacteroidia; ...   \n",
       "26   d__Bacteria; p__Bacteroidota; c__Bacteroidia; ...   \n",
       "27   d__Bacteria; p__Bacteroidota; c__Bacteroidia; ...   \n",
       "28   d__Bacteria; p__Bacteroidota; c__Bacteroidia; ...   \n",
       "29   d__Bacteria; p__Bacteroidota; c__Bacteroidia; ...   \n",
       "30   d__Bacteria; p__Bacteroidota; c__Bacteroidia; ...   \n",
       "31   d__Bacteria; p__Bacteroidota; c__Bacteroidia; ...   \n",
       "32   d__Bacteria; p__Bacteroidota; c__Bacteroidia; ...   \n",
       "34   d__Bacteria; p__Bacteroidota; c__Bacteroidia; ...   \n",
       "35   d__Bacteria; p__Bacteroidota; c__Bacteroidia; ...   \n",
       "37   d__Bacteria; p__Bacteroidota; c__Bacteroidia; ...   \n",
       "38   d__Bacteria; p__Bacteroidota; c__Bacteroidia; ...   \n",
       "39   d__Bacteria; p__Bacteroidota; c__Bacteroidia; ...   \n",
       "40   d__Bacteria; p__Bacteroidota; c__Bacteroidia; ...   \n",
       "41   d__Bacteria; p__Bacteroidota; c__Bacteroidia; ...   \n",
       "42   d__Bacteria; p__Bacteroidota; c__Bacteroidia; ...   \n",
       "43   d__Bacteria; p__Bacteroidota; c__Bacteroidia; ...   \n",
       "44   d__Bacteria; p__Bacteroidota; c__Bacteroidia; ...   \n",
       "45   d__Bacteria; p__Bacteroidota; c__Bacteroidia; ...   \n",
       "46   d__Bacteria; p__Bacteroidota; c__Bacteroidia; ...   \n",
       "47   d__Bacteria; p__Bacteroidota; c__Bacteroidia; ...   \n",
       "48   d__Bacteria; p__Bacteroidota; c__Bacteroidia; ...   \n",
       "49   d__Bacteria; p__Bacteroidota; c__Bacteroidia; ...   \n",
       "64   d__Bacteria; p__Bacteroidota; c__Bacteroidia; ...   \n",
       "65   d__Bacteria; p__Bacteroidota; c__Bacteroidia; ...   \n",
       "66   d__Bacteria; p__Bacteroidota; c__Bacteroidia; ...   \n",
       "67   d__Bacteria; p__Bacteroidota; c__Bacteroidia; ...   \n",
       "68   d__Bacteria; p__Bacteroidota; c__Bacteroidia; ...   \n",
       "69   d__Bacteria; p__Bacteroidota; c__Bacteroidia; ...   \n",
       "70   d__Bacteria; p__Bacteroidota; c__Bacteroidia; ...   \n",
       "71   d__Bacteria; p__Bacteroidota; c__Bacteroidia; ...   \n",
       "72   d__Bacteria; p__Bacteroidota; c__Bacteroidia; ...   \n",
       "75   d__Bacteria; p__Bacteroidota; c__Bacteroidia; ...   \n",
       "78   d__Bacteria; p__Bacteroidota; c__Bacteroidia; ...   \n",
       "82   d__Bacteria; p__Bacteroidota; c__Bacteroidia; ...   \n",
       "83   d__Bacteria; p__Bacteroidota; c__Bacteroidia; ...   \n",
       "95   d__Bacteria; p__Bacteroidota; c__Bacteroidia; ...   \n",
       "96   d__Bacteria; p__Bacteroidota; c__Bacteroidia; ...   \n",
       "98   d__Bacteria; p__Bacteroidota; c__Bacteroidia; ...   \n",
       "100  d__Bacteria; p__Bacteroidota; c__Bacteroidia; ...   \n",
       "116  d__Bacteria; p__Bacteroidota; c__Bacteroidia; ...   \n",
       "132  d__Bacteria; p__Bacteroidota; c__Bacteroidia; ...   \n",
       "146  d__Bacteria; p__Bacteroidota; c__Bacteroidia; ...   \n",
       "149  d__Bacteria; p__Bacteroidota; c__Bacteroidia; ...   \n",
       "159  d__Bacteria; p__Bacteroidota; c__Bacteroidia; ...   \n",
       "\n",
       "    NCBI Strain Identifiers  CheckM2 Completeness (%)  \\\n",
       "0                  JCM18631                     97.57   \n",
       "2                 DSM 21422                     99.99   \n",
       "18        LC.02.F.A2_479_55                     99.96   \n",
       "19        AQ.60.F.B1_47_010                     99.88   \n",
       "20         CB.05.F.D2_97_46                     98.90   \n",
       "21       LC.109.F.C4_184_85                     99.99   \n",
       "22       LC.118.F.C4_216_37                     99.99   \n",
       "23         AQ.32.F.A2_91_45                     97.23   \n",
       "24         CB.59.M.B5_223_4                     91.59   \n",
       "25        LC.04.F.D4_227_67                     99.99   \n",
       "26        CB.57.F.B3_234_63                     99.99   \n",
       "27         LC.03.F.B2_259_1                    100.00   \n",
       "28       LC.105.F.D3_287_94                     99.99   \n",
       "29         CI.14.F.D1_90_46                     99.99   \n",
       "30       LC.173.F.D1_294_74                    100.00   \n",
       "31        LC.07.F.D4_302_16                     99.99   \n",
       "32        AQ.50.F.D1_171_32                     91.87   \n",
       "34        CB.49.M.B5_130_42                     99.99   \n",
       "35        CB.66.F.B1_115_36                     99.99   \n",
       "37       CB.43.F.B2_119_103                     99.99   \n",
       "38        CB.10.F.C1_120_34                     99.99   \n",
       "39         CB.07.M.B5_121_1                     96.98   \n",
       "40        CB.04.M.C5_124_44                    100.00   \n",
       "41        CB.42.M.D5_127_75                     99.99   \n",
       "42        CB.51.F.C3_134_54                     99.99   \n",
       "43       CB.54.F.C2_137_101                     99.99   \n",
       "44        CB.37.F.D4_140_43                     99.99   \n",
       "45        CB.64.M.A6_145_12                     99.99   \n",
       "46        CB.04.F.A3_155_30                     99.99   \n",
       "47        CB.01.F.D3_159_69                     99.99   \n",
       "48        AQ.28.F.A5_164_15                     99.99   \n",
       "49        LC.106.F.A4_166_5                     99.99   \n",
       "64        CI.31.F.D2_424_86                    100.00   \n",
       "65          AQ.34.F.B6_43_1                     99.88   \n",
       "66        CB.75.F.D4_158_25                     91.95   \n",
       "67        LC.10.F.D3_173_42                     99.99   \n",
       "68       LC.119.F.D4_174_82                     99.99   \n",
       "69        CI.26.F.C1_514_63                     90.67   \n",
       "70        CB.49.F.A1_179_71                     99.99   \n",
       "71        LC.09.M.C6_495_92                     99.91   \n",
       "72                 KPT27_14                     99.98   \n",
       "75                     PR66                     99.98   \n",
       "78                  MAG-157                     94.95   \n",
       "82       Maribacter sp. 151                     99.97   \n",
       "83       LC.122.F.D4_220_62                     98.05   \n",
       "95                      PR1                     99.78   \n",
       "96                      PR1                     99.78   \n",
       "98                   BPC-D8                    100.00   \n",
       "100      LC.101.F.A3_199_75                     98.45   \n",
       "116       LC.06.F.A3_204_45                     93.57   \n",
       "132                   Vin_8                     99.96   \n",
       "146                    RZ26                     99.94   \n",
       "149       CI.62.F.A4_427_31                    100.00   \n",
       "159                  Hal144                     94.68   \n",
       "\n",
       "     CheckM2 Contamination (%)  Contig Count  N50 Contigs (bp)  \\\n",
       "0                         0.07             1           3864851   \n",
       "2                         0.12            35            339358   \n",
       "18                        2.43           260             31994   \n",
       "19                        0.69           199             89855   \n",
       "20                        2.57           238             28855   \n",
       "21                        0.09             7           1478825   \n",
       "22                        0.08            15            427385   \n",
       "23                        0.07           152             54543   \n",
       "24                        0.20           636              8628   \n",
       "25                        0.07             5           1481973   \n",
       "26                        0.09             5           2200101   \n",
       "27                        0.09            61            116041   \n",
       "28                        0.10            30            270993   \n",
       "29                        0.08           108             70071   \n",
       "30                        0.08            15            440735   \n",
       "31                        0.25            72            100339   \n",
       "32                        2.77           432             12724   \n",
       "34                        0.09            20            299359   \n",
       "35                        0.08             7            701903   \n",
       "37                        0.08             5           1481973   \n",
       "38                        0.08             6           1331753   \n",
       "39                        0.18           553             10847   \n",
       "40                        0.61            66             96272   \n",
       "41                        0.09             4           1558404   \n",
       "42                        0.07            12            485563   \n",
       "43                        0.08             6           1331894   \n",
       "44                        0.08             6           1331998   \n",
       "45                        0.08            10            543866   \n",
       "46                        0.08             6           1026216   \n",
       "47                        0.08             6           1331238   \n",
       "48                        0.07            10            879094   \n",
       "49                        0.09            23            344991   \n",
       "64                        1.53            19            789017   \n",
       "65                        0.70           240             36394   \n",
       "66                        0.42           357             16254   \n",
       "67                        0.08            28            341803   \n",
       "68                        0.07             5           1468372   \n",
       "69                        1.89           348             18070   \n",
       "70                        0.07             6           2200173   \n",
       "71                        0.83            92             80056   \n",
       "72                        0.33           192            614045   \n",
       "75                        0.25            27            311016   \n",
       "78                        0.07           134             50703   \n",
       "82                        0.01             6           2692075   \n",
       "83                        1.18           239             28225   \n",
       "95                        0.37            23            441839   \n",
       "96                        0.37            23            441839   \n",
       "98                        0.10             1           4783464   \n",
       "100                       0.84           285             22809   \n",
       "116                       2.57           492             11307   \n",
       "132                       2.52           807             17663   \n",
       "146                       0.19            21           1114618   \n",
       "149                       0.04            13            878033   \n",
       "159                       3.45             1           4529002   \n",
       "\n",
       "     Genome Size (bp)  Protein Count  ...  \\\n",
       "0             3864851           3616  ...   \n",
       "2             4853010           4305  ...   \n",
       "18            4640379           4146  ...   \n",
       "19            4362585           3916  ...   \n",
       "20            4254096           3851  ...   \n",
       "21            4352599           3737  ...   \n",
       "22            4324902           3721  ...   \n",
       "23            4179101           3698  ...   \n",
       "24            4072647           4009  ...   \n",
       "25            4329922           3713  ...   \n",
       "26            4355028           3737  ...   \n",
       "27            4352058           3780  ...   \n",
       "28            4351424           3746  ...   \n",
       "29            4257867           3721  ...   \n",
       "30            4304509           3692  ...   \n",
       "31            4328563           3761  ...   \n",
       "32            4023902           3874  ...   \n",
       "34            4347986           3747  ...   \n",
       "35            4330287           3713  ...   \n",
       "37            4330201           3712  ...   \n",
       "38            4328284           3714  ...   \n",
       "39            4155582           4089  ...   \n",
       "40            4349919           3778  ...   \n",
       "41            4355165           3735  ...   \n",
       "42            4327161           3719  ...   \n",
       "43            4326977           3713  ...   \n",
       "44            4329711           3713  ...   \n",
       "45            4329715           3718  ...   \n",
       "46            4326790           3714  ...   \n",
       "47            4326831           3713  ...   \n",
       "48            4329233           3718  ...   \n",
       "49            4347067           3747  ...   \n",
       "64            4469813           3862  ...   \n",
       "65            4564052           4081  ...   \n",
       "66            3781702           3515  ...   \n",
       "67            4473361           3815  ...   \n",
       "68            4316969           3696  ...   \n",
       "69            4108208           3754  ...   \n",
       "70            4330269           3716  ...   \n",
       "71            4441614           3853  ...   \n",
       "72            4111314           3727  ...   \n",
       "75            4066610           3569  ...   \n",
       "78            3895488           3435  ...   \n",
       "82            4364915           3753  ...   \n",
       "83            4463799           4062  ...   \n",
       "95            4727315           4218  ...   \n",
       "96            4727315           4219  ...   \n",
       "98            4783464           4169  ...   \n",
       "100           4217562           3853  ...   \n",
       "116           4032549           3901  ...   \n",
       "132           4695109           4759  ...   \n",
       "146           5110706           4463  ...   \n",
       "149           4581310           4081  ...   \n",
       "159           4529002           4524  ...   \n",
       "\n",
       "                                               Country        Date  \\\n",
       "0                           South Korea: Gwangyang Bay  2023-06-08   \n",
       "2                                       Southern Ocean  2014-04-08   \n",
       "18                                                      2024-05-31   \n",
       "19                                                      2024-05-31   \n",
       "20                                                      2024-05-31   \n",
       "21                                                      2024-05-30   \n",
       "22                                                      2024-05-30   \n",
       "23                                                      2024-05-31   \n",
       "24                                                      2024-05-30   \n",
       "25                                                      2024-05-30   \n",
       "26                                                      2024-05-30   \n",
       "27                                                      2024-05-30   \n",
       "28                                                      2024-05-30   \n",
       "29                                                      2024-05-31   \n",
       "30                                                      2024-05-30   \n",
       "31                                                      2024-05-30   \n",
       "32                                                      2024-05-30   \n",
       "34                                                      2024-05-30   \n",
       "35                                                      2024-05-30   \n",
       "37                                                      2024-05-30   \n",
       "38                                                      2024-05-30   \n",
       "39                                                      2024-05-30   \n",
       "40                                                      2024-05-30   \n",
       "41                                                      2024-05-30   \n",
       "42                                                      2024-05-30   \n",
       "43                                                      2024-05-30   \n",
       "44                                                      2024-05-30   \n",
       "45                                                      2024-05-30   \n",
       "46                                                      2024-05-30   \n",
       "47                                                      2024-05-30   \n",
       "48                                                      2024-05-30   \n",
       "49                                                      2024-05-30   \n",
       "64                                                      2024-05-30   \n",
       "65                                                      2024-05-30   \n",
       "66                                                      2024-05-30   \n",
       "67                                                      2024-05-30   \n",
       "68                                                      2024-05-30   \n",
       "69                                                      2024-05-31   \n",
       "70                                                      2024-05-30   \n",
       "71                                                      2024-05-31   \n",
       "72                                                      2024-01-31   \n",
       "75                                               China  2023-02-05   \n",
       "78                  China: Rizhao City and Ningde City  2021-10-26   \n",
       "82                                                      2020-01-03   \n",
       "83                                                      2024-05-30   \n",
       "95                                                      2024-01-31   \n",
       "96                                               China  2023-02-05   \n",
       "98                                                      2024-01-03   \n",
       "100                                                     2024-05-30   \n",
       "116                                                     2024-05-30   \n",
       "132                          Peru: Oxygen minimum zone  2022-07-12   \n",
       "146                                      China: Weihai  2019-05-29   \n",
       "149                                                     2024-05-30   \n",
       "159  Germany: Schilksee; Kiel Fjord; Baltic Sea; La...  2023-01-23   \n",
       "\n",
       "    Genome Category CDS Count Seq Rel Date             Biosample Host  \\\n",
       "0           Isolate    3490.0   2023-06-08        tidal flat sediment   \n",
       "2           Isolate    4165.0   2014-04-08     Pyramimonas gelidicola   \n",
       "18              MAG    4055.0   2024-05-31       Macrocystis pyrifera   \n",
       "19              MAG    3849.0   2024-05-31       Macrocystis pyrifera   \n",
       "20              MAG    3771.0   2024-05-31       Macrocystis pyrifera   \n",
       "21              MAG    3696.0   2024-05-30       Macrocystis pyrifera   \n",
       "22              MAG    3679.0   2024-05-30       Macrocystis pyrifera   \n",
       "23              MAG    3637.0   2024-05-31       Macrocystis pyrifera   \n",
       "24              MAG    3898.0   2024-05-30       Macrocystis pyrifera   \n",
       "25              MAG    3672.0   2024-05-30       Macrocystis pyrifera   \n",
       "26              MAG    3695.0   2024-05-30       Macrocystis pyrifera   \n",
       "27              MAG    3728.0   2024-05-30       Macrocystis pyrifera   \n",
       "28              MAG    3703.0   2024-05-30       Macrocystis pyrifera   \n",
       "29              MAG    3663.0   2024-05-31       Macrocystis pyrifera   \n",
       "30              MAG    3647.0   2024-05-30       Macrocystis pyrifera   \n",
       "31              MAG    3712.0   2024-05-30       Macrocystis pyrifera   \n",
       "32              MAG    3781.0   2024-05-30       Macrocystis pyrifera   \n",
       "34              MAG    3701.0   2024-05-30       Macrocystis pyrifera   \n",
       "35              MAG    3672.0   2024-05-30       Macrocystis pyrifera   \n",
       "37              MAG    3672.0   2024-05-30       Macrocystis pyrifera   \n",
       "38              MAG    3670.0   2024-05-30       Macrocystis pyrifera   \n",
       "39              MAG    3994.0   2024-05-30       Macrocystis pyrifera   \n",
       "40              MAG    3730.0   2024-05-30       Macrocystis pyrifera   \n",
       "41              MAG    3693.0   2024-05-30       Macrocystis pyrifera   \n",
       "42              MAG    3674.0   2024-05-30       Macrocystis pyrifera   \n",
       "43              MAG    3671.0   2024-05-30       Macrocystis pyrifera   \n",
       "44              MAG    3673.0   2024-05-30       Macrocystis pyrifera   \n",
       "45              MAG    3674.0   2024-05-30       Macrocystis pyrifera   \n",
       "46              MAG    3671.0   2024-05-30       Macrocystis pyrifera   \n",
       "47              MAG    3672.0   2024-05-30       Macrocystis pyrifera   \n",
       "48              MAG    3677.0   2024-05-30       Macrocystis pyrifera   \n",
       "49              MAG    3703.0   2024-05-30       Macrocystis pyrifera   \n",
       "64              MAG    3813.0   2024-05-30       Macrocystis pyrifera   \n",
       "65              MAG    4000.0   2024-05-30       Macrocystis pyrifera   \n",
       "66              MAG    3441.0   2024-05-30       Macrocystis pyrifera   \n",
       "67              MAG    3764.0   2024-05-30       Macrocystis pyrifera   \n",
       "68              MAG    3656.0   2024-05-30       Macrocystis pyrifera   \n",
       "69              MAG    3669.0   2024-05-31       Macrocystis pyrifera   \n",
       "70              MAG    3673.0   2024-05-30       Macrocystis pyrifera   \n",
       "71              MAG    3791.0   2024-05-31       Macrocystis pyrifera   \n",
       "72          Isolate    3622.0   2024-01-31       Thalassiosira minima   \n",
       "75          Isolate    3495.0   2023-02-05  Protoceratium reticulatum   \n",
       "78              MAG    3416.0   2021-10-26        Pyropia haitanensis   \n",
       "82          Isolate    3710.0   2020-01-03       Ectocarpus subulatus   \n",
       "83              MAG    3996.0   2024-05-30       Macrocystis pyrifera   \n",
       "95          Isolate    4152.0   2024-01-31  Protoceratium reticulatum   \n",
       "96          Isolate    4152.0   2023-02-05  Protoceratium reticulatum   \n",
       "98          Isolate    4114.0   2024-01-03                       Ulva   \n",
       "100             MAG    3791.0   2024-05-30       Macrocystis pyrifera   \n",
       "116             MAG    3810.0   2024-05-30       Macrocystis pyrifera   \n",
       "132             MAG    4398.0   2022-07-12       Valvulineria inflata   \n",
       "146         Isolate    4379.0   2019-05-29                  red algae   \n",
       "149             MAG    4018.0   2024-05-30       Macrocystis pyrifera   \n",
       "159         Isolate    4279.0   2023-01-23       Halichondria panicea   \n",
       "\n",
       "                         Biosample Geographic Location  \\\n",
       "0                           South Korea: Gwangyang Bay   \n",
       "2                                       Southern Ocean   \n",
       "18                         USA:California, Leo Carillo   \n",
       "19                      USA:California, Arroyo Quemado   \n",
       "20                      USA:California, Camp Pendleton   \n",
       "21                         USA:California, Leo Carillo   \n",
       "22                         USA:California, Leo Carillo   \n",
       "23                      USA:California, Arroyo Quemado   \n",
       "24                      USA:California, Camp Pendleton   \n",
       "25                         USA:California, Leo Carillo   \n",
       "26                      USA:California, Camp Pendleton   \n",
       "27                         USA:California, Leo Carillo   \n",
       "28                         USA:California, Leo Carillo   \n",
       "29                     USA:California, Channel Islands   \n",
       "30                         USA:California, Leo Carillo   \n",
       "31                         USA:California, Leo Carillo   \n",
       "32                      USA:California, Arroyo Quemado   \n",
       "34                      USA:California, Camp Pendleton   \n",
       "35                      USA:California, Camp Pendleton   \n",
       "37                      USA:California, Camp Pendleton   \n",
       "38                      USA:California, Camp Pendleton   \n",
       "39                      USA:California, Camp Pendleton   \n",
       "40                      USA:California, Camp Pendleton   \n",
       "41                      USA:California, Camp Pendleton   \n",
       "42                      USA:California, Camp Pendleton   \n",
       "43                      USA:California, Camp Pendleton   \n",
       "44                      USA:California, Camp Pendleton   \n",
       "45                      USA:California, Camp Pendleton   \n",
       "46                      USA:California, Camp Pendleton   \n",
       "47                      USA:California, Camp Pendleton   \n",
       "48                      USA:California, Arroyo Quemado   \n",
       "49                         USA:California, Leo Carillo   \n",
       "64                     USA:California, Channel Islands   \n",
       "65                      USA:California, Arroyo Quemado   \n",
       "66                      USA:California, Camp Pendleton   \n",
       "67                         USA:California, Leo Carillo   \n",
       "68                         USA:California, Leo Carillo   \n",
       "69                     USA:California, Channel Islands   \n",
       "70                      USA:California, Camp Pendleton   \n",
       "71                         USA:California, Leo Carillo   \n",
       "72                      China: Fujian province, Putian   \n",
       "75                                               China   \n",
       "78                  China: Rizhao City and Ningde City   \n",
       "82                                                       \n",
       "83                         USA:California, Leo Carillo   \n",
       "95                              New Zealand:Oyster Bay   \n",
       "96                                               China   \n",
       "98         Antarctica: King George Island, Potter Cove   \n",
       "100                        USA:California, Leo Carillo   \n",
       "116                        USA:California, Leo Carillo   \n",
       "132                          Peru: Oxygen minimum zone   \n",
       "146                                       China:Weihai   \n",
       "149                    USA:California, Channel Islands   \n",
       "159  Germany: Schilksee, Kiel Fjord, Baltic Sea; La...   \n",
       "\n",
       "    Biosample Latitude and Longitude  \\\n",
       "0                                      \n",
       "2                                      \n",
       "18                     not collected   \n",
       "19                     not collected   \n",
       "20                     not collected   \n",
       "21                     not collected   \n",
       "22                     not collected   \n",
       "23                     not collected   \n",
       "24                     not collected   \n",
       "25                     not collected   \n",
       "26                     not collected   \n",
       "27                     not collected   \n",
       "28                     not collected   \n",
       "29                     not collected   \n",
       "30                     not collected   \n",
       "31                     not collected   \n",
       "32                     not collected   \n",
       "34                     not collected   \n",
       "35                     not collected   \n",
       "37                     not collected   \n",
       "38                     not collected   \n",
       "39                     not collected   \n",
       "40                     not collected   \n",
       "41                     not collected   \n",
       "42                     not collected   \n",
       "43                     not collected   \n",
       "44                     not collected   \n",
       "45                     not collected   \n",
       "46                     not collected   \n",
       "47                     not collected   \n",
       "48                     not collected   \n",
       "49                     not collected   \n",
       "64                     not collected   \n",
       "65                     not collected   \n",
       "66                     not collected   \n",
       "67                     not collected   \n",
       "68                     not collected   \n",
       "69                     not collected   \n",
       "70                     not collected   \n",
       "71                     not collected   \n",
       "72                                     \n",
       "75                                     \n",
       "78                           missing   \n",
       "82                                     \n",
       "83                     not collected   \n",
       "95                                     \n",
       "96                                     \n",
       "98                                     \n",
       "100                    not collected   \n",
       "116                    not collected   \n",
       "132                                    \n",
       "146                                    \n",
       "149                    not collected   \n",
       "159                                    \n",
       "\n",
       "                                 Biosample Description  \\\n",
       "0    Reference: Lo N, Jin HM, Jeon CO. Maribacter a...   \n",
       "2                                                        \n",
       "18                        Keywords: GSC:MIxS;MIMAG:6.0   \n",
       "19                        Keywords: GSC:MIxS;MIMAG:6.0   \n",
       "20                        Keywords: GSC:MIxS;MIMAG:6.0   \n",
       "21                        Keywords: GSC:MIxS;MIMAG:6.0   \n",
       "22                        Keywords: GSC:MIxS;MIMAG:6.0   \n",
       "23                        Keywords: GSC:MIxS;MIMAG:6.0   \n",
       "24                        Keywords: GSC:MIxS;MIMAG:6.0   \n",
       "25                        Keywords: GSC:MIxS;MIMAG:6.0   \n",
       "26                        Keywords: GSC:MIxS;MIMAG:6.0   \n",
       "27                        Keywords: GSC:MIxS;MIMAG:6.0   \n",
       "28                        Keywords: GSC:MIxS;MIMAG:6.0   \n",
       "29                        Keywords: GSC:MIxS;MIMAG:6.0   \n",
       "30                        Keywords: GSC:MIxS;MIMAG:6.0   \n",
       "31                        Keywords: GSC:MIxS;MIMAG:6.0   \n",
       "32                        Keywords: GSC:MIxS;MIMAG:6.0   \n",
       "34                        Keywords: GSC:MIxS;MIMAG:6.0   \n",
       "35                        Keywords: GSC:MIxS;MIMAG:6.0   \n",
       "37                        Keywords: GSC:MIxS;MIMAG:6.0   \n",
       "38                        Keywords: GSC:MIxS;MIMAG:6.0   \n",
       "39                        Keywords: GSC:MIxS;MIMAG:6.0   \n",
       "40                        Keywords: GSC:MIxS;MIMAG:6.0   \n",
       "41                        Keywords: GSC:MIxS;MIMAG:6.0   \n",
       "42                        Keywords: GSC:MIxS;MIMAG:6.0   \n",
       "43                        Keywords: GSC:MIxS;MIMAG:6.0   \n",
       "44                        Keywords: GSC:MIxS;MIMAG:6.0   \n",
       "45                        Keywords: GSC:MIxS;MIMAG:6.0   \n",
       "46                        Keywords: GSC:MIxS;MIMAG:6.0   \n",
       "47                        Keywords: GSC:MIxS;MIMAG:6.0   \n",
       "48                        Keywords: GSC:MIxS;MIMAG:6.0   \n",
       "49                        Keywords: GSC:MIxS;MIMAG:6.0   \n",
       "64                        Keywords: GSC:MIxS;MIMAG:6.0   \n",
       "65                        Keywords: GSC:MIxS;MIMAG:6.0   \n",
       "66                        Keywords: GSC:MIxS;MIMAG:6.0   \n",
       "67                        Keywords: GSC:MIxS;MIMAG:6.0   \n",
       "68                        Keywords: GSC:MIxS;MIMAG:6.0   \n",
       "69                        Keywords: GSC:MIxS;MIMAG:6.0   \n",
       "70                        Keywords: GSC:MIxS;MIMAG:6.0   \n",
       "71                        Keywords: GSC:MIxS;MIMAG:6.0   \n",
       "72                                                       \n",
       "75                                                       \n",
       "78                        Keywords: GSC:MIxS;MIMAG:6.0   \n",
       "82                                                       \n",
       "83                        Keywords: GSC:MIxS;MIMAG:6.0   \n",
       "95                                                       \n",
       "96                                                       \n",
       "98                                                       \n",
       "100                       Keywords: GSC:MIxS;MIMAG:6.0   \n",
       "116                       Keywords: GSC:MIxS;MIMAG:6.0   \n",
       "132                                                      \n",
       "146                                                      \n",
       "149                       Keywords: GSC:MIxS;MIMAG:6.0   \n",
       "159                                                      \n",
       "\n",
       "          LPSN species validation  \n",
       "0      Yes - Maribacter aestuarii  \n",
       "2    Yes - Maribacter antarcticus  \n",
       "18   Yes - Maribacter dokdonensis  \n",
       "19   Yes - Maribacter dokdonensis  \n",
       "20   Yes - Maribacter dokdonensis  \n",
       "21   Yes - Maribacter dokdonensis  \n",
       "22   Yes - Maribacter dokdonensis  \n",
       "23   Yes - Maribacter dokdonensis  \n",
       "24   Yes - Maribacter dokdonensis  \n",
       "25   Yes - Maribacter dokdonensis  \n",
       "26   Yes - Maribacter dokdonensis  \n",
       "27   Yes - Maribacter dokdonensis  \n",
       "28   Yes - Maribacter dokdonensis  \n",
       "29   Yes - Maribacter dokdonensis  \n",
       "30   Yes - Maribacter dokdonensis  \n",
       "31   Yes - Maribacter dokdonensis  \n",
       "32   Yes - Maribacter dokdonensis  \n",
       "34   Yes - Maribacter dokdonensis  \n",
       "35   Yes - Maribacter dokdonensis  \n",
       "37   Yes - Maribacter dokdonensis  \n",
       "38   Yes - Maribacter dokdonensis  \n",
       "39   Yes - Maribacter dokdonensis  \n",
       "40   Yes - Maribacter dokdonensis  \n",
       "41   Yes - Maribacter dokdonensis  \n",
       "42   Yes - Maribacter dokdonensis  \n",
       "43   Yes - Maribacter dokdonensis  \n",
       "44   Yes - Maribacter dokdonensis  \n",
       "45   Yes - Maribacter dokdonensis  \n",
       "46   Yes - Maribacter dokdonensis  \n",
       "47   Yes - Maribacter dokdonensis  \n",
       "48   Yes - Maribacter dokdonensis  \n",
       "49   Yes - Maribacter dokdonensis  \n",
       "64   Yes - Maribacter dokdonensis  \n",
       "65   Yes - Maribacter dokdonensis  \n",
       "66   Yes - Maribacter dokdonensis  \n",
       "67   Yes - Maribacter dokdonensis  \n",
       "68   Yes - Maribacter dokdonensis  \n",
       "69   Yes - Maribacter dokdonensis  \n",
       "70   Yes - Maribacter dokdonensis  \n",
       "71   Yes - Maribacter dokdonensis  \n",
       "72        Yes - Maribacter flavus  \n",
       "75        Yes - Maribacter flavus  \n",
       "78                             No  \n",
       "82     Yes - Maribacter litoralis  \n",
       "83     Yes - Maribacter litoralis  \n",
       "95                             No  \n",
       "96                             No  \n",
       "98                             No  \n",
       "100                            No  \n",
       "116                            No  \n",
       "132                            No  \n",
       "146                            No  \n",
       "149                            No  \n",
       "159                            No  \n",
       "\n",
       "[54 rows x 23 columns]"
      ]
     },
     "metadata": {},
     "output_type": "display_data"
    }
   ],
   "source": [
    "df_host = df[df['Biosample Host'].apply(lambda x: x not in ['','missing','not applicable'])]\n",
    "display(df_host)"
   ]
  },
  {
   "cell_type": "code",
   "execution_count": 16,
   "id": "1cc90f4a",
   "metadata": {},
   "outputs": [
    {
     "name": "stderr",
     "output_type": "stream",
     "text": [
      "C:\\Users\\Matheus\\AppData\\Local\\Temp\\ipykernel_7116\\2092470609.py:16: SettingWithCopyWarning:\n",
      "\n",
      "\n",
      "A value is trying to be set on a copy of a slice from a DataFrame.\n",
      "Try using .loc[row_indexer,col_indexer] = value instead\n",
      "\n",
      "See the caveats in the documentation: https://pandas.pydata.org/pandas-docs/stable/user_guide/indexing.html#returning-a-view-versus-a-copy\n",
      "\n"
     ]
    }
   ],
   "source": [
    "# Dicionário para categorizar tipos de hospedeiro\n",
    "host_type = {\n",
    "    'Ectocarpus subulatus': 'Alga marrom',\n",
    "    'Halichondria panicea': 'Espongiário',\n",
    "    'Macrocystis pyrifera': 'Alga marrom',\n",
    "    'Protoceratium reticulatum': 'Dinoflagelado',\n",
    "    'Pyramimonas gelidicola': 'Alga verde',\n",
    "    'Pyropia haitanensis': 'Alga vermelha',\n",
    "    'Thalassiosira minima': 'Diatomácea',\n",
    "    'Ulva': 'Alga verde',\n",
    "    'Valvulineria inflata': 'Animal marinho',\n",
    "    'red algae': 'Alga vermelha',\n",
    "    'tidal flat sediment': 'Ambiente/sedimento'\n",
    "}\n",
    "\n",
    "df_host['Host Type'] = df_host['Biosample Host'].map(host_type)"
   ]
  },
  {
   "cell_type": "code",
   "execution_count": 21,
   "id": "c3f4b57c",
   "metadata": {},
   "outputs": [
    {
     "data": {
      "application/vnd.plotly.v1+json": {
       "config": {
        "plotlyServerURL": "https://plot.ly"
       },
       "data": [
        {
         "customdata": [
          [
           "Alga marrom"
          ],
          [
           "Dinoflagelado"
          ],
          [
           "Alga vermelha"
          ],
          [
           "Alga verde"
          ],
          [
           "Diatomácea"
          ],
          [
           "Ambiente/sedimento"
          ],
          [
           "Animal marinho"
          ],
          [
           "Espongiário"
          ]
         ],
         "domain": {
          "x": [
           0,
           1
          ],
          "y": [
           0,
           1
          ]
         },
         "hole": 0,
         "hovertemplate": "Host Type=%{customdata[0]}<br>Quantidade=%{value}<extra></extra>",
         "labels": [
          "Alga marrom",
          "Dinoflagelado",
          "Alga vermelha",
          "Alga verde",
          "Diatomácea",
          "Ambiente/sedimento",
          "Animal marinho",
          "Espongiário"
         ],
         "legendgroup": "",
         "marker": {
          "colors": [
           "#636efa",
           "#EF553B",
           "#00cc96",
           "#ab63fa",
           "#FFA15A",
           "#19d3f3",
           "#FF6692",
           "#B6E880"
          ]
         },
         "name": "",
         "showlegend": true,
         "type": "pie",
         "values": {
          "bdata": "KwMCAgEBAQE=",
          "dtype": "i1"
         }
        }
       ],
       "layout": {
        "legend": {
         "tracegroupgap": 0
        },
        "margin": {
         "t": 60
        },
        "template": {
         "data": {
          "bar": [
           {
            "error_x": {
             "color": "#2a3f5f"
            },
            "error_y": {
             "color": "#2a3f5f"
            },
            "marker": {
             "line": {
              "color": "#E5ECF6",
              "width": 0.5
             },
             "pattern": {
              "fillmode": "overlay",
              "size": 10,
              "solidity": 0.2
             }
            },
            "type": "bar"
           }
          ],
          "barpolar": [
           {
            "marker": {
             "line": {
              "color": "#E5ECF6",
              "width": 0.5
             },
             "pattern": {
              "fillmode": "overlay",
              "size": 10,
              "solidity": 0.2
             }
            },
            "type": "barpolar"
           }
          ],
          "carpet": [
           {
            "aaxis": {
             "endlinecolor": "#2a3f5f",
             "gridcolor": "white",
             "linecolor": "white",
             "minorgridcolor": "white",
             "startlinecolor": "#2a3f5f"
            },
            "baxis": {
             "endlinecolor": "#2a3f5f",
             "gridcolor": "white",
             "linecolor": "white",
             "minorgridcolor": "white",
             "startlinecolor": "#2a3f5f"
            },
            "type": "carpet"
           }
          ],
          "choropleth": [
           {
            "colorbar": {
             "outlinewidth": 0,
             "ticks": ""
            },
            "type": "choropleth"
           }
          ],
          "contour": [
           {
            "colorbar": {
             "outlinewidth": 0,
             "ticks": ""
            },
            "colorscale": [
             [
              0,
              "#0d0887"
             ],
             [
              0.1111111111111111,
              "#46039f"
             ],
             [
              0.2222222222222222,
              "#7201a8"
             ],
             [
              0.3333333333333333,
              "#9c179e"
             ],
             [
              0.4444444444444444,
              "#bd3786"
             ],
             [
              0.5555555555555556,
              "#d8576b"
             ],
             [
              0.6666666666666666,
              "#ed7953"
             ],
             [
              0.7777777777777778,
              "#fb9f3a"
             ],
             [
              0.8888888888888888,
              "#fdca26"
             ],
             [
              1,
              "#f0f921"
             ]
            ],
            "type": "contour"
           }
          ],
          "contourcarpet": [
           {
            "colorbar": {
             "outlinewidth": 0,
             "ticks": ""
            },
            "type": "contourcarpet"
           }
          ],
          "heatmap": [
           {
            "colorbar": {
             "outlinewidth": 0,
             "ticks": ""
            },
            "colorscale": [
             [
              0,
              "#0d0887"
             ],
             [
              0.1111111111111111,
              "#46039f"
             ],
             [
              0.2222222222222222,
              "#7201a8"
             ],
             [
              0.3333333333333333,
              "#9c179e"
             ],
             [
              0.4444444444444444,
              "#bd3786"
             ],
             [
              0.5555555555555556,
              "#d8576b"
             ],
             [
              0.6666666666666666,
              "#ed7953"
             ],
             [
              0.7777777777777778,
              "#fb9f3a"
             ],
             [
              0.8888888888888888,
              "#fdca26"
             ],
             [
              1,
              "#f0f921"
             ]
            ],
            "type": "heatmap"
           }
          ],
          "histogram": [
           {
            "marker": {
             "pattern": {
              "fillmode": "overlay",
              "size": 10,
              "solidity": 0.2
             }
            },
            "type": "histogram"
           }
          ],
          "histogram2d": [
           {
            "colorbar": {
             "outlinewidth": 0,
             "ticks": ""
            },
            "colorscale": [
             [
              0,
              "#0d0887"
             ],
             [
              0.1111111111111111,
              "#46039f"
             ],
             [
              0.2222222222222222,
              "#7201a8"
             ],
             [
              0.3333333333333333,
              "#9c179e"
             ],
             [
              0.4444444444444444,
              "#bd3786"
             ],
             [
              0.5555555555555556,
              "#d8576b"
             ],
             [
              0.6666666666666666,
              "#ed7953"
             ],
             [
              0.7777777777777778,
              "#fb9f3a"
             ],
             [
              0.8888888888888888,
              "#fdca26"
             ],
             [
              1,
              "#f0f921"
             ]
            ],
            "type": "histogram2d"
           }
          ],
          "histogram2dcontour": [
           {
            "colorbar": {
             "outlinewidth": 0,
             "ticks": ""
            },
            "colorscale": [
             [
              0,
              "#0d0887"
             ],
             [
              0.1111111111111111,
              "#46039f"
             ],
             [
              0.2222222222222222,
              "#7201a8"
             ],
             [
              0.3333333333333333,
              "#9c179e"
             ],
             [
              0.4444444444444444,
              "#bd3786"
             ],
             [
              0.5555555555555556,
              "#d8576b"
             ],
             [
              0.6666666666666666,
              "#ed7953"
             ],
             [
              0.7777777777777778,
              "#fb9f3a"
             ],
             [
              0.8888888888888888,
              "#fdca26"
             ],
             [
              1,
              "#f0f921"
             ]
            ],
            "type": "histogram2dcontour"
           }
          ],
          "mesh3d": [
           {
            "colorbar": {
             "outlinewidth": 0,
             "ticks": ""
            },
            "type": "mesh3d"
           }
          ],
          "parcoords": [
           {
            "line": {
             "colorbar": {
              "outlinewidth": 0,
              "ticks": ""
             }
            },
            "type": "parcoords"
           }
          ],
          "pie": [
           {
            "automargin": true,
            "type": "pie"
           }
          ],
          "scatter": [
           {
            "fillpattern": {
             "fillmode": "overlay",
             "size": 10,
             "solidity": 0.2
            },
            "type": "scatter"
           }
          ],
          "scatter3d": [
           {
            "line": {
             "colorbar": {
              "outlinewidth": 0,
              "ticks": ""
             }
            },
            "marker": {
             "colorbar": {
              "outlinewidth": 0,
              "ticks": ""
             }
            },
            "type": "scatter3d"
           }
          ],
          "scattercarpet": [
           {
            "marker": {
             "colorbar": {
              "outlinewidth": 0,
              "ticks": ""
             }
            },
            "type": "scattercarpet"
           }
          ],
          "scattergeo": [
           {
            "marker": {
             "colorbar": {
              "outlinewidth": 0,
              "ticks": ""
             }
            },
            "type": "scattergeo"
           }
          ],
          "scattergl": [
           {
            "marker": {
             "colorbar": {
              "outlinewidth": 0,
              "ticks": ""
             }
            },
            "type": "scattergl"
           }
          ],
          "scattermap": [
           {
            "marker": {
             "colorbar": {
              "outlinewidth": 0,
              "ticks": ""
             }
            },
            "type": "scattermap"
           }
          ],
          "scattermapbox": [
           {
            "marker": {
             "colorbar": {
              "outlinewidth": 0,
              "ticks": ""
             }
            },
            "type": "scattermapbox"
           }
          ],
          "scatterpolar": [
           {
            "marker": {
             "colorbar": {
              "outlinewidth": 0,
              "ticks": ""
             }
            },
            "type": "scatterpolar"
           }
          ],
          "scatterpolargl": [
           {
            "marker": {
             "colorbar": {
              "outlinewidth": 0,
              "ticks": ""
             }
            },
            "type": "scatterpolargl"
           }
          ],
          "scatterternary": [
           {
            "marker": {
             "colorbar": {
              "outlinewidth": 0,
              "ticks": ""
             }
            },
            "type": "scatterternary"
           }
          ],
          "surface": [
           {
            "colorbar": {
             "outlinewidth": 0,
             "ticks": ""
            },
            "colorscale": [
             [
              0,
              "#0d0887"
             ],
             [
              0.1111111111111111,
              "#46039f"
             ],
             [
              0.2222222222222222,
              "#7201a8"
             ],
             [
              0.3333333333333333,
              "#9c179e"
             ],
             [
              0.4444444444444444,
              "#bd3786"
             ],
             [
              0.5555555555555556,
              "#d8576b"
             ],
             [
              0.6666666666666666,
              "#ed7953"
             ],
             [
              0.7777777777777778,
              "#fb9f3a"
             ],
             [
              0.8888888888888888,
              "#fdca26"
             ],
             [
              1,
              "#f0f921"
             ]
            ],
            "type": "surface"
           }
          ],
          "table": [
           {
            "cells": {
             "fill": {
              "color": "#EBF0F8"
             },
             "line": {
              "color": "white"
             }
            },
            "header": {
             "fill": {
              "color": "#C8D4E3"
             },
             "line": {
              "color": "white"
             }
            },
            "type": "table"
           }
          ]
         },
         "layout": {
          "annotationdefaults": {
           "arrowcolor": "#2a3f5f",
           "arrowhead": 0,
           "arrowwidth": 1
          },
          "autotypenumbers": "strict",
          "coloraxis": {
           "colorbar": {
            "outlinewidth": 0,
            "ticks": ""
           }
          },
          "colorscale": {
           "diverging": [
            [
             0,
             "#8e0152"
            ],
            [
             0.1,
             "#c51b7d"
            ],
            [
             0.2,
             "#de77ae"
            ],
            [
             0.3,
             "#f1b6da"
            ],
            [
             0.4,
             "#fde0ef"
            ],
            [
             0.5,
             "#f7f7f7"
            ],
            [
             0.6,
             "#e6f5d0"
            ],
            [
             0.7,
             "#b8e186"
            ],
            [
             0.8,
             "#7fbc41"
            ],
            [
             0.9,
             "#4d9221"
            ],
            [
             1,
             "#276419"
            ]
           ],
           "sequential": [
            [
             0,
             "#0d0887"
            ],
            [
             0.1111111111111111,
             "#46039f"
            ],
            [
             0.2222222222222222,
             "#7201a8"
            ],
            [
             0.3333333333333333,
             "#9c179e"
            ],
            [
             0.4444444444444444,
             "#bd3786"
            ],
            [
             0.5555555555555556,
             "#d8576b"
            ],
            [
             0.6666666666666666,
             "#ed7953"
            ],
            [
             0.7777777777777778,
             "#fb9f3a"
            ],
            [
             0.8888888888888888,
             "#fdca26"
            ],
            [
             1,
             "#f0f921"
            ]
           ],
           "sequentialminus": [
            [
             0,
             "#0d0887"
            ],
            [
             0.1111111111111111,
             "#46039f"
            ],
            [
             0.2222222222222222,
             "#7201a8"
            ],
            [
             0.3333333333333333,
             "#9c179e"
            ],
            [
             0.4444444444444444,
             "#bd3786"
            ],
            [
             0.5555555555555556,
             "#d8576b"
            ],
            [
             0.6666666666666666,
             "#ed7953"
            ],
            [
             0.7777777777777778,
             "#fb9f3a"
            ],
            [
             0.8888888888888888,
             "#fdca26"
            ],
            [
             1,
             "#f0f921"
            ]
           ]
          },
          "colorway": [
           "#636efa",
           "#EF553B",
           "#00cc96",
           "#ab63fa",
           "#FFA15A",
           "#19d3f3",
           "#FF6692",
           "#B6E880",
           "#FF97FF",
           "#FECB52"
          ],
          "font": {
           "color": "#2a3f5f"
          },
          "geo": {
           "bgcolor": "white",
           "lakecolor": "white",
           "landcolor": "#E5ECF6",
           "showlakes": true,
           "showland": true,
           "subunitcolor": "white"
          },
          "hoverlabel": {
           "align": "left"
          },
          "hovermode": "closest",
          "mapbox": {
           "style": "light"
          },
          "paper_bgcolor": "white",
          "plot_bgcolor": "#E5ECF6",
          "polar": {
           "angularaxis": {
            "gridcolor": "white",
            "linecolor": "white",
            "ticks": ""
           },
           "bgcolor": "#E5ECF6",
           "radialaxis": {
            "gridcolor": "white",
            "linecolor": "white",
            "ticks": ""
           }
          },
          "scene": {
           "xaxis": {
            "backgroundcolor": "#E5ECF6",
            "gridcolor": "white",
            "gridwidth": 2,
            "linecolor": "white",
            "showbackground": true,
            "ticks": "",
            "zerolinecolor": "white"
           },
           "yaxis": {
            "backgroundcolor": "#E5ECF6",
            "gridcolor": "white",
            "gridwidth": 2,
            "linecolor": "white",
            "showbackground": true,
            "ticks": "",
            "zerolinecolor": "white"
           },
           "zaxis": {
            "backgroundcolor": "#E5ECF6",
            "gridcolor": "white",
            "gridwidth": 2,
            "linecolor": "white",
            "showbackground": true,
            "ticks": "",
            "zerolinecolor": "white"
           }
          },
          "shapedefaults": {
           "line": {
            "color": "#2a3f5f"
           }
          },
          "ternary": {
           "aaxis": {
            "gridcolor": "white",
            "linecolor": "white",
            "ticks": ""
           },
           "baxis": {
            "gridcolor": "white",
            "linecolor": "white",
            "ticks": ""
           },
           "bgcolor": "#E5ECF6",
           "caxis": {
            "gridcolor": "white",
            "linecolor": "white",
            "ticks": ""
           }
          },
          "title": {
           "x": 0.05
          },
          "xaxis": {
           "automargin": true,
           "gridcolor": "white",
           "linecolor": "white",
           "ticks": "",
           "title": {
            "standoff": 15
           },
           "zerolinecolor": "white",
           "zerolinewidth": 2
          },
          "yaxis": {
           "automargin": true,
           "gridcolor": "white",
           "linecolor": "white",
           "ticks": "",
           "title": {
            "standoff": 15
           },
           "zerolinecolor": "white",
           "zerolinewidth": 2
          }
         }
        }
       }
      }
     },
     "metadata": {},
     "output_type": "display_data"
    }
   ],
   "source": [
    "# Contar quantas amostras existem por tipo de hospedeiro\n",
    "host_counts = df_host['Host Type'].value_counts().reset_index()\n",
    "host_counts.columns = ['Host Type', 'Quantidade']\n",
    "\n",
    "# Gráfico de pizza\n",
    "fig = px.pie(\n",
    "    host_counts,\n",
    "    names='Host Type',\n",
    "    values='Quantidade',\n",
    "    color='Host Type',  # opcional, adiciona cores diferentes para cada tipo\n",
    "    # title='Distribuição de amostras por tipo de hospedeiro',\n",
    "    hole=0.0  # se quiser donut, coloque valor > 0, ex: 0.3\n",
    ")\n",
    "\n",
    "fig.show()\n",
    "\n",
    "# Salvar gráfico como imagem (PNG)\n",
    "fig.write_image(f\"{PATH_GRAPHS}//specific_host_type.png\", scale=2, width=800, height=600)"
   ]
  },
  {
   "cell_type": "markdown",
   "id": "4bd23723",
   "metadata": {},
   "source": [
    "#### Divisão por tipos genéricos"
   ]
  },
  {
   "cell_type": "code",
   "execution_count": 18,
   "id": "fa923567",
   "metadata": {},
   "outputs": [
    {
     "name": "stderr",
     "output_type": "stream",
     "text": [
      "C:\\Users\\Matheus\\AppData\\Local\\Temp\\ipykernel_7116\\3559410630.py:16: SettingWithCopyWarning:\n",
      "\n",
      "\n",
      "A value is trying to be set on a copy of a slice from a DataFrame.\n",
      "Try using .loc[row_indexer,col_indexer] = value instead\n",
      "\n",
      "See the caveats in the documentation: https://pandas.pydata.org/pandas-docs/stable/user_guide/indexing.html#returning-a-view-versus-a-copy\n",
      "\n"
     ]
    }
   ],
   "source": [
    "# Dicionário para categorizar tipos de hospedeiro (generalização)\n",
    "host_type_generic = {\n",
    "    'Ectocarpus subulatus': 'Alga',\n",
    "    'Halichondria panicea': 'Animal',\n",
    "    'Macrocystis pyrifera': 'Alga',\n",
    "    'Protoceratium reticulatum': 'Dinoflagelado',\n",
    "    'Pyramimonas gelidicola': 'Alga',\n",
    "    'Pyropia haitanensis': 'Alga',\n",
    "    'Thalassiosira minima': 'Diatomácea',\n",
    "    'Ulva': 'Alga',\n",
    "    'Valvulineria inflata': 'Animal',\n",
    "    'red algae': 'Alga',\n",
    "    'tidal flat sediment': 'Ambiente/sedimento'\n",
    "}\n",
    "\n",
    "df_host['Host Type Generic'] = df_host['Biosample Host'].map(host_type_generic)"
   ]
  },
  {
   "cell_type": "code",
   "execution_count": 23,
   "id": "c234f727",
   "metadata": {},
   "outputs": [
    {
     "data": {
      "application/vnd.plotly.v1+json": {
       "config": {
        "plotlyServerURL": "https://plot.ly"
       },
       "data": [
        {
         "customdata": [
          [
           "Alga"
          ],
          [
           "Dinoflagelado"
          ],
          [
           "Animal"
          ],
          [
           "Ambiente/sedimento"
          ],
          [
           "Diatomácea"
          ]
         ],
         "domain": {
          "x": [
           0,
           1
          ],
          "y": [
           0,
           1
          ]
         },
         "hole": 0,
         "hovertemplate": "Host Type Generic=%{customdata[0]}<br>Quantidade=%{value}<extra></extra>",
         "labels": [
          "Alga",
          "Dinoflagelado",
          "Animal",
          "Ambiente/sedimento",
          "Diatomácea"
         ],
         "legendgroup": "",
         "marker": {
          "colors": [
           "#636efa",
           "#EF553B",
           "#00cc96",
           "#ab63fa",
           "#FFA15A"
          ]
         },
         "name": "",
         "showlegend": true,
         "type": "pie",
         "values": {
          "bdata": "LwMCAQE=",
          "dtype": "i1"
         }
        }
       ],
       "layout": {
        "legend": {
         "tracegroupgap": 0
        },
        "margin": {
         "t": 60
        },
        "template": {
         "data": {
          "bar": [
           {
            "error_x": {
             "color": "#2a3f5f"
            },
            "error_y": {
             "color": "#2a3f5f"
            },
            "marker": {
             "line": {
              "color": "#E5ECF6",
              "width": 0.5
             },
             "pattern": {
              "fillmode": "overlay",
              "size": 10,
              "solidity": 0.2
             }
            },
            "type": "bar"
           }
          ],
          "barpolar": [
           {
            "marker": {
             "line": {
              "color": "#E5ECF6",
              "width": 0.5
             },
             "pattern": {
              "fillmode": "overlay",
              "size": 10,
              "solidity": 0.2
             }
            },
            "type": "barpolar"
           }
          ],
          "carpet": [
           {
            "aaxis": {
             "endlinecolor": "#2a3f5f",
             "gridcolor": "white",
             "linecolor": "white",
             "minorgridcolor": "white",
             "startlinecolor": "#2a3f5f"
            },
            "baxis": {
             "endlinecolor": "#2a3f5f",
             "gridcolor": "white",
             "linecolor": "white",
             "minorgridcolor": "white",
             "startlinecolor": "#2a3f5f"
            },
            "type": "carpet"
           }
          ],
          "choropleth": [
           {
            "colorbar": {
             "outlinewidth": 0,
             "ticks": ""
            },
            "type": "choropleth"
           }
          ],
          "contour": [
           {
            "colorbar": {
             "outlinewidth": 0,
             "ticks": ""
            },
            "colorscale": [
             [
              0,
              "#0d0887"
             ],
             [
              0.1111111111111111,
              "#46039f"
             ],
             [
              0.2222222222222222,
              "#7201a8"
             ],
             [
              0.3333333333333333,
              "#9c179e"
             ],
             [
              0.4444444444444444,
              "#bd3786"
             ],
             [
              0.5555555555555556,
              "#d8576b"
             ],
             [
              0.6666666666666666,
              "#ed7953"
             ],
             [
              0.7777777777777778,
              "#fb9f3a"
             ],
             [
              0.8888888888888888,
              "#fdca26"
             ],
             [
              1,
              "#f0f921"
             ]
            ],
            "type": "contour"
           }
          ],
          "contourcarpet": [
           {
            "colorbar": {
             "outlinewidth": 0,
             "ticks": ""
            },
            "type": "contourcarpet"
           }
          ],
          "heatmap": [
           {
            "colorbar": {
             "outlinewidth": 0,
             "ticks": ""
            },
            "colorscale": [
             [
              0,
              "#0d0887"
             ],
             [
              0.1111111111111111,
              "#46039f"
             ],
             [
              0.2222222222222222,
              "#7201a8"
             ],
             [
              0.3333333333333333,
              "#9c179e"
             ],
             [
              0.4444444444444444,
              "#bd3786"
             ],
             [
              0.5555555555555556,
              "#d8576b"
             ],
             [
              0.6666666666666666,
              "#ed7953"
             ],
             [
              0.7777777777777778,
              "#fb9f3a"
             ],
             [
              0.8888888888888888,
              "#fdca26"
             ],
             [
              1,
              "#f0f921"
             ]
            ],
            "type": "heatmap"
           }
          ],
          "histogram": [
           {
            "marker": {
             "pattern": {
              "fillmode": "overlay",
              "size": 10,
              "solidity": 0.2
             }
            },
            "type": "histogram"
           }
          ],
          "histogram2d": [
           {
            "colorbar": {
             "outlinewidth": 0,
             "ticks": ""
            },
            "colorscale": [
             [
              0,
              "#0d0887"
             ],
             [
              0.1111111111111111,
              "#46039f"
             ],
             [
              0.2222222222222222,
              "#7201a8"
             ],
             [
              0.3333333333333333,
              "#9c179e"
             ],
             [
              0.4444444444444444,
              "#bd3786"
             ],
             [
              0.5555555555555556,
              "#d8576b"
             ],
             [
              0.6666666666666666,
              "#ed7953"
             ],
             [
              0.7777777777777778,
              "#fb9f3a"
             ],
             [
              0.8888888888888888,
              "#fdca26"
             ],
             [
              1,
              "#f0f921"
             ]
            ],
            "type": "histogram2d"
           }
          ],
          "histogram2dcontour": [
           {
            "colorbar": {
             "outlinewidth": 0,
             "ticks": ""
            },
            "colorscale": [
             [
              0,
              "#0d0887"
             ],
             [
              0.1111111111111111,
              "#46039f"
             ],
             [
              0.2222222222222222,
              "#7201a8"
             ],
             [
              0.3333333333333333,
              "#9c179e"
             ],
             [
              0.4444444444444444,
              "#bd3786"
             ],
             [
              0.5555555555555556,
              "#d8576b"
             ],
             [
              0.6666666666666666,
              "#ed7953"
             ],
             [
              0.7777777777777778,
              "#fb9f3a"
             ],
             [
              0.8888888888888888,
              "#fdca26"
             ],
             [
              1,
              "#f0f921"
             ]
            ],
            "type": "histogram2dcontour"
           }
          ],
          "mesh3d": [
           {
            "colorbar": {
             "outlinewidth": 0,
             "ticks": ""
            },
            "type": "mesh3d"
           }
          ],
          "parcoords": [
           {
            "line": {
             "colorbar": {
              "outlinewidth": 0,
              "ticks": ""
             }
            },
            "type": "parcoords"
           }
          ],
          "pie": [
           {
            "automargin": true,
            "type": "pie"
           }
          ],
          "scatter": [
           {
            "fillpattern": {
             "fillmode": "overlay",
             "size": 10,
             "solidity": 0.2
            },
            "type": "scatter"
           }
          ],
          "scatter3d": [
           {
            "line": {
             "colorbar": {
              "outlinewidth": 0,
              "ticks": ""
             }
            },
            "marker": {
             "colorbar": {
              "outlinewidth": 0,
              "ticks": ""
             }
            },
            "type": "scatter3d"
           }
          ],
          "scattercarpet": [
           {
            "marker": {
             "colorbar": {
              "outlinewidth": 0,
              "ticks": ""
             }
            },
            "type": "scattercarpet"
           }
          ],
          "scattergeo": [
           {
            "marker": {
             "colorbar": {
              "outlinewidth": 0,
              "ticks": ""
             }
            },
            "type": "scattergeo"
           }
          ],
          "scattergl": [
           {
            "marker": {
             "colorbar": {
              "outlinewidth": 0,
              "ticks": ""
             }
            },
            "type": "scattergl"
           }
          ],
          "scattermap": [
           {
            "marker": {
             "colorbar": {
              "outlinewidth": 0,
              "ticks": ""
             }
            },
            "type": "scattermap"
           }
          ],
          "scattermapbox": [
           {
            "marker": {
             "colorbar": {
              "outlinewidth": 0,
              "ticks": ""
             }
            },
            "type": "scattermapbox"
           }
          ],
          "scatterpolar": [
           {
            "marker": {
             "colorbar": {
              "outlinewidth": 0,
              "ticks": ""
             }
            },
            "type": "scatterpolar"
           }
          ],
          "scatterpolargl": [
           {
            "marker": {
             "colorbar": {
              "outlinewidth": 0,
              "ticks": ""
             }
            },
            "type": "scatterpolargl"
           }
          ],
          "scatterternary": [
           {
            "marker": {
             "colorbar": {
              "outlinewidth": 0,
              "ticks": ""
             }
            },
            "type": "scatterternary"
           }
          ],
          "surface": [
           {
            "colorbar": {
             "outlinewidth": 0,
             "ticks": ""
            },
            "colorscale": [
             [
              0,
              "#0d0887"
             ],
             [
              0.1111111111111111,
              "#46039f"
             ],
             [
              0.2222222222222222,
              "#7201a8"
             ],
             [
              0.3333333333333333,
              "#9c179e"
             ],
             [
              0.4444444444444444,
              "#bd3786"
             ],
             [
              0.5555555555555556,
              "#d8576b"
             ],
             [
              0.6666666666666666,
              "#ed7953"
             ],
             [
              0.7777777777777778,
              "#fb9f3a"
             ],
             [
              0.8888888888888888,
              "#fdca26"
             ],
             [
              1,
              "#f0f921"
             ]
            ],
            "type": "surface"
           }
          ],
          "table": [
           {
            "cells": {
             "fill": {
              "color": "#EBF0F8"
             },
             "line": {
              "color": "white"
             }
            },
            "header": {
             "fill": {
              "color": "#C8D4E3"
             },
             "line": {
              "color": "white"
             }
            },
            "type": "table"
           }
          ]
         },
         "layout": {
          "annotationdefaults": {
           "arrowcolor": "#2a3f5f",
           "arrowhead": 0,
           "arrowwidth": 1
          },
          "autotypenumbers": "strict",
          "coloraxis": {
           "colorbar": {
            "outlinewidth": 0,
            "ticks": ""
           }
          },
          "colorscale": {
           "diverging": [
            [
             0,
             "#8e0152"
            ],
            [
             0.1,
             "#c51b7d"
            ],
            [
             0.2,
             "#de77ae"
            ],
            [
             0.3,
             "#f1b6da"
            ],
            [
             0.4,
             "#fde0ef"
            ],
            [
             0.5,
             "#f7f7f7"
            ],
            [
             0.6,
             "#e6f5d0"
            ],
            [
             0.7,
             "#b8e186"
            ],
            [
             0.8,
             "#7fbc41"
            ],
            [
             0.9,
             "#4d9221"
            ],
            [
             1,
             "#276419"
            ]
           ],
           "sequential": [
            [
             0,
             "#0d0887"
            ],
            [
             0.1111111111111111,
             "#46039f"
            ],
            [
             0.2222222222222222,
             "#7201a8"
            ],
            [
             0.3333333333333333,
             "#9c179e"
            ],
            [
             0.4444444444444444,
             "#bd3786"
            ],
            [
             0.5555555555555556,
             "#d8576b"
            ],
            [
             0.6666666666666666,
             "#ed7953"
            ],
            [
             0.7777777777777778,
             "#fb9f3a"
            ],
            [
             0.8888888888888888,
             "#fdca26"
            ],
            [
             1,
             "#f0f921"
            ]
           ],
           "sequentialminus": [
            [
             0,
             "#0d0887"
            ],
            [
             0.1111111111111111,
             "#46039f"
            ],
            [
             0.2222222222222222,
             "#7201a8"
            ],
            [
             0.3333333333333333,
             "#9c179e"
            ],
            [
             0.4444444444444444,
             "#bd3786"
            ],
            [
             0.5555555555555556,
             "#d8576b"
            ],
            [
             0.6666666666666666,
             "#ed7953"
            ],
            [
             0.7777777777777778,
             "#fb9f3a"
            ],
            [
             0.8888888888888888,
             "#fdca26"
            ],
            [
             1,
             "#f0f921"
            ]
           ]
          },
          "colorway": [
           "#636efa",
           "#EF553B",
           "#00cc96",
           "#ab63fa",
           "#FFA15A",
           "#19d3f3",
           "#FF6692",
           "#B6E880",
           "#FF97FF",
           "#FECB52"
          ],
          "font": {
           "color": "#2a3f5f"
          },
          "geo": {
           "bgcolor": "white",
           "lakecolor": "white",
           "landcolor": "#E5ECF6",
           "showlakes": true,
           "showland": true,
           "subunitcolor": "white"
          },
          "hoverlabel": {
           "align": "left"
          },
          "hovermode": "closest",
          "mapbox": {
           "style": "light"
          },
          "paper_bgcolor": "white",
          "plot_bgcolor": "#E5ECF6",
          "polar": {
           "angularaxis": {
            "gridcolor": "white",
            "linecolor": "white",
            "ticks": ""
           },
           "bgcolor": "#E5ECF6",
           "radialaxis": {
            "gridcolor": "white",
            "linecolor": "white",
            "ticks": ""
           }
          },
          "scene": {
           "xaxis": {
            "backgroundcolor": "#E5ECF6",
            "gridcolor": "white",
            "gridwidth": 2,
            "linecolor": "white",
            "showbackground": true,
            "ticks": "",
            "zerolinecolor": "white"
           },
           "yaxis": {
            "backgroundcolor": "#E5ECF6",
            "gridcolor": "white",
            "gridwidth": 2,
            "linecolor": "white",
            "showbackground": true,
            "ticks": "",
            "zerolinecolor": "white"
           },
           "zaxis": {
            "backgroundcolor": "#E5ECF6",
            "gridcolor": "white",
            "gridwidth": 2,
            "linecolor": "white",
            "showbackground": true,
            "ticks": "",
            "zerolinecolor": "white"
           }
          },
          "shapedefaults": {
           "line": {
            "color": "#2a3f5f"
           }
          },
          "ternary": {
           "aaxis": {
            "gridcolor": "white",
            "linecolor": "white",
            "ticks": ""
           },
           "baxis": {
            "gridcolor": "white",
            "linecolor": "white",
            "ticks": ""
           },
           "bgcolor": "#E5ECF6",
           "caxis": {
            "gridcolor": "white",
            "linecolor": "white",
            "ticks": ""
           }
          },
          "title": {
           "x": 0.05
          },
          "xaxis": {
           "automargin": true,
           "gridcolor": "white",
           "linecolor": "white",
           "ticks": "",
           "title": {
            "standoff": 15
           },
           "zerolinecolor": "white",
           "zerolinewidth": 2
          },
          "yaxis": {
           "automargin": true,
           "gridcolor": "white",
           "linecolor": "white",
           "ticks": "",
           "title": {
            "standoff": 15
           },
           "zerolinecolor": "white",
           "zerolinewidth": 2
          }
         }
        }
       }
      }
     },
     "metadata": {},
     "output_type": "display_data"
    }
   ],
   "source": [
    "# Contar quantas amostras existem por tipo de hospedeiro\n",
    "host_counts = df_host['Host Type Generic'].value_counts().reset_index()\n",
    "host_counts.columns = ['Host Type Generic', 'Quantidade']\n",
    "\n",
    "# Gráfico de pizza\n",
    "fig = px.pie(\n",
    "    host_counts,\n",
    "    names='Host Type Generic',\n",
    "    values='Quantidade',\n",
    "    color='Host Type Generic',  # opcional, adiciona cores diferentes para cada tipo\n",
    "    # title='Distribuição de amostras por tipo de hospedeiro',\n",
    "    hole=0.0  # se quiser donut, coloque valor > 0, ex: 0.3\n",
    ")\n",
    "\n",
    "fig.show()\n",
    "\n",
    "# Salvar gráfico como imagem (PNG)\n",
    "fig.write_image(f\"{PATH_GRAPHS}//generic_host_type.png\", scale=2, width=800, height=600)"
   ]
  },
  {
   "cell_type": "markdown",
   "id": "48622fa9",
   "metadata": {},
   "source": [
    "#### Observações"
   ]
  },
  {
   "cell_type": "markdown",
   "id": "ca3492b5",
   "metadata": {},
   "source": [
    "##### Informações complementares"
   ]
  },
  {
   "cell_type": "code",
   "execution_count": 20,
   "id": "4be57d08",
   "metadata": {},
   "outputs": [
    {
     "name": "stdout",
     "output_type": "stream",
     "text": [
      "============= Dados Relevantes =============\n",
      "Amostras sem hospedeiros conhecidos: 108\n",
      "Amostras com hospedeiros conhecidos: 54\n",
      "Tipos específicos de hospedeiros: 8\n",
      "Tipos genéricos de hospedeiros: 5\n",
      "Total de hospedeiros: 11\n",
      "============================================\n"
     ]
    }
   ],
   "source": [
    "print(\"============= Dados Relevantes =============\")\n",
    "print(f\"Amostras sem hospedeiros conhecidos: {len(df) - len(df_host)}\")\n",
    "print(f\"Amostras com hospedeiros conhecidos: {len(df_host)}\")\n",
    "print(f\"Tipos específicos de hospedeiros: {df_host['Host Type'].nunique()}\")\n",
    "print(f\"Tipos genéricos de hospedeiros: {df_host['Host Type Generic'].nunique()}\")\n",
    "print(f\"Total de hospedeiros: {df_host['Biosample Host'].nunique()}\")\n",
    "print(\"============================================\")"
   ]
  },
  {
   "cell_type": "markdown",
   "id": "8909951b",
   "metadata": {},
   "source": [
    "### Validação do LPSN"
   ]
  },
  {
   "cell_type": "code",
   "execution_count": 27,
   "id": "3ee80533",
   "metadata": {},
   "outputs": [
    {
     "data": {
      "application/vnd.plotly.v1+json": {
       "config": {
        "plotlyServerURL": "https://plot.ly"
       },
       "data": [
        {
         "customdata": [
          [
           "Validado pelo LPSN"
          ],
          [
           "Não validado"
          ]
         ],
         "domain": {
          "x": [
           0,
           1
          ],
          "y": [
           0,
           1
          ]
         },
         "hole": 0,
         "hovertemplate": "Status=%{customdata[0]}<br>Quantidade=%{value}<extra></extra>",
         "labels": [
          "Validado pelo LPSN",
          "Não validado"
         ],
         "legendgroup": "",
         "marker": {
          "colors": [
           "green",
           "red"
          ]
         },
         "name": "",
         "showlegend": true,
         "type": "pie",
         "values": {
          "bdata": "XEY=",
          "dtype": "i1"
         }
        }
       ],
       "layout": {
        "legend": {
         "tracegroupgap": 0
        },
        "margin": {
         "t": 60
        },
        "template": {
         "data": {
          "bar": [
           {
            "error_x": {
             "color": "#2a3f5f"
            },
            "error_y": {
             "color": "#2a3f5f"
            },
            "marker": {
             "line": {
              "color": "#E5ECF6",
              "width": 0.5
             },
             "pattern": {
              "fillmode": "overlay",
              "size": 10,
              "solidity": 0.2
             }
            },
            "type": "bar"
           }
          ],
          "barpolar": [
           {
            "marker": {
             "line": {
              "color": "#E5ECF6",
              "width": 0.5
             },
             "pattern": {
              "fillmode": "overlay",
              "size": 10,
              "solidity": 0.2
             }
            },
            "type": "barpolar"
           }
          ],
          "carpet": [
           {
            "aaxis": {
             "endlinecolor": "#2a3f5f",
             "gridcolor": "white",
             "linecolor": "white",
             "minorgridcolor": "white",
             "startlinecolor": "#2a3f5f"
            },
            "baxis": {
             "endlinecolor": "#2a3f5f",
             "gridcolor": "white",
             "linecolor": "white",
             "minorgridcolor": "white",
             "startlinecolor": "#2a3f5f"
            },
            "type": "carpet"
           }
          ],
          "choropleth": [
           {
            "colorbar": {
             "outlinewidth": 0,
             "ticks": ""
            },
            "type": "choropleth"
           }
          ],
          "contour": [
           {
            "colorbar": {
             "outlinewidth": 0,
             "ticks": ""
            },
            "colorscale": [
             [
              0,
              "#0d0887"
             ],
             [
              0.1111111111111111,
              "#46039f"
             ],
             [
              0.2222222222222222,
              "#7201a8"
             ],
             [
              0.3333333333333333,
              "#9c179e"
             ],
             [
              0.4444444444444444,
              "#bd3786"
             ],
             [
              0.5555555555555556,
              "#d8576b"
             ],
             [
              0.6666666666666666,
              "#ed7953"
             ],
             [
              0.7777777777777778,
              "#fb9f3a"
             ],
             [
              0.8888888888888888,
              "#fdca26"
             ],
             [
              1,
              "#f0f921"
             ]
            ],
            "type": "contour"
           }
          ],
          "contourcarpet": [
           {
            "colorbar": {
             "outlinewidth": 0,
             "ticks": ""
            },
            "type": "contourcarpet"
           }
          ],
          "heatmap": [
           {
            "colorbar": {
             "outlinewidth": 0,
             "ticks": ""
            },
            "colorscale": [
             [
              0,
              "#0d0887"
             ],
             [
              0.1111111111111111,
              "#46039f"
             ],
             [
              0.2222222222222222,
              "#7201a8"
             ],
             [
              0.3333333333333333,
              "#9c179e"
             ],
             [
              0.4444444444444444,
              "#bd3786"
             ],
             [
              0.5555555555555556,
              "#d8576b"
             ],
             [
              0.6666666666666666,
              "#ed7953"
             ],
             [
              0.7777777777777778,
              "#fb9f3a"
             ],
             [
              0.8888888888888888,
              "#fdca26"
             ],
             [
              1,
              "#f0f921"
             ]
            ],
            "type": "heatmap"
           }
          ],
          "histogram": [
           {
            "marker": {
             "pattern": {
              "fillmode": "overlay",
              "size": 10,
              "solidity": 0.2
             }
            },
            "type": "histogram"
           }
          ],
          "histogram2d": [
           {
            "colorbar": {
             "outlinewidth": 0,
             "ticks": ""
            },
            "colorscale": [
             [
              0,
              "#0d0887"
             ],
             [
              0.1111111111111111,
              "#46039f"
             ],
             [
              0.2222222222222222,
              "#7201a8"
             ],
             [
              0.3333333333333333,
              "#9c179e"
             ],
             [
              0.4444444444444444,
              "#bd3786"
             ],
             [
              0.5555555555555556,
              "#d8576b"
             ],
             [
              0.6666666666666666,
              "#ed7953"
             ],
             [
              0.7777777777777778,
              "#fb9f3a"
             ],
             [
              0.8888888888888888,
              "#fdca26"
             ],
             [
              1,
              "#f0f921"
             ]
            ],
            "type": "histogram2d"
           }
          ],
          "histogram2dcontour": [
           {
            "colorbar": {
             "outlinewidth": 0,
             "ticks": ""
            },
            "colorscale": [
             [
              0,
              "#0d0887"
             ],
             [
              0.1111111111111111,
              "#46039f"
             ],
             [
              0.2222222222222222,
              "#7201a8"
             ],
             [
              0.3333333333333333,
              "#9c179e"
             ],
             [
              0.4444444444444444,
              "#bd3786"
             ],
             [
              0.5555555555555556,
              "#d8576b"
             ],
             [
              0.6666666666666666,
              "#ed7953"
             ],
             [
              0.7777777777777778,
              "#fb9f3a"
             ],
             [
              0.8888888888888888,
              "#fdca26"
             ],
             [
              1,
              "#f0f921"
             ]
            ],
            "type": "histogram2dcontour"
           }
          ],
          "mesh3d": [
           {
            "colorbar": {
             "outlinewidth": 0,
             "ticks": ""
            },
            "type": "mesh3d"
           }
          ],
          "parcoords": [
           {
            "line": {
             "colorbar": {
              "outlinewidth": 0,
              "ticks": ""
             }
            },
            "type": "parcoords"
           }
          ],
          "pie": [
           {
            "automargin": true,
            "type": "pie"
           }
          ],
          "scatter": [
           {
            "fillpattern": {
             "fillmode": "overlay",
             "size": 10,
             "solidity": 0.2
            },
            "type": "scatter"
           }
          ],
          "scatter3d": [
           {
            "line": {
             "colorbar": {
              "outlinewidth": 0,
              "ticks": ""
             }
            },
            "marker": {
             "colorbar": {
              "outlinewidth": 0,
              "ticks": ""
             }
            },
            "type": "scatter3d"
           }
          ],
          "scattercarpet": [
           {
            "marker": {
             "colorbar": {
              "outlinewidth": 0,
              "ticks": ""
             }
            },
            "type": "scattercarpet"
           }
          ],
          "scattergeo": [
           {
            "marker": {
             "colorbar": {
              "outlinewidth": 0,
              "ticks": ""
             }
            },
            "type": "scattergeo"
           }
          ],
          "scattergl": [
           {
            "marker": {
             "colorbar": {
              "outlinewidth": 0,
              "ticks": ""
             }
            },
            "type": "scattergl"
           }
          ],
          "scattermap": [
           {
            "marker": {
             "colorbar": {
              "outlinewidth": 0,
              "ticks": ""
             }
            },
            "type": "scattermap"
           }
          ],
          "scattermapbox": [
           {
            "marker": {
             "colorbar": {
              "outlinewidth": 0,
              "ticks": ""
             }
            },
            "type": "scattermapbox"
           }
          ],
          "scatterpolar": [
           {
            "marker": {
             "colorbar": {
              "outlinewidth": 0,
              "ticks": ""
             }
            },
            "type": "scatterpolar"
           }
          ],
          "scatterpolargl": [
           {
            "marker": {
             "colorbar": {
              "outlinewidth": 0,
              "ticks": ""
             }
            },
            "type": "scatterpolargl"
           }
          ],
          "scatterternary": [
           {
            "marker": {
             "colorbar": {
              "outlinewidth": 0,
              "ticks": ""
             }
            },
            "type": "scatterternary"
           }
          ],
          "surface": [
           {
            "colorbar": {
             "outlinewidth": 0,
             "ticks": ""
            },
            "colorscale": [
             [
              0,
              "#0d0887"
             ],
             [
              0.1111111111111111,
              "#46039f"
             ],
             [
              0.2222222222222222,
              "#7201a8"
             ],
             [
              0.3333333333333333,
              "#9c179e"
             ],
             [
              0.4444444444444444,
              "#bd3786"
             ],
             [
              0.5555555555555556,
              "#d8576b"
             ],
             [
              0.6666666666666666,
              "#ed7953"
             ],
             [
              0.7777777777777778,
              "#fb9f3a"
             ],
             [
              0.8888888888888888,
              "#fdca26"
             ],
             [
              1,
              "#f0f921"
             ]
            ],
            "type": "surface"
           }
          ],
          "table": [
           {
            "cells": {
             "fill": {
              "color": "#EBF0F8"
             },
             "line": {
              "color": "white"
             }
            },
            "header": {
             "fill": {
              "color": "#C8D4E3"
             },
             "line": {
              "color": "white"
             }
            },
            "type": "table"
           }
          ]
         },
         "layout": {
          "annotationdefaults": {
           "arrowcolor": "#2a3f5f",
           "arrowhead": 0,
           "arrowwidth": 1
          },
          "autotypenumbers": "strict",
          "coloraxis": {
           "colorbar": {
            "outlinewidth": 0,
            "ticks": ""
           }
          },
          "colorscale": {
           "diverging": [
            [
             0,
             "#8e0152"
            ],
            [
             0.1,
             "#c51b7d"
            ],
            [
             0.2,
             "#de77ae"
            ],
            [
             0.3,
             "#f1b6da"
            ],
            [
             0.4,
             "#fde0ef"
            ],
            [
             0.5,
             "#f7f7f7"
            ],
            [
             0.6,
             "#e6f5d0"
            ],
            [
             0.7,
             "#b8e186"
            ],
            [
             0.8,
             "#7fbc41"
            ],
            [
             0.9,
             "#4d9221"
            ],
            [
             1,
             "#276419"
            ]
           ],
           "sequential": [
            [
             0,
             "#0d0887"
            ],
            [
             0.1111111111111111,
             "#46039f"
            ],
            [
             0.2222222222222222,
             "#7201a8"
            ],
            [
             0.3333333333333333,
             "#9c179e"
            ],
            [
             0.4444444444444444,
             "#bd3786"
            ],
            [
             0.5555555555555556,
             "#d8576b"
            ],
            [
             0.6666666666666666,
             "#ed7953"
            ],
            [
             0.7777777777777778,
             "#fb9f3a"
            ],
            [
             0.8888888888888888,
             "#fdca26"
            ],
            [
             1,
             "#f0f921"
            ]
           ],
           "sequentialminus": [
            [
             0,
             "#0d0887"
            ],
            [
             0.1111111111111111,
             "#46039f"
            ],
            [
             0.2222222222222222,
             "#7201a8"
            ],
            [
             0.3333333333333333,
             "#9c179e"
            ],
            [
             0.4444444444444444,
             "#bd3786"
            ],
            [
             0.5555555555555556,
             "#d8576b"
            ],
            [
             0.6666666666666666,
             "#ed7953"
            ],
            [
             0.7777777777777778,
             "#fb9f3a"
            ],
            [
             0.8888888888888888,
             "#fdca26"
            ],
            [
             1,
             "#f0f921"
            ]
           ]
          },
          "colorway": [
           "#636efa",
           "#EF553B",
           "#00cc96",
           "#ab63fa",
           "#FFA15A",
           "#19d3f3",
           "#FF6692",
           "#B6E880",
           "#FF97FF",
           "#FECB52"
          ],
          "font": {
           "color": "#2a3f5f"
          },
          "geo": {
           "bgcolor": "white",
           "lakecolor": "white",
           "landcolor": "#E5ECF6",
           "showlakes": true,
           "showland": true,
           "subunitcolor": "white"
          },
          "hoverlabel": {
           "align": "left"
          },
          "hovermode": "closest",
          "mapbox": {
           "style": "light"
          },
          "paper_bgcolor": "white",
          "plot_bgcolor": "#E5ECF6",
          "polar": {
           "angularaxis": {
            "gridcolor": "white",
            "linecolor": "white",
            "ticks": ""
           },
           "bgcolor": "#E5ECF6",
           "radialaxis": {
            "gridcolor": "white",
            "linecolor": "white",
            "ticks": ""
           }
          },
          "scene": {
           "xaxis": {
            "backgroundcolor": "#E5ECF6",
            "gridcolor": "white",
            "gridwidth": 2,
            "linecolor": "white",
            "showbackground": true,
            "ticks": "",
            "zerolinecolor": "white"
           },
           "yaxis": {
            "backgroundcolor": "#E5ECF6",
            "gridcolor": "white",
            "gridwidth": 2,
            "linecolor": "white",
            "showbackground": true,
            "ticks": "",
            "zerolinecolor": "white"
           },
           "zaxis": {
            "backgroundcolor": "#E5ECF6",
            "gridcolor": "white",
            "gridwidth": 2,
            "linecolor": "white",
            "showbackground": true,
            "ticks": "",
            "zerolinecolor": "white"
           }
          },
          "shapedefaults": {
           "line": {
            "color": "#2a3f5f"
           }
          },
          "ternary": {
           "aaxis": {
            "gridcolor": "white",
            "linecolor": "white",
            "ticks": ""
           },
           "baxis": {
            "gridcolor": "white",
            "linecolor": "white",
            "ticks": ""
           },
           "bgcolor": "#E5ECF6",
           "caxis": {
            "gridcolor": "white",
            "linecolor": "white",
            "ticks": ""
           }
          },
          "title": {
           "x": 0.05
          },
          "xaxis": {
           "automargin": true,
           "gridcolor": "white",
           "linecolor": "white",
           "ticks": "",
           "title": {
            "standoff": 15
           },
           "zerolinecolor": "white",
           "zerolinewidth": 2
          },
          "yaxis": {
           "automargin": true,
           "gridcolor": "white",
           "linecolor": "white",
           "ticks": "",
           "title": {
            "standoff": 15
           },
           "zerolinecolor": "white",
           "zerolinewidth": 2
          }
         }
        }
       }
      }
     },
     "metadata": {},
     "output_type": "display_data"
    }
   ],
   "source": [
    "# Criar DataFrame de validados\n",
    "df_lpsn = df[df['LPSN species validation'] != 'No']\n",
    "\n",
    "# Contagem de genomas validados e não validados\n",
    "lpsn_counts = pd.DataFrame({\n",
    "    'Status': ['Validado pelo LPSN', 'Não validado'],\n",
    "    'Quantidade': [len(df_lpsn), len(df) - len(df_lpsn)]\n",
    "})\n",
    "\n",
    "# Gráfico de pizza\n",
    "fig = px.pie(\n",
    "    lpsn_counts,\n",
    "    names='Status',\n",
    "    values='Quantidade',\n",
    "    color='Status',\n",
    "    color_discrete_map={\n",
    "        'Validado pelo LPSN': 'green',   # verde para validados\n",
    "        'Não validado': 'red'            # vermelho para não validados\n",
    "    },\n",
    "    # title='Proporção de genomas validados pelo LPSN',\n",
    "    hole=0.0  # para pizza normal; use 0.3 se quiser estilo donut\n",
    ")\n",
    "\n",
    "# Salvar como imagem\n",
    "fig.write_image(f\"{PATH_GRAPHS}//lpsn_validation_pie.png\", scale=2, width=400, height=300)\n",
    "\n",
    "fig.show()"
   ]
  },
  {
   "cell_type": "markdown",
   "id": "ffda98aa",
   "metadata": {},
   "source": [
    "### Média do tamanho do genoma"
   ]
  },
  {
   "cell_type": "code",
   "execution_count": 28,
   "id": "388e7dcc",
   "metadata": {},
   "outputs": [
    {
     "data": {
      "application/vnd.microsoft.datawrangler.viewer.v0+json": {
       "columns": [
        {
         "name": "index",
         "rawType": "int64",
         "type": "integer"
        },
        {
         "name": "Nome da Espécie",
         "rawType": "object",
         "type": "string"
        },
        {
         "name": "Tamanho Médio do Genoma (bp)",
         "rawType": "float64",
         "type": "float"
        }
       ],
       "ref": "cadcf333-3f87-44ce-99cd-16ef5aa06529",
       "rows": [
        [
         "0",
         "Maribacter antarcticus",
         "4853010.0"
        ],
        [
         "1",
         "Maribacter stanieri",
         "4627620.8"
        ],
        [
         "2",
         "Maribacter cobaltidurans",
         "4604312.0"
        ],
        [
         "3",
         "Maribacter aquivivus",
         "4535739.0"
        ],
        [
         "4",
         "Maribacter forsetii",
         "4514366.0"
        ],
        [
         "5",
         "Maribacter ulvicola",
         "4511475.0"
        ],
        [
         "6",
         "Maribacter litoralis",
         "4464416.3"
        ],
        [
         "7",
         "Maribacter spongiicola",
         "4455565.0"
        ],
        [
         "8",
         "Maribacter dokdonensis",
         "4341691.1"
        ],
        [
         "9",
         "Maribacter sedimenticola",
         "4308203.0"
        ],
        [
         "10",
         "Maribacter caenipelagi",
         "4281860.0"
        ],
        [
         "11",
         "Maribacter hydrothermalis",
         "4271158.0"
        ],
        [
         "12",
         "Maribacter orientalis",
         "4163533.0"
        ],
        [
         "13",
         "Maribacter flavus",
         "4160067.2"
        ],
        [
         "14",
         "Maribacter algicola",
         "4114314.0"
        ],
        [
         "15",
         "Maribacter thermophilus",
         "4050606.0"
        ],
        [
         "16",
         "Maribacter aestuarii",
         "3864851.0"
        ],
        [
         "17",
         "Maribacter arcticus",
         "3802661.6"
        ]
       ],
       "shape": {
        "columns": 2,
        "rows": 18
       }
      },
      "text/html": [
       "<div>\n",
       "<style scoped>\n",
       "    .dataframe tbody tr th:only-of-type {\n",
       "        vertical-align: middle;\n",
       "    }\n",
       "\n",
       "    .dataframe tbody tr th {\n",
       "        vertical-align: top;\n",
       "    }\n",
       "\n",
       "    .dataframe thead th {\n",
       "        text-align: right;\n",
       "    }\n",
       "</style>\n",
       "<table border=\"1\" class=\"dataframe\">\n",
       "  <thead>\n",
       "    <tr style=\"text-align: right;\">\n",
       "      <th></th>\n",
       "      <th>Nome da Espécie</th>\n",
       "      <th>Tamanho Médio do Genoma (bp)</th>\n",
       "    </tr>\n",
       "  </thead>\n",
       "  <tbody>\n",
       "    <tr>\n",
       "      <th>0</th>\n",
       "      <td>Maribacter antarcticus</td>\n",
       "      <td>4853010.0</td>\n",
       "    </tr>\n",
       "    <tr>\n",
       "      <th>1</th>\n",
       "      <td>Maribacter stanieri</td>\n",
       "      <td>4627620.8</td>\n",
       "    </tr>\n",
       "    <tr>\n",
       "      <th>2</th>\n",
       "      <td>Maribacter cobaltidurans</td>\n",
       "      <td>4604312.0</td>\n",
       "    </tr>\n",
       "    <tr>\n",
       "      <th>3</th>\n",
       "      <td>Maribacter aquivivus</td>\n",
       "      <td>4535739.0</td>\n",
       "    </tr>\n",
       "    <tr>\n",
       "      <th>4</th>\n",
       "      <td>Maribacter forsetii</td>\n",
       "      <td>4514366.0</td>\n",
       "    </tr>\n",
       "    <tr>\n",
       "      <th>5</th>\n",
       "      <td>Maribacter ulvicola</td>\n",
       "      <td>4511475.0</td>\n",
       "    </tr>\n",
       "    <tr>\n",
       "      <th>6</th>\n",
       "      <td>Maribacter litoralis</td>\n",
       "      <td>4464416.3</td>\n",
       "    </tr>\n",
       "    <tr>\n",
       "      <th>7</th>\n",
       "      <td>Maribacter spongiicola</td>\n",
       "      <td>4455565.0</td>\n",
       "    </tr>\n",
       "    <tr>\n",
       "      <th>8</th>\n",
       "      <td>Maribacter dokdonensis</td>\n",
       "      <td>4341691.1</td>\n",
       "    </tr>\n",
       "    <tr>\n",
       "      <th>9</th>\n",
       "      <td>Maribacter sedimenticola</td>\n",
       "      <td>4308203.0</td>\n",
       "    </tr>\n",
       "    <tr>\n",
       "      <th>10</th>\n",
       "      <td>Maribacter caenipelagi</td>\n",
       "      <td>4281860.0</td>\n",
       "    </tr>\n",
       "    <tr>\n",
       "      <th>11</th>\n",
       "      <td>Maribacter hydrothermalis</td>\n",
       "      <td>4271158.0</td>\n",
       "    </tr>\n",
       "    <tr>\n",
       "      <th>12</th>\n",
       "      <td>Maribacter orientalis</td>\n",
       "      <td>4163533.0</td>\n",
       "    </tr>\n",
       "    <tr>\n",
       "      <th>13</th>\n",
       "      <td>Maribacter flavus</td>\n",
       "      <td>4160067.2</td>\n",
       "    </tr>\n",
       "    <tr>\n",
       "      <th>14</th>\n",
       "      <td>Maribacter algicola</td>\n",
       "      <td>4114314.0</td>\n",
       "    </tr>\n",
       "    <tr>\n",
       "      <th>15</th>\n",
       "      <td>Maribacter thermophilus</td>\n",
       "      <td>4050606.0</td>\n",
       "    </tr>\n",
       "    <tr>\n",
       "      <th>16</th>\n",
       "      <td>Maribacter aestuarii</td>\n",
       "      <td>3864851.0</td>\n",
       "    </tr>\n",
       "    <tr>\n",
       "      <th>17</th>\n",
       "      <td>Maribacter arcticus</td>\n",
       "      <td>3802661.6</td>\n",
       "    </tr>\n",
       "  </tbody>\n",
       "</table>\n",
       "</div>"
      ],
      "text/plain": [
       "              Nome da Espécie  Tamanho Médio do Genoma (bp)\n",
       "0      Maribacter antarcticus                     4853010.0\n",
       "1         Maribacter stanieri                     4627620.8\n",
       "2    Maribacter cobaltidurans                     4604312.0\n",
       "3        Maribacter aquivivus                     4535739.0\n",
       "4         Maribacter forsetii                     4514366.0\n",
       "5         Maribacter ulvicola                     4511475.0\n",
       "6        Maribacter litoralis                     4464416.3\n",
       "7      Maribacter spongiicola                     4455565.0\n",
       "8      Maribacter dokdonensis                     4341691.1\n",
       "9    Maribacter sedimenticola                     4308203.0\n",
       "10     Maribacter caenipelagi                     4281860.0\n",
       "11  Maribacter hydrothermalis                     4271158.0\n",
       "12      Maribacter orientalis                     4163533.0\n",
       "13          Maribacter flavus                     4160067.2\n",
       "14        Maribacter algicola                     4114314.0\n",
       "15    Maribacter thermophilus                     4050606.0\n",
       "16       Maribacter aestuarii                     3864851.0\n",
       "17        Maribacter arcticus                     3802661.6"
      ]
     },
     "metadata": {},
     "output_type": "display_data"
    }
   ],
   "source": [
    "# Usar somente espécies validadas facilita agrupar por nome\n",
    "# Agrupar pelo nome da espécie e calcular a média do tamanho do genoma\n",
    "genome_size_avg = df_lpsn.groupby('GTDB species')['Genome Size (bp)'].mean().reset_index()\n",
    "\n",
    "# Arredondar para 1 casa decimal\n",
    "genome_size_avg['Genome Size (bp)'] = genome_size_avg['Genome Size (bp)'].round(1)\n",
    "\n",
    "# Ordenar de forma decrescente\n",
    "genome_size_avg = genome_size_avg.sort_values(by=\"Genome Size (bp)\", ascending=False).reset_index(drop=True)\n",
    "\n",
    "# Renomear a coluna para ficar mais claro\n",
    "genome_size_avg.rename(columns={'GTDB species': 'Nome da Espécie', 'Genome Size (bp)': 'Tamanho Médio do Genoma (bp)'}, inplace=True)\n",
    "\n",
    "# Mostrar resultado\n",
    "display(genome_size_avg)"
   ]
  },
  {
   "cell_type": "code",
   "execution_count": null,
   "id": "0dc3c2c3",
   "metadata": {},
   "outputs": [
    {
     "name": "stdout",
     "output_type": "stream",
     "text": [
      "Tabela salva em genome_size_avg.png\n"
     ]
    }
   ],
   "source": [
    "# Criar figura\n",
    "fig, ax = plt.subplots(figsize=(8, 6))\n",
    "ax.axis(\"off\")  # Remove eixos\n",
    "\n",
    "# Adicionar tabela\n",
    "table = ax.table(\n",
    "    cellText=genome_size_avg.values,\n",
    "    colLabels=genome_size_avg.columns,\n",
    "    cellLoc=\"center\",\n",
    "    loc=\"center\"\n",
    ")\n",
    "\n",
    "# Ajustar estilo\n",
    "table.auto_set_font_size(False)\n",
    "table.set_fontsize(10)\n",
    "table.scale(1.2, 1.2)\n",
    "\n",
    "for (i, j), cell in table.get_celld().items():\n",
    "    if i == 0:  # primeira linha = cabeçalho\n",
    "        cell.set_text_props(weight='bold')\n",
    "        \n",
    "# Salvar como imagem\n",
    "plt.savefig(f\"{PATH_GRAPHS}//genome_size_avg.png\", dpi=300, bbox_inches=\"tight\")\n",
    "plt.close()\n",
    "\n",
    "print(f\"Tabela salva em {PATH_GRAPHS}//genome_size_avg.png\")"
   ]
  },
  {
   "cell_type": "markdown",
   "id": "984ea352",
   "metadata": {},
   "source": [
    "### Nível de agrupamento"
   ]
  },
  {
   "cell_type": "code",
   "execution_count": null,
   "id": "89e87c41",
   "metadata": {},
   "outputs": [
    {
     "name": "stderr",
     "output_type": "stream",
     "text": [
      "C:\\Users\\Matheus\\AppData\\Local\\Temp\\ipykernel_7116\\1096085301.py:7: FutureWarning:\n",
      "\n",
      "A value is trying to be set on a copy of a DataFrame or Series through chained assignment using an inplace method.\n",
      "The behavior will change in pandas 3.0. This inplace method will never work because the intermediate object on which we are setting values always behaves as a copy.\n",
      "\n",
      "For example, when doing 'df[col].method(value, inplace=True)', try using 'df.method({col: value}, inplace=True)' or df[col] = df[col].method(value) instead, to perform the operation inplace on the original object.\n",
      "\n",
      "\n",
      "\n"
     ]
    },
    {
     "data": {
      "application/vnd.microsoft.datawrangler.viewer.v0+json": {
       "columns": [
        {
         "name": "index",
         "rawType": "int64",
         "type": "integer"
        },
        {
         "name": "Assembly Level",
         "rawType": "object",
         "type": "string"
        },
        {
         "name": "Quantidade",
         "rawType": "int64",
         "type": "integer"
        }
       ],
       "ref": "28ab81c7-b36c-44fb-bd0c-787a22479c5b",
       "rows": [
        [
         "0",
         "Contig",
         "118"
        ],
        [
         "1",
         "Genoma Completo",
         "10"
        ],
        [
         "2",
         "Scaffold",
         "34"
        ]
       ],
       "shape": {
        "columns": 2,
        "rows": 3
       }
      },
      "text/html": [
       "<div>\n",
       "<style scoped>\n",
       "    .dataframe tbody tr th:only-of-type {\n",
       "        vertical-align: middle;\n",
       "    }\n",
       "\n",
       "    .dataframe tbody tr th {\n",
       "        vertical-align: top;\n",
       "    }\n",
       "\n",
       "    .dataframe thead th {\n",
       "        text-align: right;\n",
       "    }\n",
       "</style>\n",
       "<table border=\"1\" class=\"dataframe\">\n",
       "  <thead>\n",
       "    <tr style=\"text-align: right;\">\n",
       "      <th></th>\n",
       "      <th>Assembly Level</th>\n",
       "      <th>Quantidade</th>\n",
       "    </tr>\n",
       "  </thead>\n",
       "  <tbody>\n",
       "    <tr>\n",
       "      <th>0</th>\n",
       "      <td>Contig</td>\n",
       "      <td>118</td>\n",
       "    </tr>\n",
       "    <tr>\n",
       "      <th>1</th>\n",
       "      <td>Genoma Completo</td>\n",
       "      <td>10</td>\n",
       "    </tr>\n",
       "    <tr>\n",
       "      <th>2</th>\n",
       "      <td>Scaffold</td>\n",
       "      <td>34</td>\n",
       "    </tr>\n",
       "  </tbody>\n",
       "</table>\n",
       "</div>"
      ],
      "text/plain": [
       "    Assembly Level  Quantidade\n",
       "0           Contig         118\n",
       "1  Genoma Completo          10\n",
       "2         Scaffold          34"
      ]
     },
     "metadata": {},
     "output_type": "display_data"
    },
    {
     "data": {
      "application/vnd.plotly.v1+json": {
       "config": {
        "plotlyServerURL": "https://plot.ly"
       },
       "data": [
        {
         "customdata": [
          [
           "Contig"
          ],
          [
           "Genoma Completo"
          ],
          [
           "Scaffold"
          ]
         ],
         "domain": {
          "x": [
           0,
           1
          ],
          "y": [
           0,
           1
          ]
         },
         "hovertemplate": "Assembly Level=%{customdata[0]}<br>Quantidade=%{value}<extra></extra>",
         "labels": [
          "Contig",
          "Genoma Completo",
          "Scaffold"
         ],
         "legendgroup": "",
         "marker": {
          "colors": [
           "#636efa",
           "#EF553B",
           "#00cc96"
          ]
         },
         "name": "",
         "showlegend": true,
         "type": "pie",
         "values": {
          "bdata": "dgoi",
          "dtype": "i1"
         }
        }
       ],
       "layout": {
        "legend": {
         "tracegroupgap": 0
        },
        "margin": {
         "t": 60
        },
        "template": {
         "data": {
          "bar": [
           {
            "error_x": {
             "color": "#2a3f5f"
            },
            "error_y": {
             "color": "#2a3f5f"
            },
            "marker": {
             "line": {
              "color": "#E5ECF6",
              "width": 0.5
             },
             "pattern": {
              "fillmode": "overlay",
              "size": 10,
              "solidity": 0.2
             }
            },
            "type": "bar"
           }
          ],
          "barpolar": [
           {
            "marker": {
             "line": {
              "color": "#E5ECF6",
              "width": 0.5
             },
             "pattern": {
              "fillmode": "overlay",
              "size": 10,
              "solidity": 0.2
             }
            },
            "type": "barpolar"
           }
          ],
          "carpet": [
           {
            "aaxis": {
             "endlinecolor": "#2a3f5f",
             "gridcolor": "white",
             "linecolor": "white",
             "minorgridcolor": "white",
             "startlinecolor": "#2a3f5f"
            },
            "baxis": {
             "endlinecolor": "#2a3f5f",
             "gridcolor": "white",
             "linecolor": "white",
             "minorgridcolor": "white",
             "startlinecolor": "#2a3f5f"
            },
            "type": "carpet"
           }
          ],
          "choropleth": [
           {
            "colorbar": {
             "outlinewidth": 0,
             "ticks": ""
            },
            "type": "choropleth"
           }
          ],
          "contour": [
           {
            "colorbar": {
             "outlinewidth": 0,
             "ticks": ""
            },
            "colorscale": [
             [
              0,
              "#0d0887"
             ],
             [
              0.1111111111111111,
              "#46039f"
             ],
             [
              0.2222222222222222,
              "#7201a8"
             ],
             [
              0.3333333333333333,
              "#9c179e"
             ],
             [
              0.4444444444444444,
              "#bd3786"
             ],
             [
              0.5555555555555556,
              "#d8576b"
             ],
             [
              0.6666666666666666,
              "#ed7953"
             ],
             [
              0.7777777777777778,
              "#fb9f3a"
             ],
             [
              0.8888888888888888,
              "#fdca26"
             ],
             [
              1,
              "#f0f921"
             ]
            ],
            "type": "contour"
           }
          ],
          "contourcarpet": [
           {
            "colorbar": {
             "outlinewidth": 0,
             "ticks": ""
            },
            "type": "contourcarpet"
           }
          ],
          "heatmap": [
           {
            "colorbar": {
             "outlinewidth": 0,
             "ticks": ""
            },
            "colorscale": [
             [
              0,
              "#0d0887"
             ],
             [
              0.1111111111111111,
              "#46039f"
             ],
             [
              0.2222222222222222,
              "#7201a8"
             ],
             [
              0.3333333333333333,
              "#9c179e"
             ],
             [
              0.4444444444444444,
              "#bd3786"
             ],
             [
              0.5555555555555556,
              "#d8576b"
             ],
             [
              0.6666666666666666,
              "#ed7953"
             ],
             [
              0.7777777777777778,
              "#fb9f3a"
             ],
             [
              0.8888888888888888,
              "#fdca26"
             ],
             [
              1,
              "#f0f921"
             ]
            ],
            "type": "heatmap"
           }
          ],
          "histogram": [
           {
            "marker": {
             "pattern": {
              "fillmode": "overlay",
              "size": 10,
              "solidity": 0.2
             }
            },
            "type": "histogram"
           }
          ],
          "histogram2d": [
           {
            "colorbar": {
             "outlinewidth": 0,
             "ticks": ""
            },
            "colorscale": [
             [
              0,
              "#0d0887"
             ],
             [
              0.1111111111111111,
              "#46039f"
             ],
             [
              0.2222222222222222,
              "#7201a8"
             ],
             [
              0.3333333333333333,
              "#9c179e"
             ],
             [
              0.4444444444444444,
              "#bd3786"
             ],
             [
              0.5555555555555556,
              "#d8576b"
             ],
             [
              0.6666666666666666,
              "#ed7953"
             ],
             [
              0.7777777777777778,
              "#fb9f3a"
             ],
             [
              0.8888888888888888,
              "#fdca26"
             ],
             [
              1,
              "#f0f921"
             ]
            ],
            "type": "histogram2d"
           }
          ],
          "histogram2dcontour": [
           {
            "colorbar": {
             "outlinewidth": 0,
             "ticks": ""
            },
            "colorscale": [
             [
              0,
              "#0d0887"
             ],
             [
              0.1111111111111111,
              "#46039f"
             ],
             [
              0.2222222222222222,
              "#7201a8"
             ],
             [
              0.3333333333333333,
              "#9c179e"
             ],
             [
              0.4444444444444444,
              "#bd3786"
             ],
             [
              0.5555555555555556,
              "#d8576b"
             ],
             [
              0.6666666666666666,
              "#ed7953"
             ],
             [
              0.7777777777777778,
              "#fb9f3a"
             ],
             [
              0.8888888888888888,
              "#fdca26"
             ],
             [
              1,
              "#f0f921"
             ]
            ],
            "type": "histogram2dcontour"
           }
          ],
          "mesh3d": [
           {
            "colorbar": {
             "outlinewidth": 0,
             "ticks": ""
            },
            "type": "mesh3d"
           }
          ],
          "parcoords": [
           {
            "line": {
             "colorbar": {
              "outlinewidth": 0,
              "ticks": ""
             }
            },
            "type": "parcoords"
           }
          ],
          "pie": [
           {
            "automargin": true,
            "type": "pie"
           }
          ],
          "scatter": [
           {
            "fillpattern": {
             "fillmode": "overlay",
             "size": 10,
             "solidity": 0.2
            },
            "type": "scatter"
           }
          ],
          "scatter3d": [
           {
            "line": {
             "colorbar": {
              "outlinewidth": 0,
              "ticks": ""
             }
            },
            "marker": {
             "colorbar": {
              "outlinewidth": 0,
              "ticks": ""
             }
            },
            "type": "scatter3d"
           }
          ],
          "scattercarpet": [
           {
            "marker": {
             "colorbar": {
              "outlinewidth": 0,
              "ticks": ""
             }
            },
            "type": "scattercarpet"
           }
          ],
          "scattergeo": [
           {
            "marker": {
             "colorbar": {
              "outlinewidth": 0,
              "ticks": ""
             }
            },
            "type": "scattergeo"
           }
          ],
          "scattergl": [
           {
            "marker": {
             "colorbar": {
              "outlinewidth": 0,
              "ticks": ""
             }
            },
            "type": "scattergl"
           }
          ],
          "scattermap": [
           {
            "marker": {
             "colorbar": {
              "outlinewidth": 0,
              "ticks": ""
             }
            },
            "type": "scattermap"
           }
          ],
          "scattermapbox": [
           {
            "marker": {
             "colorbar": {
              "outlinewidth": 0,
              "ticks": ""
             }
            },
            "type": "scattermapbox"
           }
          ],
          "scatterpolar": [
           {
            "marker": {
             "colorbar": {
              "outlinewidth": 0,
              "ticks": ""
             }
            },
            "type": "scatterpolar"
           }
          ],
          "scatterpolargl": [
           {
            "marker": {
             "colorbar": {
              "outlinewidth": 0,
              "ticks": ""
             }
            },
            "type": "scatterpolargl"
           }
          ],
          "scatterternary": [
           {
            "marker": {
             "colorbar": {
              "outlinewidth": 0,
              "ticks": ""
             }
            },
            "type": "scatterternary"
           }
          ],
          "surface": [
           {
            "colorbar": {
             "outlinewidth": 0,
             "ticks": ""
            },
            "colorscale": [
             [
              0,
              "#0d0887"
             ],
             [
              0.1111111111111111,
              "#46039f"
             ],
             [
              0.2222222222222222,
              "#7201a8"
             ],
             [
              0.3333333333333333,
              "#9c179e"
             ],
             [
              0.4444444444444444,
              "#bd3786"
             ],
             [
              0.5555555555555556,
              "#d8576b"
             ],
             [
              0.6666666666666666,
              "#ed7953"
             ],
             [
              0.7777777777777778,
              "#fb9f3a"
             ],
             [
              0.8888888888888888,
              "#fdca26"
             ],
             [
              1,
              "#f0f921"
             ]
            ],
            "type": "surface"
           }
          ],
          "table": [
           {
            "cells": {
             "fill": {
              "color": "#EBF0F8"
             },
             "line": {
              "color": "white"
             }
            },
            "header": {
             "fill": {
              "color": "#C8D4E3"
             },
             "line": {
              "color": "white"
             }
            },
            "type": "table"
           }
          ]
         },
         "layout": {
          "annotationdefaults": {
           "arrowcolor": "#2a3f5f",
           "arrowhead": 0,
           "arrowwidth": 1
          },
          "autotypenumbers": "strict",
          "coloraxis": {
           "colorbar": {
            "outlinewidth": 0,
            "ticks": ""
           }
          },
          "colorscale": {
           "diverging": [
            [
             0,
             "#8e0152"
            ],
            [
             0.1,
             "#c51b7d"
            ],
            [
             0.2,
             "#de77ae"
            ],
            [
             0.3,
             "#f1b6da"
            ],
            [
             0.4,
             "#fde0ef"
            ],
            [
             0.5,
             "#f7f7f7"
            ],
            [
             0.6,
             "#e6f5d0"
            ],
            [
             0.7,
             "#b8e186"
            ],
            [
             0.8,
             "#7fbc41"
            ],
            [
             0.9,
             "#4d9221"
            ],
            [
             1,
             "#276419"
            ]
           ],
           "sequential": [
            [
             0,
             "#0d0887"
            ],
            [
             0.1111111111111111,
             "#46039f"
            ],
            [
             0.2222222222222222,
             "#7201a8"
            ],
            [
             0.3333333333333333,
             "#9c179e"
            ],
            [
             0.4444444444444444,
             "#bd3786"
            ],
            [
             0.5555555555555556,
             "#d8576b"
            ],
            [
             0.6666666666666666,
             "#ed7953"
            ],
            [
             0.7777777777777778,
             "#fb9f3a"
            ],
            [
             0.8888888888888888,
             "#fdca26"
            ],
            [
             1,
             "#f0f921"
            ]
           ],
           "sequentialminus": [
            [
             0,
             "#0d0887"
            ],
            [
             0.1111111111111111,
             "#46039f"
            ],
            [
             0.2222222222222222,
             "#7201a8"
            ],
            [
             0.3333333333333333,
             "#9c179e"
            ],
            [
             0.4444444444444444,
             "#bd3786"
            ],
            [
             0.5555555555555556,
             "#d8576b"
            ],
            [
             0.6666666666666666,
             "#ed7953"
            ],
            [
             0.7777777777777778,
             "#fb9f3a"
            ],
            [
             0.8888888888888888,
             "#fdca26"
            ],
            [
             1,
             "#f0f921"
            ]
           ]
          },
          "colorway": [
           "#636efa",
           "#EF553B",
           "#00cc96",
           "#ab63fa",
           "#FFA15A",
           "#19d3f3",
           "#FF6692",
           "#B6E880",
           "#FF97FF",
           "#FECB52"
          ],
          "font": {
           "color": "#2a3f5f"
          },
          "geo": {
           "bgcolor": "white",
           "lakecolor": "white",
           "landcolor": "#E5ECF6",
           "showlakes": true,
           "showland": true,
           "subunitcolor": "white"
          },
          "hoverlabel": {
           "align": "left"
          },
          "hovermode": "closest",
          "mapbox": {
           "style": "light"
          },
          "paper_bgcolor": "white",
          "plot_bgcolor": "#E5ECF6",
          "polar": {
           "angularaxis": {
            "gridcolor": "white",
            "linecolor": "white",
            "ticks": ""
           },
           "bgcolor": "#E5ECF6",
           "radialaxis": {
            "gridcolor": "white",
            "linecolor": "white",
            "ticks": ""
           }
          },
          "scene": {
           "xaxis": {
            "backgroundcolor": "#E5ECF6",
            "gridcolor": "white",
            "gridwidth": 2,
            "linecolor": "white",
            "showbackground": true,
            "ticks": "",
            "zerolinecolor": "white"
           },
           "yaxis": {
            "backgroundcolor": "#E5ECF6",
            "gridcolor": "white",
            "gridwidth": 2,
            "linecolor": "white",
            "showbackground": true,
            "ticks": "",
            "zerolinecolor": "white"
           },
           "zaxis": {
            "backgroundcolor": "#E5ECF6",
            "gridcolor": "white",
            "gridwidth": 2,
            "linecolor": "white",
            "showbackground": true,
            "ticks": "",
            "zerolinecolor": "white"
           }
          },
          "shapedefaults": {
           "line": {
            "color": "#2a3f5f"
           }
          },
          "ternary": {
           "aaxis": {
            "gridcolor": "white",
            "linecolor": "white",
            "ticks": ""
           },
           "baxis": {
            "gridcolor": "white",
            "linecolor": "white",
            "ticks": ""
           },
           "bgcolor": "#E5ECF6",
           "caxis": {
            "gridcolor": "white",
            "linecolor": "white",
            "ticks": ""
           }
          },
          "title": {
           "x": 0.05
          },
          "xaxis": {
           "automargin": true,
           "gridcolor": "white",
           "linecolor": "white",
           "ticks": "",
           "title": {
            "standoff": 15
           },
           "zerolinecolor": "white",
           "zerolinewidth": 2
          },
          "yaxis": {
           "automargin": true,
           "gridcolor": "white",
           "linecolor": "white",
           "ticks": "",
           "title": {
            "standoff": 15
           },
           "zerolinecolor": "white",
           "zerolinewidth": 2
          }
         }
        }
       }
      }
     },
     "metadata": {},
     "output_type": "display_data"
    }
   ],
   "source": [
    "# Agrupar por nível de montagem e contar\n",
    "df_assembly = df.copy()\n",
    "df_assembly['Assembly Level'].replace({\"Chromosome\": \"Complete Genome\"}, inplace=True)\n",
    "df_assembly['Assembly Level'].replace({\"Complete Genome\": \"Genoma Completo\"}, inplace=True)\n",
    "df_assembly = df_assembly.groupby('Assembly Level')['Assembly Level'].count().reset_index(name='Quantidade')\n",
    "\n",
    "# Exibir o dataframe resultando\n",
    "display(df_assembly)\n",
    "\n",
    "# Gráfico de pizza\n",
    "fig = px.pie(\n",
    "    df_assembly,\n",
    "    names='Assembly Level',\n",
    "    values='Quantidade',\n",
    "    # title='Distribuição dos genomas por nível de montagem',\n",
    "    color='Assembly Level'\n",
    ")\n",
    "\n",
    "fig.show()\n",
    "\n",
    "# Salvar como imagem\n",
    "fig.write_image(f\"{PATH_GRAPHS}//assembly_level_pie.png\", scale=2, width=800, height=600)"
   ]
  },
  {
   "cell_type": "markdown",
   "id": "ffad97ea",
   "metadata": {},
   "source": [
    "## Rascunho"
   ]
  },
  {
   "cell_type": "code",
   "execution_count": null,
   "id": "35a0b665",
   "metadata": {},
   "outputs": [],
   "source": [
    "path_output = \"c:/Users/Matheus/Documents/UFF/ic/repository/automation/all_maribacter/output/all_maribacter_strict_mafft/\"\n",
    "df = pd.read_csv(f\"{path_output}gene_presence_absence.csv\")\n",
    "display(df)"
   ]
  },
  {
   "cell_type": "code",
   "execution_count": null,
   "id": "3abadab1",
   "metadata": {},
   "outputs": [],
   "source": [
    "df['Gene'].nunique()"
   ]
  }
 ],
 "metadata": {
  "kernelspec": {
   "display_name": "Python 3",
   "language": "python",
   "name": "python3"
  },
  "language_info": {
   "codemirror_mode": {
    "name": "ipython",
    "version": 3
   },
   "file_extension": ".py",
   "mimetype": "text/x-python",
   "name": "python",
   "nbconvert_exporter": "python",
   "pygments_lexer": "ipython3",
   "version": "3.12.10"
  }
 },
 "nbformat": 4,
 "nbformat_minor": 5
}
